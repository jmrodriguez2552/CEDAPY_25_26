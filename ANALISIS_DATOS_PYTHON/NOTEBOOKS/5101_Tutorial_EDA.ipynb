{
 "cells": [
  {
   "cell_type": "markdown",
   "id": "d11abf40",
   "metadata": {
    "papermill": {
     "duration": 0.035266,
     "end_time": "2022-12-13T13:13:29.817585",
     "exception": false,
     "start_time": "2022-12-13T13:13:29.782319",
     "status": "completed"
    },
    "tags": []
   },
   "source": [
    "# Configuración del entorno de trabajo\n",
    "\n",
    "En este notebook realizamos un análisis **exploratorio de los datos (EDA: en inglés Exploratory Data Analysis)**. Este proceso es el que se utiliza para evaluar los datos disponibles y generar un conocimiento general del comportamiento de las variables del problema.\n",
    "\n",
    "\n",
    "Lo primero que necesitamos instalar son librerías de análisis de datos como **pandas** y **numpy**, y librerías de visualización (elegiremos **matplotlib** y **seaborn**). En este notebook utilizaremos el dataset \"iris\", en su versión ofrecida por Seaborn, que es un dataset histórico en la ciencia de datos.\n",
    "\n",
    "![FOTO](./img/iris.jpeg)"
   ]
  },
  {
   "cell_type": "code",
   "execution_count": 1,
   "id": "8da976ce",
   "metadata": {
    "ExecuteTime": {
     "end_time": "2024-01-18T11:01:58.446135Z",
     "start_time": "2024-01-18T11:01:58.435938Z"
    },
    "_cell_guid": "b1076dfc-b9ad-4769-8c92-a6c4dae69d19",
    "_uuid": "8f2839f25d086af736a60e9eeb907d3b93b6e0e5",
    "execution": {
     "iopub.execute_input": "2022-12-13T13:13:29.878755Z",
     "iopub.status.busy": "2022-12-13T13:13:29.878053Z",
     "iopub.status.idle": "2022-12-13T13:13:30.944686Z",
     "shell.execute_reply": "2022-12-13T13:13:30.943701Z"
    },
    "papermill": {
     "duration": 1.100639,
     "end_time": "2022-12-13T13:13:30.947559",
     "exception": false,
     "start_time": "2022-12-13T13:13:29.846920",
     "status": "completed"
    },
    "tags": []
   },
   "outputs": [],
   "source": [
    "import numpy as np\n",
    "import pandas as pd\n",
    "import matplotlib.pyplot as plt\n",
    "import seaborn as sns"
   ]
  },
  {
   "cell_type": "markdown",
   "id": "1c180da9",
   "metadata": {
    "papermill": {
     "duration": 0.029671,
     "end_time": "2022-12-13T13:13:31.007262",
     "exception": false,
     "start_time": "2022-12-13T13:13:30.977591",
     "status": "completed"
    },
    "tags": []
   },
   "source": [
    "# Introducción al Análisis Exploratorio\n",
    "\n",
    "Es fundamental cargar, explorar y entender los datos, su calidad y su comportamiento **antes** de empezar a trabajar con ellos. Este proceso es necesario para tener una aproximación a los datos y debemos hacerlo antes de realizar cualquier análisis. Además, debemos conocer el comportamiento de los datos porque **muchas de las técnicas estadísticas de análisis de datos presuponen el cumplimiento de unas condiciones previas**, como **normalidad**, **no colinearidad** y **escalas comparables** para poder garantizar el funcionamiento correcto de las técnicas.\n",
    "\n",
    "La definición formal de este análisis exploratorio de los datos es: el conjunto de técnicas estadísticas cuyo objetivo es explorar, describir y resumir la naturaleza de los datos y comprender las relaciones existentes entre las variables de interés, maximizando la comprensión del conjunto de datos."
   ]
  },
  {
   "cell_type": "markdown",
   "id": "a336b3a0",
   "metadata": {
    "papermill": {
     "duration": 0.029689,
     "end_time": "2022-12-13T13:13:31.185796",
     "exception": false,
     "start_time": "2022-12-13T13:13:31.156107",
     "status": "completed"
    },
    "tags": []
   },
   "source": [
    "# Análisis Exploratorio de los datos:"
   ]
  },
  {
   "cell_type": "markdown",
   "id": "da407e4a",
   "metadata": {
    "papermill": {
     "duration": 0.029303,
     "end_time": "2022-12-13T13:13:31.244773",
     "exception": false,
     "start_time": "2022-12-13T13:13:31.215470",
     "status": "completed"
    },
    "tags": []
   },
   "source": [
    "# 1) Importando los datos\n",
    "\n",
    "Seguiremos los pasos que ya hemos visto en anteriores ejemplos de análisis exploratorio. \n",
    "- Lo primero que haremos es cargar el dataset que, en esta ocasión, obtenemos directamente del paquete Seaborn.\n",
    "- A continuación, procedemos a visualizar los primeros datos que nos ofrece este dataset utilizando la función **.head()**."
   ]
  },
  {
   "cell_type": "code",
   "execution_count": 2,
   "id": "bc9d1529",
   "metadata": {
    "ExecuteTime": {
     "end_time": "2024-01-18T11:08:47.234486Z",
     "start_time": "2024-01-18T11:08:47.107758Z"
    },
    "execution": {
     "iopub.execute_input": "2022-12-13T13:13:31.309678Z",
     "iopub.status.busy": "2022-12-13T13:13:31.308521Z",
     "iopub.status.idle": "2022-12-13T13:13:31.347989Z",
     "shell.execute_reply": "2022-12-13T13:13:31.346789Z"
    },
    "papermill": {
     "duration": 0.075259,
     "end_time": "2022-12-13T13:13:31.350366",
     "exception": false,
     "start_time": "2022-12-13T13:13:31.275107",
     "status": "completed"
    },
    "tags": []
   },
   "outputs": [
    {
     "data": {
      "text/html": [
       "<div>\n",
       "<style scoped>\n",
       "    .dataframe tbody tr th:only-of-type {\n",
       "        vertical-align: middle;\n",
       "    }\n",
       "\n",
       "    .dataframe tbody tr th {\n",
       "        vertical-align: top;\n",
       "    }\n",
       "\n",
       "    .dataframe thead th {\n",
       "        text-align: right;\n",
       "    }\n",
       "</style>\n",
       "<table border=\"1\" class=\"dataframe\">\n",
       "  <thead>\n",
       "    <tr style=\"text-align: right;\">\n",
       "      <th></th>\n",
       "      <th>sepal_length</th>\n",
       "      <th>sepal_width</th>\n",
       "      <th>petal_length</th>\n",
       "      <th>petal_width</th>\n",
       "      <th>species</th>\n",
       "    </tr>\n",
       "  </thead>\n",
       "  <tbody>\n",
       "    <tr>\n",
       "      <th>0</th>\n",
       "      <td>5.1</td>\n",
       "      <td>3.5</td>\n",
       "      <td>1.4</td>\n",
       "      <td>0.2</td>\n",
       "      <td>setosa</td>\n",
       "    </tr>\n",
       "    <tr>\n",
       "      <th>1</th>\n",
       "      <td>4.9</td>\n",
       "      <td>3.0</td>\n",
       "      <td>1.4</td>\n",
       "      <td>0.2</td>\n",
       "      <td>setosa</td>\n",
       "    </tr>\n",
       "    <tr>\n",
       "      <th>2</th>\n",
       "      <td>4.7</td>\n",
       "      <td>3.2</td>\n",
       "      <td>1.3</td>\n",
       "      <td>0.2</td>\n",
       "      <td>setosa</td>\n",
       "    </tr>\n",
       "    <tr>\n",
       "      <th>3</th>\n",
       "      <td>4.6</td>\n",
       "      <td>3.1</td>\n",
       "      <td>1.5</td>\n",
       "      <td>0.2</td>\n",
       "      <td>setosa</td>\n",
       "    </tr>\n",
       "    <tr>\n",
       "      <th>4</th>\n",
       "      <td>5.0</td>\n",
       "      <td>3.6</td>\n",
       "      <td>1.4</td>\n",
       "      <td>0.2</td>\n",
       "      <td>setosa</td>\n",
       "    </tr>\n",
       "  </tbody>\n",
       "</table>\n",
       "</div>"
      ],
      "text/plain": [
       "   sepal_length  sepal_width  petal_length  petal_width species\n",
       "0           5.1          3.5           1.4          0.2  setosa\n",
       "1           4.9          3.0           1.4          0.2  setosa\n",
       "2           4.7          3.2           1.3          0.2  setosa\n",
       "3           4.6          3.1           1.5          0.2  setosa\n",
       "4           5.0          3.6           1.4          0.2  setosa"
      ]
     },
     "execution_count": 2,
     "metadata": {},
     "output_type": "execute_result"
    }
   ],
   "source": [
    "# Carga del dataset\n",
    "df = sns.load_dataset(\"iris\")\n",
    "# Visualización de los primeros \"registros\"\n",
    "df.head()"
   ]
  },
  {
   "cell_type": "markdown",
   "id": "e8f635b0",
   "metadata": {
    "papermill": {
     "duration": 0.029926,
     "end_time": "2022-12-13T13:13:31.411514",
     "exception": false,
     "start_time": "2022-12-13T13:13:31.381588",
     "status": "completed"
    },
    "tags": []
   },
   "source": [
    "# 2) Limpieza de Datos\n",
    "\n",
    "Una vez que hemos cargado los datos y hemos verificado su integridad, pasamos a la limpieza. Ahora revisaremos el formato de los datos, los tipos de datos que tenemos, los valores nulos y haremos un comentario sobre los valores duplicados."
   ]
  },
  {
   "cell_type": "markdown",
   "id": "6a2fbe20",
   "metadata": {
    "papermill": {
     "duration": 0.029571,
     "end_time": "2022-12-13T13:13:31.471374",
     "exception": false,
     "start_time": "2022-12-13T13:13:31.441803",
     "status": "completed"
    },
    "tags": []
   },
   "source": [
    "### 2.1) Tipos de datos\n",
    "\n",
    "Ahora nos interesa familiarizarnos con los tipos de datos de nuestro dataset. Esto sucede por dos motivos, el primero es que nos interesa saber si estamos tratando con texto, valores numéricos, categóricos, números enteros, decimales, y sus medidas estadísticas centrales y de dispersión. Básicamente queremos un resumen matemático de alto nivel sobre los principales estadísticos de nuestro dataset.\n",
    "\n",
    "Si utilizamos el método **.dtypes** sobre el DataFrame veremos que todos los valores de las columnas son numéricos, menos el de la clase que queremos predecir (llamado **species**) que es del tipo string. Pandas llama al tipo string como object, por eso veremos el valor object en la última línea."
   ]
  },
  {
   "cell_type": "code",
   "execution_count": 3,
   "id": "26c38974",
   "metadata": {
    "ExecuteTime": {
     "end_time": "2024-01-18T11:09:05.857487Z",
     "start_time": "2024-01-18T11:09:05.820143Z"
    },
    "execution": {
     "iopub.execute_input": "2022-12-13T13:13:31.533478Z",
     "iopub.status.busy": "2022-12-13T13:13:31.533035Z",
     "iopub.status.idle": "2022-12-13T13:13:31.540956Z",
     "shell.execute_reply": "2022-12-13T13:13:31.540158Z"
    },
    "papermill": {
     "duration": 0.041605,
     "end_time": "2022-12-13T13:13:31.543122",
     "exception": false,
     "start_time": "2022-12-13T13:13:31.501517",
     "status": "completed"
    },
    "tags": []
   },
   "outputs": [
    {
     "data": {
      "text/plain": [
       "sepal_length    float64\n",
       "sepal_width     float64\n",
       "petal_length    float64\n",
       "petal_width     float64\n",
       "species          object\n",
       "dtype: object"
      ]
     },
     "execution_count": 3,
     "metadata": {},
     "output_type": "execute_result"
    }
   ],
   "source": [
    "df.dtypes"
   ]
  },
  {
   "cell_type": "markdown",
   "id": "b9f724f3",
   "metadata": {
    "papermill": {
     "duration": 0.029929,
     "end_time": "2022-12-13T13:13:31.603721",
     "exception": false,
     "start_time": "2022-12-13T13:13:31.573792",
     "status": "completed"
    },
    "tags": []
   },
   "source": [
    "Cuando verificamos el tipo de datos, también suele ser útil verificar el tamaño del Dataset. El dataset es una tabla, por lo que tiene una cantidad de registros igual a la cantidad de filas y una cantidad de variables igual a la cantidad de columnas. El atributo .shape del DataFrame nos permite saber el tamaño del DataFrame. Lo devuelve como una tupla de la forma: (\"número de filas\", \"número de columnas\")"
   ]
  },
  {
   "cell_type": "code",
   "execution_count": 4,
   "id": "f3ee658a",
   "metadata": {
    "ExecuteTime": {
     "end_time": "2024-01-18T11:10:43.376877Z",
     "start_time": "2024-01-18T11:10:43.359590Z"
    },
    "execution": {
     "iopub.execute_input": "2022-12-13T13:13:31.665160Z",
     "iopub.status.busy": "2022-12-13T13:13:31.663998Z",
     "iopub.status.idle": "2022-12-13T13:13:31.669884Z",
     "shell.execute_reply": "2022-12-13T13:13:31.668943Z"
    },
    "papermill": {
     "duration": 0.03892,
     "end_time": "2022-12-13T13:13:31.672075",
     "exception": false,
     "start_time": "2022-12-13T13:13:31.633155",
     "status": "completed"
    },
    "tags": []
   },
   "outputs": [
    {
     "name": "stdout",
     "output_type": "stream",
     "text": [
      "(150, 5)\n",
      "<class 'tuple'>\n"
     ]
    }
   ],
   "source": [
    "print(df.shape)\n",
    "print(type(df.shape))"
   ]
  },
  {
   "cell_type": "markdown",
   "id": "722824b2c546b8e6",
   "metadata": {
    "collapsed": false
   },
   "source": [
    "Si queremos saber los valores 'únicos' que aparecen en una de las columnas (en este caso la que contiene el nombre de la especie), de manera que podamos conocer cuantos tipos de especies se contempla en el dataset, ejecutaremos la función de numpy **.unique()** de la siguiente forma:"
   ]
  },
  {
   "cell_type": "code",
   "execution_count": 5,
   "id": "2e8a05e7",
   "metadata": {
    "ExecuteTime": {
     "end_time": "2024-01-18T11:10:50.981040Z",
     "start_time": "2024-01-18T11:10:50.924686Z"
    },
    "execution": {
     "iopub.execute_input": "2022-12-13T13:13:31.735048Z",
     "iopub.status.busy": "2022-12-13T13:13:31.734316Z",
     "iopub.status.idle": "2022-12-13T13:13:31.747343Z",
     "shell.execute_reply": "2022-12-13T13:13:31.746267Z"
    },
    "papermill": {
     "duration": 0.047986,
     "end_time": "2022-12-13T13:13:31.749966",
     "exception": false,
     "start_time": "2022-12-13T13:13:31.701980",
     "status": "completed"
    },
    "tags": []
   },
   "outputs": [
    {
     "data": {
      "text/plain": [
       "array(['setosa', 'versicolor', 'virginica'], dtype=object)"
      ]
     },
     "execution_count": 5,
     "metadata": {},
     "output_type": "execute_result"
    }
   ],
   "source": [
    "df['species'].unique()"
   ]
  },
  {
   "cell_type": "markdown",
   "id": "c01148e0",
   "metadata": {
    "papermill": {
     "duration": 0.030344,
     "end_time": "2022-12-13T13:13:31.811095",
     "exception": false,
     "start_time": "2022-12-13T13:13:31.780751",
     "status": "completed"
    },
    "tags": []
   },
   "source": [
    "#### Realizamos el split de los datos\n",
    "\n",
    "Ahora que sabemos la cantidad de datos que tenemos, haremos un split entre datos de entrenamiento y de test.\n",
    "\n",
    "¿Por qué hacerlo a esta altura y no al finalizar el EDA? \n",
    "Para asegurarnos de no contaminar nuestro criterio. Al hacer este proceso con los datos con los que se va a entrenar el modelo, se pretende ir descubriendo relaciones en el dataset con la misma información disponible que tendrá el modelo."
   ]
  },
  {
   "cell_type": "code",
   "execution_count": 32,
   "id": "849f60af",
   "metadata": {
    "ExecuteTime": {
     "end_time": "2024-01-18T11:20:03.315277Z",
     "start_time": "2024-01-18T11:20:02.365609Z"
    },
    "execution": {
     "iopub.execute_input": "2022-12-13T13:13:31.874155Z",
     "iopub.status.busy": "2022-12-13T13:13:31.873752Z",
     "iopub.status.idle": "2022-12-13T13:13:32.074680Z",
     "shell.execute_reply": "2022-12-13T13:13:32.073578Z"
    },
    "papermill": {
     "duration": 0.235601,
     "end_time": "2022-12-13T13:13:32.077372",
     "exception": false,
     "start_time": "2022-12-13T13:13:31.841771",
     "status": "completed"
    },
    "tags": []
   },
   "outputs": [],
   "source": [
    "from sklearn.model_selection import train_test_split"
   ]
  },
  {
   "cell_type": "code",
   "execution_count": 7,
   "id": "d3757e3b",
   "metadata": {
    "ExecuteTime": {
     "end_time": "2024-01-18T11:20:04.838832Z",
     "start_time": "2024-01-18T11:20:04.762912Z"
    },
    "execution": {
     "iopub.execute_input": "2022-12-13T13:13:32.154911Z",
     "iopub.status.busy": "2022-12-13T13:13:32.153949Z",
     "iopub.status.idle": "2022-12-13T13:13:32.166788Z",
     "shell.execute_reply": "2022-12-13T13:13:32.165296Z"
    },
    "papermill": {
     "duration": 0.057238,
     "end_time": "2022-12-13T13:13:32.170101",
     "exception": false,
     "start_time": "2022-12-13T13:13:32.112863",
     "status": "completed"
    },
    "tags": []
   },
   "outputs": [],
   "source": [
    "df_train, df_test = train_test_split(df, test_size=0.2, stratify=df['species'])"
   ]
  },
  {
   "cell_type": "markdown",
   "id": "0452f758",
   "metadata": {
    "papermill": {
     "duration": 0.02994,
     "end_time": "2022-12-13T13:13:32.240139",
     "exception": false,
     "start_time": "2022-12-13T13:13:32.210199",
     "status": "completed"
    },
    "tags": []
   },
   "source": [
    "### 2.2) Valores nulos\n",
    "\n",
    "Ahora queremos ver si el dataset tiene valores nulos y qué hacer con ellos en caso de que los tenga. Vemos que este dataset no tiene valores nulos con los métodos que se enseñan debajo, pero en caso de que te interese ver cómo podemos atacar valores nulos, al final del notebook hay algunas ideas de cómo se suelen tratar en la práctica, y algunas ideas para imputarlos, en caso de que quieras hacerlo."
   ]
  },
  {
   "cell_type": "code",
   "execution_count": 8,
   "id": "c0df4e79",
   "metadata": {
    "ExecuteTime": {
     "end_time": "2024-01-18T11:21:08.604537Z",
     "start_time": "2024-01-18T11:21:08.494888Z"
    },
    "execution": {
     "iopub.execute_input": "2022-12-13T13:13:32.303754Z",
     "iopub.status.busy": "2022-12-13T13:13:32.303119Z",
     "iopub.status.idle": "2022-12-13T13:13:32.322090Z",
     "shell.execute_reply": "2022-12-13T13:13:32.320800Z"
    },
    "papermill": {
     "duration": 0.053959,
     "end_time": "2022-12-13T13:13:32.324815",
     "exception": false,
     "start_time": "2022-12-13T13:13:32.270856",
     "status": "completed"
    },
    "tags": []
   },
   "outputs": [
    {
     "name": "stdout",
     "output_type": "stream",
     "text": [
      "<class 'pandas.core.frame.DataFrame'>\n",
      "Index: 120 entries, 138 to 18\n",
      "Data columns (total 5 columns):\n",
      " #   Column        Non-Null Count  Dtype  \n",
      "---  ------        --------------  -----  \n",
      " 0   sepal_length  120 non-null    float64\n",
      " 1   sepal_width   120 non-null    float64\n",
      " 2   petal_length  120 non-null    float64\n",
      " 3   petal_width   120 non-null    float64\n",
      " 4   species       120 non-null    object \n",
      "dtypes: float64(4), object(1)\n",
      "memory usage: 5.6+ KB\n"
     ]
    }
   ],
   "source": [
    "# Una forma de comprobar valores nulos: la función .info() \n",
    "df_train.info()"
   ]
  },
  {
   "cell_type": "code",
   "execution_count": 9,
   "id": "95044270",
   "metadata": {
    "ExecuteTime": {
     "end_time": "2024-01-18T11:22:07.259665Z",
     "start_time": "2024-01-18T11:22:07.189853Z"
    },
    "execution": {
     "iopub.execute_input": "2022-12-13T13:13:32.388040Z",
     "iopub.status.busy": "2022-12-13T13:13:32.387635Z",
     "iopub.status.idle": "2022-12-13T13:13:32.395459Z",
     "shell.execute_reply": "2022-12-13T13:13:32.394178Z"
    },
    "papermill": {
     "duration": 0.043166,
     "end_time": "2022-12-13T13:13:32.398600",
     "exception": false,
     "start_time": "2022-12-13T13:13:32.355434",
     "status": "completed"
    },
    "tags": []
   },
   "outputs": [
    {
     "name": "stdout",
     "output_type": "stream",
     "text": [
      "Column \"sepal_length\" has 0 nulls\n",
      "Column \"sepal_width\" has 0 nulls\n",
      "Column \"petal_length\" has 0 nulls\n",
      "Column \"petal_width\" has 0 nulls\n",
      "Column \"species\" has 0 nulls\n"
     ]
    }
   ],
   "source": [
    "# Otra manera de comprobar nulos: usando el método isna() y recorriendo las columnas del dataset\n",
    "for column in df_train.columns:\n",
    "    num_nulls = df_train[column].isna().sum()\n",
    "    print(f'Column \"{column}\" has {num_nulls} nulls')"
   ]
  },
  {
   "cell_type": "markdown",
   "id": "f5a0fb41",
   "metadata": {
    "papermill": {
     "duration": 0.030713,
     "end_time": "2022-12-13T13:13:32.460979",
     "exception": false,
     "start_time": "2022-12-13T13:13:32.430266",
     "status": "completed"
    },
    "tags": []
   },
   "source": [
    "### 2.3) Valores duplicados\n",
    "\n",
    "En este caso, los valores duplicados no nos interesan por **dos razones**.  \n",
    "- La primera es porque sabemos que el dataset no contiene valores duplicados que no deban tenerse en cuenta para el análisis. Esto en la práctica no lo sabríamos, pero como es un dataset clásico esta información es conocida. \n",
    "- La segunda es que si miramos el tamaño de nuestro dataset, tenemos solamente 150 registros, por lo que si eliminamos duplicados corremos el riesgo de no poder realizar un análisis suficiente con los datos que nos queden.\n",
    "\n",
    "Aún así, para comprobar cómo podríamos realizar esta parte del EDA, se mostrará debajo a pesar de que no se realizarán cambios reales sobre el DataFrame.\n",
    "\n",
    "Primero buscaremos los valores repetidos en el dataframe.  \n",
    "Esto podemos hacerlo con el método **.duplicated()**. Este método devuelve una serie de True/False que tiene True en la posición donde hay un duplicado y False en la posición donde no la hay. Si le pasamos eso al DataFrame original, es como si se filtrase por los valores que están duplicados.\n",
    "\n",
    "Una observación es que el método duplicated por defecto borra el primer elemento repetido, pero como interesa ver todos los elementos, se le pasa el argumento \"keep\" como False, lo que significa que se desea ver todos los valores repetidos."
   ]
  },
  {
   "cell_type": "code",
   "execution_count": 10,
   "id": "cbae731ebbd34330",
   "metadata": {
    "ExecuteTime": {
     "end_time": "2024-01-18T11:33:59.850381Z",
     "start_time": "2024-01-18T11:33:59.823007Z"
    },
    "collapsed": false
   },
   "outputs": [
    {
     "data": {
      "text/plain": [
       "138    False\n",
       "104    False\n",
       "12     False\n",
       "63     False\n",
       "47     False\n",
       "       ...  \n",
       "39     False\n",
       "131    False\n",
       "136    False\n",
       "126    False\n",
       "18     False\n",
       "Length: 120, dtype: bool"
      ]
     },
     "execution_count": 10,
     "metadata": {},
     "output_type": "execute_result"
    }
   ],
   "source": [
    "df_train.duplicated(keep=False)"
   ]
  },
  {
   "cell_type": "markdown",
   "id": "81bb6899dcc9f22e",
   "metadata": {
    "collapsed": false
   },
   "source": [
    "\"Filtramos\" el dataset para mostrar solo los registros duplicados, usando como parámetro la función **.duplicated()**:"
   ]
  },
  {
   "cell_type": "code",
   "execution_count": 11,
   "id": "59474e7e",
   "metadata": {
    "ExecuteTime": {
     "end_time": "2024-01-18T11:25:53.552592Z",
     "start_time": "2024-01-18T11:25:53.519074Z"
    },
    "execution": {
     "iopub.execute_input": "2022-12-13T13:13:32.525016Z",
     "iopub.status.busy": "2022-12-13T13:13:32.524252Z",
     "iopub.status.idle": "2022-12-13T13:13:32.539374Z",
     "shell.execute_reply": "2022-12-13T13:13:32.538201Z"
    },
    "papermill": {
     "duration": 0.050261,
     "end_time": "2022-12-13T13:13:32.541772",
     "exception": false,
     "start_time": "2022-12-13T13:13:32.491511",
     "status": "completed"
    },
    "tags": []
   },
   "outputs": [
    {
     "data": {
      "text/html": [
       "<div>\n",
       "<style scoped>\n",
       "    .dataframe tbody tr th:only-of-type {\n",
       "        vertical-align: middle;\n",
       "    }\n",
       "\n",
       "    .dataframe tbody tr th {\n",
       "        vertical-align: top;\n",
       "    }\n",
       "\n",
       "    .dataframe thead th {\n",
       "        text-align: right;\n",
       "    }\n",
       "</style>\n",
       "<table border=\"1\" class=\"dataframe\">\n",
       "  <thead>\n",
       "    <tr style=\"text-align: right;\">\n",
       "      <th></th>\n",
       "      <th>sepal_length</th>\n",
       "      <th>sepal_width</th>\n",
       "      <th>petal_length</th>\n",
       "      <th>petal_width</th>\n",
       "      <th>species</th>\n",
       "    </tr>\n",
       "  </thead>\n",
       "  <tbody>\n",
       "    <tr>\n",
       "      <th>142</th>\n",
       "      <td>5.8</td>\n",
       "      <td>2.7</td>\n",
       "      <td>5.1</td>\n",
       "      <td>1.9</td>\n",
       "      <td>virginica</td>\n",
       "    </tr>\n",
       "    <tr>\n",
       "      <th>101</th>\n",
       "      <td>5.8</td>\n",
       "      <td>2.7</td>\n",
       "      <td>5.1</td>\n",
       "      <td>1.9</td>\n",
       "      <td>virginica</td>\n",
       "    </tr>\n",
       "  </tbody>\n",
       "</table>\n",
       "</div>"
      ],
      "text/plain": [
       "     sepal_length  sepal_width  petal_length  petal_width    species\n",
       "142           5.8          2.7           5.1          1.9  virginica\n",
       "101           5.8          2.7           5.1          1.9  virginica"
      ]
     },
     "execution_count": 11,
     "metadata": {},
     "output_type": "execute_result"
    }
   ],
   "source": [
    "df_train[df_train.duplicated(keep=False)]"
   ]
  },
  {
   "cell_type": "markdown",
   "id": "66d65596",
   "metadata": {
    "papermill": {
     "duration": 0.031695,
     "end_time": "2022-12-13T13:13:32.604554",
     "exception": false,
     "start_time": "2022-12-13T13:13:32.572859",
     "status": "completed"
    },
    "tags": []
   },
   "source": [
    "Si se desea eliminar estos registros duplicados, se puede utilizar el método drop_duplicates, que elimina todas las apariciones de duplicados en el dataset, menos la primera."
   ]
  },
  {
   "cell_type": "code",
   "execution_count": 12,
   "id": "d88aecbe",
   "metadata": {
    "ExecuteTime": {
     "end_time": "2024-01-18T11:26:39.922697Z",
     "start_time": "2024-01-18T11:26:39.889390Z"
    },
    "execution": {
     "iopub.execute_input": "2022-12-13T13:13:32.669265Z",
     "iopub.status.busy": "2022-12-13T13:13:32.668040Z",
     "iopub.status.idle": "2022-12-13T13:13:32.687626Z",
     "shell.execute_reply": "2022-12-13T13:13:32.686469Z"
    },
    "papermill": {
     "duration": 0.05458,
     "end_time": "2022-12-13T13:13:32.689881",
     "exception": false,
     "start_time": "2022-12-13T13:13:32.635301",
     "status": "completed"
    },
    "tags": []
   },
   "outputs": [
    {
     "data": {
      "text/html": [
       "<div>\n",
       "<style scoped>\n",
       "    .dataframe tbody tr th:only-of-type {\n",
       "        vertical-align: middle;\n",
       "    }\n",
       "\n",
       "    .dataframe tbody tr th {\n",
       "        vertical-align: top;\n",
       "    }\n",
       "\n",
       "    .dataframe thead th {\n",
       "        text-align: right;\n",
       "    }\n",
       "</style>\n",
       "<table border=\"1\" class=\"dataframe\">\n",
       "  <thead>\n",
       "    <tr style=\"text-align: right;\">\n",
       "      <th></th>\n",
       "      <th>sepal_length</th>\n",
       "      <th>sepal_width</th>\n",
       "      <th>petal_length</th>\n",
       "      <th>petal_width</th>\n",
       "      <th>species</th>\n",
       "    </tr>\n",
       "  </thead>\n",
       "  <tbody>\n",
       "    <tr>\n",
       "      <th>138</th>\n",
       "      <td>6.0</td>\n",
       "      <td>3.0</td>\n",
       "      <td>4.8</td>\n",
       "      <td>1.8</td>\n",
       "      <td>virginica</td>\n",
       "    </tr>\n",
       "    <tr>\n",
       "      <th>104</th>\n",
       "      <td>6.5</td>\n",
       "      <td>3.0</td>\n",
       "      <td>5.8</td>\n",
       "      <td>2.2</td>\n",
       "      <td>virginica</td>\n",
       "    </tr>\n",
       "    <tr>\n",
       "      <th>12</th>\n",
       "      <td>4.8</td>\n",
       "      <td>3.0</td>\n",
       "      <td>1.4</td>\n",
       "      <td>0.1</td>\n",
       "      <td>setosa</td>\n",
       "    </tr>\n",
       "    <tr>\n",
       "      <th>63</th>\n",
       "      <td>6.1</td>\n",
       "      <td>2.9</td>\n",
       "      <td>4.7</td>\n",
       "      <td>1.4</td>\n",
       "      <td>versicolor</td>\n",
       "    </tr>\n",
       "    <tr>\n",
       "      <th>47</th>\n",
       "      <td>4.6</td>\n",
       "      <td>3.2</td>\n",
       "      <td>1.4</td>\n",
       "      <td>0.2</td>\n",
       "      <td>setosa</td>\n",
       "    </tr>\n",
       "    <tr>\n",
       "      <th>...</th>\n",
       "      <td>...</td>\n",
       "      <td>...</td>\n",
       "      <td>...</td>\n",
       "      <td>...</td>\n",
       "      <td>...</td>\n",
       "    </tr>\n",
       "    <tr>\n",
       "      <th>39</th>\n",
       "      <td>5.1</td>\n",
       "      <td>3.4</td>\n",
       "      <td>1.5</td>\n",
       "      <td>0.2</td>\n",
       "      <td>setosa</td>\n",
       "    </tr>\n",
       "    <tr>\n",
       "      <th>131</th>\n",
       "      <td>7.9</td>\n",
       "      <td>3.8</td>\n",
       "      <td>6.4</td>\n",
       "      <td>2.0</td>\n",
       "      <td>virginica</td>\n",
       "    </tr>\n",
       "    <tr>\n",
       "      <th>136</th>\n",
       "      <td>6.3</td>\n",
       "      <td>3.4</td>\n",
       "      <td>5.6</td>\n",
       "      <td>2.4</td>\n",
       "      <td>virginica</td>\n",
       "    </tr>\n",
       "    <tr>\n",
       "      <th>126</th>\n",
       "      <td>6.2</td>\n",
       "      <td>2.8</td>\n",
       "      <td>4.8</td>\n",
       "      <td>1.8</td>\n",
       "      <td>virginica</td>\n",
       "    </tr>\n",
       "    <tr>\n",
       "      <th>18</th>\n",
       "      <td>5.7</td>\n",
       "      <td>3.8</td>\n",
       "      <td>1.7</td>\n",
       "      <td>0.3</td>\n",
       "      <td>setosa</td>\n",
       "    </tr>\n",
       "  </tbody>\n",
       "</table>\n",
       "<p>119 rows × 5 columns</p>\n",
       "</div>"
      ],
      "text/plain": [
       "     sepal_length  sepal_width  petal_length  petal_width     species\n",
       "138           6.0          3.0           4.8          1.8   virginica\n",
       "104           6.5          3.0           5.8          2.2   virginica\n",
       "12            4.8          3.0           1.4          0.1      setosa\n",
       "63            6.1          2.9           4.7          1.4  versicolor\n",
       "47            4.6          3.2           1.4          0.2      setosa\n",
       "..            ...          ...           ...          ...         ...\n",
       "39            5.1          3.4           1.5          0.2      setosa\n",
       "131           7.9          3.8           6.4          2.0   virginica\n",
       "136           6.3          3.4           5.6          2.4   virginica\n",
       "126           6.2          2.8           4.8          1.8   virginica\n",
       "18            5.7          3.8           1.7          0.3      setosa\n",
       "\n",
       "[119 rows x 5 columns]"
      ]
     },
     "execution_count": 12,
     "metadata": {},
     "output_type": "execute_result"
    }
   ],
   "source": [
    "df_train.drop_duplicates()"
   ]
  },
  {
   "cell_type": "markdown",
   "id": "51cd96f0",
   "metadata": {
    "papermill": {
     "duration": 0.032039,
     "end_time": "2022-12-13T13:13:32.752667",
     "exception": false,
     "start_time": "2022-12-13T13:13:32.720628",
     "status": "completed"
    },
    "tags": []
   },
   "source": [
    "Se puede comprobar que el DataFrame resultante tiene 119 filas en lugar de 120 (hemos eliminado 1 registro duplicados. OJO: Esto es probable que varíe cada vez que se ejecute el split).  \n",
    "A tener en cuenta que, en este punto en realidad, no hemos tocado el DataFrame. La operación de .drop_duplicates no es una operación inplace. Es decir que si no sobreescribimos el dataframe df con df.drop_duplicates o lo guardamos en otro dataframe, no cambiará nada. Si no queremos tener que redefinir otro dataframe o sobreescribirlo, la función también tiene un argumento inplace que si cambiamos a True modificará el DataFrame df (en este caso no nos devolverá nada en pantalla).\n",
    "\n",
    "```python\n",
    "# Método 1: Sobreescribir el valor de df\n",
    "df = df.drop_duplicates()\n",
    "\n",
    "# Método 2: Guardar el valor en otra variable\n",
    "df_dedup = df.drop_duplicates()\n",
    "\n",
    "# Método 3: Sobreescribir inplace\n",
    "df.drop_duplicates(inplace=True)\n",
    "```"
   ]
  },
  {
   "cell_type": "markdown",
   "id": "dae41b00",
   "metadata": {
    "papermill": {
     "duration": 0.030181,
     "end_time": "2022-12-13T13:13:32.813607",
     "exception": false,
     "start_time": "2022-12-13T13:13:32.783426",
     "status": "completed"
    },
    "tags": []
   },
   "source": [
    "# 3) Visualización\n",
    "\n",
    "Una vez que hemos terminado el proceso de limpieza, pasamos al análisis visual de los datos. Realizaremos análisis univariante y multivariante. Para ello usaremos el paquete gráfico Seaborn."
   ]
  },
  {
   "cell_type": "markdown",
   "id": "a7e4ad91",
   "metadata": {
    "papermill": {
     "duration": 0.029801,
     "end_time": "2022-12-13T13:13:32.873658",
     "exception": false,
     "start_time": "2022-12-13T13:13:32.843857",
     "status": "completed"
    },
    "tags": []
   },
   "source": [
    "## 3.1) Análisis univariante\n",
    "\n",
    "El análisis univariante se centra en una única variable a la vez. No nos interesa ver el comportamiento de la variable en relación a las demás, sino en relación a si misma. \n",
    "¿Cómo es su distribución? ¿Es una categoría o una variable continua? ¿Hay alguna variable que nos llame la atención? Todo esto es lo que queremos responder en este análisis."
   ]
  },
  {
   "cell_type": "markdown",
   "id": "bb112317",
   "metadata": {
    "papermill": {
     "duration": 0.029814,
     "end_time": "2022-12-13T13:13:32.933544",
     "exception": false,
     "start_time": "2022-12-13T13:13:32.903730",
     "status": "completed"
    },
    "tags": []
   },
   "source": [
    "#### sepal_length\n",
    "\n",
    "La primera variable es sepal_length. Si se observa la imagen de debajo, se puede ver lo que representa el \"sepal length\" en cada una de estas flores. Para este análisis, será una de las variables que se usará para intentar predecir el tipo de flor, pues no se conoce nada sobre este tipo de planta.\n",
    "\n",
    "![iris2.png](./img/iris2.png)"
   ]
  },
  {
   "cell_type": "code",
   "execution_count": 13,
   "id": "ee1a008f",
   "metadata": {
    "ExecuteTime": {
     "end_time": "2024-01-18T11:46:36.051150Z",
     "start_time": "2024-01-18T11:46:35.656868Z"
    },
    "execution": {
     "iopub.execute_input": "2022-12-13T13:13:32.997236Z",
     "iopub.status.busy": "2022-12-13T13:13:32.996150Z",
     "iopub.status.idle": "2022-12-13T13:13:33.282238Z",
     "shell.execute_reply": "2022-12-13T13:13:33.280967Z"
    },
    "papermill": {
     "duration": 0.32034,
     "end_time": "2022-12-13T13:13:33.284848",
     "exception": false,
     "start_time": "2022-12-13T13:13:32.964508",
     "status": "completed"
    },
    "tags": []
   },
   "outputs": [
    {
     "data": {
      "text/plain": [
       "<Axes: xlabel='sepal_length', ylabel='Count'>"
      ]
     },
     "execution_count": 13,
     "metadata": {},
     "output_type": "execute_result"
    },
    {
     "data": {
      "image/png": "[encoded data removed]",
      "text/plain": [
       "<Figure size 700x500 with 1 Axes>"
      ]
     },
     "metadata": {},
     "output_type": "display_data"
    }
   ],
   "source": [
    "plt.figure(figsize=(7, 5))\n",
    "sns.histplot(data=df_train, x='sepal_length', bins=11)"
   ]
  },
  {
   "cell_type": "markdown",
   "id": "1a596107",
   "metadata": {
    "papermill": {
     "duration": 0.031034,
     "end_time": "2022-12-13T13:13:33.348796",
     "exception": false,
     "start_time": "2022-12-13T13:13:33.317762",
     "status": "completed"
    },
    "tags": []
   },
   "source": [
    "Vemos que la distribución de esta variable no es exactamente una [distribución normal](https://es.wikipedia.org/wiki/Distribuci%C3%B3n_normal), pero tiene una cierta forma de campana. La mayoría de los valores se encuentran entre 5 y 6.5"
   ]
  },
  {
   "cell_type": "markdown",
   "id": "c83fdf64",
   "metadata": {
    "papermill": {
     "duration": 0.031317,
     "end_time": "2022-12-13T13:13:33.411376",
     "exception": false,
     "start_time": "2022-12-13T13:13:33.380059",
     "status": "completed"
    },
    "tags": []
   },
   "source": [
    "#### sepal_width\n",
    "\n",
    "Veamos ahora como se comporta la variable sepal_width. Veremos en el gráfico debajo que esta variable tiene un comportamiento mucho más similar a una distribución normal."
   ]
  },
  {
   "cell_type": "code",
   "execution_count": 14,
   "id": "36498353",
   "metadata": {
    "ExecuteTime": {
     "end_time": "2024-01-18T11:55:16.129353Z",
     "start_time": "2024-01-18T11:55:15.881064Z"
    },
    "execution": {
     "iopub.execute_input": "2022-12-13T13:13:33.476625Z",
     "iopub.status.busy": "2022-12-13T13:13:33.475835Z",
     "iopub.status.idle": "2022-12-13T13:13:33.726125Z",
     "shell.execute_reply": "2022-12-13T13:13:33.724966Z"
    },
    "papermill": {
     "duration": 0.285859,
     "end_time": "2022-12-13T13:13:33.729029",
     "exception": false,
     "start_time": "2022-12-13T13:13:33.443170",
     "status": "completed"
    },
    "tags": []
   },
   "outputs": [
    {
     "data": {
      "text/plain": [
       "<Axes: xlabel='sepal_width', ylabel='Count'>"
      ]
     },
     "execution_count": 14,
     "metadata": {},
     "output_type": "execute_result"
    },
    {
     "data": {
      "image/png": "[encoded data removed]",
      "text/plain": [
       "<Figure size 700x500 with 1 Axes>"
      ]
     },
     "metadata": {},
     "output_type": "display_data"
    }
   ],
   "source": [
    "plt.figure(figsize=(7, 5))\n",
    "sns.histplot(data=df_train, x='sepal_width', bins=11)"
   ]
  },
  {
   "cell_type": "markdown",
   "id": "47046fd3",
   "metadata": {
    "papermill": {
     "duration": 0.031747,
     "end_time": "2022-12-13T13:13:33.792498",
     "exception": false,
     "start_time": "2022-12-13T13:13:33.760751",
     "status": "completed"
    },
    "tags": []
   },
   "source": [
    "#### petal_length\n",
    "\n",
    "Veamos ahora cómo se comporta la variable petal_length. Esta variable también tiene un componente bastante frecuente en algunas distribuciones, y es que tiene una alta concentración de valores al principio, pero luego se comporta como una distribución normal. \n",
    "Veremos al final cómo podemos solucionarlo aplicando una transformación logarítmica."
   ]
  },
  {
   "cell_type": "code",
   "execution_count": 15,
   "id": "63a4a288",
   "metadata": {
    "ExecuteTime": {
     "end_time": "2024-01-18T11:58:21.781302Z",
     "start_time": "2024-01-18T11:58:21.470950Z"
    },
    "execution": {
     "iopub.execute_input": "2022-12-13T13:13:33.859090Z",
     "iopub.status.busy": "2022-12-13T13:13:33.858687Z",
     "iopub.status.idle": "2022-12-13T13:13:34.108009Z",
     "shell.execute_reply": "2022-12-13T13:13:34.107142Z"
    },
    "papermill": {
     "duration": 0.285843,
     "end_time": "2022-12-13T13:13:34.110460",
     "exception": false,
     "start_time": "2022-12-13T13:13:33.824617",
     "status": "completed"
    },
    "tags": []
   },
   "outputs": [
    {
     "data": {
      "text/plain": [
       "<Axes: xlabel='petal_length', ylabel='Count'>"
      ]
     },
     "execution_count": 15,
     "metadata": {},
     "output_type": "execute_result"
    },
    {
     "data": {
      "image/png": "[encoded data removed]",
      "text/plain": [
       "<Figure size 700x500 with 1 Axes>"
      ]
     },
     "metadata": {},
     "output_type": "display_data"
    }
   ],
   "source": [
    "plt.figure(figsize=(7, 5))\n",
    "sns.histplot(data=df_train, x='petal_length', bins=11)"
   ]
  },
  {
   "cell_type": "markdown",
   "id": "7cc26b06",
   "metadata": {
    "papermill": {
     "duration": 0.032066,
     "end_time": "2022-12-13T13:13:34.174681",
     "exception": false,
     "start_time": "2022-12-13T13:13:34.142615",
     "status": "completed"
    },
    "tags": []
   },
   "source": [
    "#### petal_width\n",
    "\n",
    "Analizamos a continuación el comportamiento de la variable petal_width. Esta variable también tiene un componente bastante frecuente en algunas distribuciones, y, al igual que la variable anterior, también tiene una alta concentración de valores al principio, pero luego se comporta como una distribución normal. \n",
    "De igual forma, se verá al final cómo podemos solucionarlo aplicando una transformación logarítmica, aunque probablemente no funcione tan bien como en petal_length"
   ]
  },
  {
   "cell_type": "code",
   "execution_count": 16,
   "id": "dc9fad4c",
   "metadata": {
    "ExecuteTime": {
     "end_time": "2024-01-18T12:00:12.296056Z",
     "start_time": "2024-01-18T12:00:12.004249Z"
    },
    "execution": {
     "iopub.execute_input": "2022-12-13T13:13:34.242835Z",
     "iopub.status.busy": "2022-12-13T13:13:34.242418Z",
     "iopub.status.idle": "2022-12-13T13:13:34.495721Z",
     "shell.execute_reply": "2022-12-13T13:13:34.494498Z"
    },
    "papermill": {
     "duration": 0.290164,
     "end_time": "2022-12-13T13:13:34.498264",
     "exception": false,
     "start_time": "2022-12-13T13:13:34.208100",
     "status": "completed"
    },
    "tags": []
   },
   "outputs": [
    {
     "data": {
      "text/plain": [
       "<Axes: xlabel='petal_width', ylabel='Count'>"
      ]
     },
     "execution_count": 16,
     "metadata": {},
     "output_type": "execute_result"
    },
    {
     "data": {
      "image/png": "[encoded data removed]",
      "text/plain": [
       "<Figure size 700x500 with 1 Axes>"
      ]
     },
     "metadata": {},
     "output_type": "display_data"
    }
   ],
   "source": [
    "plt.figure(figsize=(7, 5))\n",
    "sns.histplot(data=df_train, x='petal_width', bins=11)"
   ]
  },
  {
   "cell_type": "markdown",
   "id": "94ee54e8",
   "metadata": {
    "papermill": {
     "duration": 0.031669,
     "end_time": "2022-12-13T13:13:34.561966",
     "exception": false,
     "start_time": "2022-12-13T13:13:34.530297",
     "status": "completed"
    },
    "tags": []
   },
   "source": [
    "#### species\n",
    "\n",
    "Llegamos al apartado más importante de este proceso: el análisis de la clase que queremos intentar predecir. El objetivo de este problema es predecir el tipo de flor en función de las 4 variables que acabamos de estudiar, así que un buen punto de partida será ver cómo se distribuye la variable.\n",
    "\n",
    "Lo primero que debemos pensar es ¿qué tipo de variable es esta? \n",
    "Se trata de una variable **categórica**, por lo que no podemos hacer un histograma como en los casos anteriores. La forma más sencilla de mostrar la distribución de una variable categórica es por **conteo**, por lo que utilizaremos un countplot de Seaborn."
   ]
  },
  {
   "cell_type": "code",
   "execution_count": 17,
   "id": "d611217c",
   "metadata": {
    "ExecuteTime": {
     "end_time": "2024-01-18T12:01:25.483406Z",
     "start_time": "2024-01-18T12:01:25.179026Z"
    },
    "execution": {
     "iopub.execute_input": "2022-12-13T13:13:34.627330Z",
     "iopub.status.busy": "2022-12-13T13:13:34.626932Z",
     "iopub.status.idle": "2022-12-13T13:13:34.840286Z",
     "shell.execute_reply": "2022-12-13T13:13:34.838979Z"
    },
    "papermill": {
     "duration": 0.249157,
     "end_time": "2022-12-13T13:13:34.842782",
     "exception": false,
     "start_time": "2022-12-13T13:13:34.593625",
     "status": "completed"
    },
    "tags": []
   },
   "outputs": [
    {
     "data": {
      "text/plain": [
       "<Axes: xlabel='species', ylabel='count'>"
      ]
     },
     "execution_count": 17,
     "metadata": {},
     "output_type": "execute_result"
    },
    {
     "data": {
      "image/png": "[encoded data removed]",
      "text/plain": [
       "<Figure size 700x500 with 1 Axes>"
      ]
     },
     "metadata": {},
     "output_type": "display_data"
    }
   ],
   "source": [
    "plt.figure(figsize=(7, 5))\n",
    "sns.countplot(data=df_train, x='species')"
   ]
  },
  {
   "cell_type": "markdown",
   "id": "92f4cddb",
   "metadata": {
    "papermill": {
     "duration": 0.036628,
     "end_time": "2022-12-13T13:13:34.911669",
     "exception": false,
     "start_time": "2022-12-13T13:13:34.875041",
     "status": "completed"
    },
    "tags": []
   },
   "source": [
    "A primera vista, da la impresión de que todas las clases tienen la misma representación, que es el caso ideal. En el caso de clases desbalanceadas, tenemos que ver cómo podemos rebalancear las clases para que nuestro modelo pueda aprender lo suficiente de cada clase y no priorizar una sobre otra, o incluso predecir siempre una si el desbalance es muy grande.\n",
    "\n",
    "Dado que el gráfico puede ser engañoso, se realiza a continuación una pequeña verificación solo para asegurarnos de la distribución."
   ]
  },
  {
   "cell_type": "code",
   "execution_count": 18,
   "id": "d93cb673",
   "metadata": {
    "ExecuteTime": {
     "end_time": "2024-01-18T12:03:05.319877Z",
     "start_time": "2024-01-18T12:03:05.284281Z"
    },
    "execution": {
     "iopub.execute_input": "2022-12-13T13:13:34.980986Z",
     "iopub.status.busy": "2022-12-13T13:13:34.980460Z",
     "iopub.status.idle": "2022-12-13T13:13:34.988656Z",
     "shell.execute_reply": "2022-12-13T13:13:34.987608Z"
    },
    "papermill": {
     "duration": 0.045009,
     "end_time": "2022-12-13T13:13:34.990823",
     "exception": false,
     "start_time": "2022-12-13T13:13:34.945814",
     "status": "completed"
    },
    "tags": []
   },
   "outputs": [
    {
     "data": {
      "text/plain": [
       "species\n",
       "virginica     40\n",
       "setosa        40\n",
       "versicolor    40\n",
       "Name: count, dtype: int64"
      ]
     },
     "execution_count": 18,
     "metadata": {},
     "output_type": "execute_result"
    }
   ],
   "source": [
    "df_train['species'].value_counts()"
   ]
  },
  {
   "cell_type": "markdown",
   "id": "8a9798f3",
   "metadata": {
    "papermill": {
     "duration": 0.032815,
     "end_time": "2022-12-13T13:13:35.058039",
     "exception": false,
     "start_time": "2022-12-13T13:13:35.025224",
     "status": "completed"
    },
    "tags": []
   },
   "source": [
    "## Análisis Bivariante\n",
    "\n",
    "Una vez se ha comprobado como se comportan los datos por sí mismos, nos interesa ver cómo se comportan los datos en relación a los demás. Como las 4 variables independientes son numéricas, podemos utilizar un \"pequeño truco\" para graficar rápidamente las relaciones entre todas ellas utilizando un **pairplot** de Seaborn. En la práctica, si hay muchas variables, es posible que antes tengamos que hacer, por ejemplo, un estudio de correlación que nos permita quitar algunas variables irrelevantes, para analizar únicamente las variables relevantes y/o correladas."
   ]
  },
  {
   "cell_type": "code",
   "execution_count": 19,
   "id": "4e1e0f5a",
   "metadata": {
    "ExecuteTime": {
     "end_time": "2024-01-18T12:10:25.358824Z",
     "start_time": "2024-01-18T12:10:20.233806Z"
    },
    "execution": {
     "iopub.execute_input": "2022-12-13T13:13:35.127608Z",
     "iopub.status.busy": "2022-12-13T13:13:35.126856Z",
     "iopub.status.idle": "2022-12-13T13:13:38.417918Z",
     "shell.execute_reply": "2022-12-13T13:13:38.416867Z"
    },
    "papermill": {
     "duration": 3.329171,
     "end_time": "2022-12-13T13:13:38.420648",
     "exception": false,
     "start_time": "2022-12-13T13:13:35.091477",
     "status": "completed"
    },
    "tags": []
   },
   "outputs": [
    {
     "data": {
      "text/plain": [
       "<seaborn.axisgrid.PairGrid at 0x26cff433a10>"
      ]
     },
     "execution_count": 19,
     "metadata": {},
     "output_type": "execute_result"
    },
    {
     "data": {
      "image/png": "[encoded data removed]",
      "text/plain": [
       "<Figure size 1000x1000 with 20 Axes>"
      ]
     },
     "metadata": {},
     "output_type": "display_data"
    }
   ],
   "source": [
    "sns.pairplot(df_train)"
   ]
  },
  {
   "cell_type": "markdown",
   "id": "ef6c4a74",
   "metadata": {
    "papermill": {
     "duration": 0.033503,
     "end_time": "2022-12-13T13:13:38.491369",
     "exception": false,
     "start_time": "2022-12-13T13:13:38.457866",
     "status": "completed"
    },
    "tags": []
   },
   "source": [
    "Vemos que las variables petal_length y petal_width están bastante correlacionadas (el aumento/disminución de una provoca un cambio claro en la otra. En un gráfico esto se traduce en la \"alineación\" de valores (puntos) sobre una \"recta\"), y lo mismo se ve para petal_length y sepal_length."
   ]
  },
  {
   "cell_type": "markdown",
   "id": "1e5f6f3d",
   "metadata": {
    "papermill": {
     "duration": 0.033317,
     "end_time": "2022-12-13T13:13:38.559200",
     "exception": false,
     "start_time": "2022-12-13T13:13:38.525883",
     "status": "completed"
    },
    "tags": []
   },
   "source": [
    "## Análisis Multivariable\n",
    "\n",
    "Finalmente, podemos introducir una variable más a este proceso, que será la variable a predecir \"species\". Podemos hacerlo introduciendo un hue en el pairplot para ver si podemos visualizar rápidamente alguna frontera de separación entre las 3 especies de flores."
   ]
  },
  {
   "cell_type": "code",
   "execution_count": 20,
   "id": "a8e24fbf",
   "metadata": {
    "ExecuteTime": {
     "end_time": "2024-01-18T12:15:56.604166Z",
     "start_time": "2024-01-18T12:15:52.420935Z"
    },
    "execution": {
     "iopub.execute_input": "2022-12-13T13:13:38.629849Z",
     "iopub.status.busy": "2022-12-13T13:13:38.629441Z",
     "iopub.status.idle": "2022-12-13T13:13:43.389886Z",
     "shell.execute_reply": "2022-12-13T13:13:43.388544Z"
    },
    "papermill": {
     "duration": 4.800951,
     "end_time": "2022-12-13T13:13:43.394486",
     "exception": false,
     "start_time": "2022-12-13T13:13:38.593535",
     "status": "completed"
    },
    "tags": []
   },
   "outputs": [
    {
     "data": {
      "text/plain": [
       "<seaborn.axisgrid.PairGrid at 0x26c8372b5d0>"
      ]
     },
     "execution_count": 20,
     "metadata": {},
     "output_type": "execute_result"
    },
    {
     "data": {
      "image/png": "[encoded data removed]",
      "text/plain": [
       "<Figure size 1117.75x1000 with 20 Axes>"
      ]
     },
     "metadata": {},
     "output_type": "display_data"
    }
   ],
   "source": [
    "sns.pairplot(df_train, hue='species')"
   ]
  },
  {
   "cell_type": "markdown",
   "id": "2a2852a4",
   "metadata": {
    "papermill": {
     "duration": 0.038572,
     "end_time": "2022-12-13T13:13:43.472248",
     "exception": false,
     "start_time": "2022-12-13T13:13:43.433676",
     "status": "completed"
    },
    "tags": []
   },
   "source": [
    "El gráfico que se muestra encima es muy informativo. Vemos que claramente existe una frontera de separación entre los datos, por lo que es probable que nuestro problema se pueda resolver de forma analítica consiguiendo un buen resultado."
   ]
  },
  {
   "cell_type": "markdown",
   "id": "f6fc98e0",
   "metadata": {
    "papermill": {
     "duration": 0.037317,
     "end_time": "2022-12-13T13:13:43.546323",
     "exception": false,
     "start_time": "2022-12-13T13:13:43.509006",
     "status": "completed"
    },
    "tags": []
   },
   "source": [
    "## Análisis de correlación\n",
    "\n",
    "Este análisis siempre es muy importante en las variables numéricas, y sobre todo en los modelos lineales (aunque debemos revisarlo siempre). La multicolinearidad es un gran problema en el cálculo matricial, por lo que debemos evitar a toda costa variables con correlación alta, ya que ello significa que se están introduciendo datos al modelo que luego entrenaremos para resolver el problema que pueden provocar la ineficiencia del mismo.\n",
    "\n",
    "**NOTA:**\n",
    "Un modelo de regresión lineal posee un problema de multicolinealidad, cuando existe correlación entre tres o más variables independientes, reduciendo así el poder predictivo de las variables independientes con respecto al modelo. Si la correlación se da entre dos variables independientes, se habla de colinealidad. Por ejemplo: Si se dispone de un modelo de regresión lineal en el que la variable dependiente es el salario actual y las variables independientes sean la edad y los años de experiencia, pero probablemente la edad y los años de experiencia estén asociados; entonces la edad va a proporcionar información para predecir, pero los años de experiencia probablemente también den información que ya pudo haber dado la variable edad. En consecuencia, se está provocando un problema, en este caso de colinealidad, donde el modelo no será adecuado, pues las variables independientes están ofreciendo información redundante.\n",
    "¿Cómo solucionar el problema de multicolinealidad? Se puede, entre otras medidas, mejorar el diseño muestral extrayendo la información máxima de las variables observadas, eliminando las variables que se sospechen son causantes de multicolinealidad, o en caso de disponer de pocas observaciones, aumentar el tamaño de la muestra.\n",
    "\n",
    "Algunos errores comunes que se cometen en el análisis de correlación:\n",
    "\n",
    "- Incluir variables categóricas: La correlación (de Pearson) se calcula como el ratio entre la covarianza entre dos variables y la raíz del producto de sus varianzas. Esto significa que las **variables que utilicemos en el análisis de correlación deberán ser continuas**.\n",
    "- No definir la escala correcta: La correlación está entre 0 y 1, pero muchas veces cuando graficamos veremos que la escala de colores se ajusta al valor mínimo y máximo de nuestra escala. Es muy poco probable tener dos variables que tengan correlación 0 y 1, y, por lo tanto, la escala variará entre estos dos valores y no entre 0 y 1, esto nos puede llevar a pensar que una diferencia entre dos valores es mayor de lo que es en realidad. Para solucionar esto se suelen imponer los valores máximos y mínimos del mapa de calor.\n",
    "- Tomar correlación \"buena\" o \"mala\" basada en un número arbitrario: Muchas veces veremos declaraciones como \"correlación por encima de 0.7 es muy alta\" o lo contrario. En la realidad debemos apoyarnos en el gráfico y el valor de la correlación a la vez para poder tomar una decisión más acertada.\n",
    "- No graficar los valores de la correlación sobre los gráficos en el heatmap: Los valores ayudan a resolver esas diferencias en las que no estamos seguros de si lo que vemos es una correlación muy alta o regular. Para esto le pasaremos al heatmap el parámetro annot=True"
   ]
  },
  {
   "cell_type": "code",
   "execution_count": 21,
   "id": "c28308a5",
   "metadata": {
    "ExecuteTime": {
     "end_time": "2024-01-18T13:30:36.496985Z",
     "start_time": "2024-01-18T13:30:35.971598Z"
    },
    "execution": {
     "iopub.execute_input": "2022-12-13T13:13:43.622094Z",
     "iopub.status.busy": "2022-12-13T13:13:43.621698Z",
     "iopub.status.idle": "2022-12-13T13:13:43.968313Z",
     "shell.execute_reply": "2022-12-13T13:13:43.966964Z"
    },
    "papermill": {
     "duration": 0.387719,
     "end_time": "2022-12-13T13:13:43.970870",
     "exception": false,
     "start_time": "2022-12-13T13:13:43.583151",
     "status": "completed"
    },
    "tags": []
   },
   "outputs": [
    {
     "data": {
      "text/plain": [
       "<Axes: >"
      ]
     },
     "execution_count": 21,
     "metadata": {},
     "output_type": "execute_result"
    },
    {
     "data": {
      "image/png": "[encoded data removed]",
      "text/plain": [
       "<Figure size 640x480 with 2 Axes>"
      ]
     },
     "metadata": {},
     "output_type": "display_data"
    }
   ],
   "source": [
    "sns.heatmap(df_train.corr(numeric_only=True), vmin=-1, vmax=1, cmap='Spectral', annot=True)"
   ]
  },
  {
   "cell_type": "markdown",
   "id": "7ca341bd",
   "metadata": {
    "papermill": {
     "duration": 0.036998,
     "end_time": "2022-12-13T13:13:44.045155",
     "exception": false,
     "start_time": "2022-12-13T13:13:44.008157",
     "status": "completed"
    },
    "tags": []
   },
   "source": [
    "Se ve claramente que la correlación entre petal_length y sepal_length y la de petal_length y petal_width es alta, como habíamos visto en los demás análisis. Esto confirma nuestra teoría. Veamos que pasa con la escala si no aclaramos los valores de vmax y vmin..."
   ]
  },
  {
   "cell_type": "code",
   "execution_count": 22,
   "id": "78ffb6b5",
   "metadata": {
    "ExecuteTime": {
     "end_time": "2024-01-18T13:30:26.483808Z",
     "start_time": "2024-01-18T13:30:26.108790Z"
    },
    "execution": {
     "iopub.execute_input": "2022-12-13T13:13:44.121796Z",
     "iopub.status.busy": "2022-12-13T13:13:44.120854Z",
     "iopub.status.idle": "2022-12-13T13:13:44.625509Z",
     "shell.execute_reply": "2022-12-13T13:13:44.624291Z"
    },
    "papermill": {
     "duration": 0.54558,
     "end_time": "2022-12-13T13:13:44.628018",
     "exception": false,
     "start_time": "2022-12-13T13:13:44.082438",
     "status": "completed"
    },
    "tags": []
   },
   "outputs": [
    {
     "data": {
      "text/plain": [
       "<Axes: >"
      ]
     },
     "execution_count": 22,
     "metadata": {},
     "output_type": "execute_result"
    },
    {
     "data": {
      "image/png": "[encoded data removed]",
      "text/plain": [
       "<Figure size 640x480 with 2 Axes>"
      ]
     },
     "metadata": {},
     "output_type": "display_data"
    }
   ],
   "source": [
    "sns.heatmap(df_train.corr(numeric_only=True), cmap='Spectral', annot=True)"
   ]
  },
  {
   "cell_type": "markdown",
   "id": "e50eba0f",
   "metadata": {
    "papermill": {
     "duration": 0.037648,
     "end_time": "2022-12-13T13:13:44.707072",
     "exception": false,
     "start_time": "2022-12-13T13:13:44.669424",
     "status": "completed"
    },
    "tags": []
   },
   "source": [
    "Vemos que los colores son más intensos (deberían) porque la escala es más acotada, por lo que el cambio pequeño afecta bastante a la percepción de la diferencia entre los valores de correlación."
   ]
  },
  {
   "cell_type": "markdown",
   "id": "940aa0d7",
   "metadata": {
    "papermill": {
     "duration": 0.038034,
     "end_time": "2022-12-13T13:13:44.783474",
     "exception": false,
     "start_time": "2022-12-13T13:13:44.745440",
     "status": "completed"
    },
    "tags": []
   },
   "source": [
    "## Presentando un modelo\n",
    "\n",
    "Aún no hemos resuelto el problema de valores numéricos. La clase que queremos predecir tiene valores en texto, y aunque algunos modelos de ML lo permiten, generalmente lo ideal es convertir todas las variables a valores numéricos para aprovechar la computación vectorizada de NumPy. Así que debajo convertimos rápidamente los valores de las 3 clases a números."
   ]
  },
  {
   "cell_type": "code",
   "execution_count": 23,
   "id": "d621f0e7",
   "metadata": {
    "ExecuteTime": {
     "end_time": "2024-01-18T13:31:30.444079Z",
     "start_time": "2024-01-18T13:31:30.420821Z"
    },
    "execution": {
     "iopub.execute_input": "2022-12-13T13:13:44.861575Z",
     "iopub.status.busy": "2022-12-13T13:13:44.861094Z",
     "iopub.status.idle": "2022-12-13T13:13:44.868902Z",
     "shell.execute_reply": "2022-12-13T13:13:44.867993Z"
    },
    "papermill": {
     "duration": 0.049416,
     "end_time": "2022-12-13T13:13:44.870951",
     "exception": false,
     "start_time": "2022-12-13T13:13:44.821535",
     "status": "completed"
    },
    "tags": []
   },
   "outputs": [
    {
     "data": {
      "text/plain": [
       "array(['virginica', 'setosa', 'versicolor'], dtype=object)"
      ]
     },
     "execution_count": 23,
     "metadata": {},
     "output_type": "execute_result"
    }
   ],
   "source": [
    "df_train['species'].unique()"
   ]
  },
  {
   "cell_type": "code",
   "execution_count": 24,
   "id": "8e00608e",
   "metadata": {
    "ExecuteTime": {
     "end_time": "2024-01-18T13:32:07.787965Z",
     "start_time": "2024-01-18T13:32:07.753339Z"
    },
    "execution": {
     "iopub.execute_input": "2022-12-13T13:13:44.949129Z",
     "iopub.status.busy": "2022-12-13T13:13:44.948086Z",
     "iopub.status.idle": "2022-12-13T13:13:44.964868Z",
     "shell.execute_reply": "2022-12-13T13:13:44.963511Z"
    },
    "papermill": {
     "duration": 0.058767,
     "end_time": "2022-12-13T13:13:44.967459",
     "exception": false,
     "start_time": "2022-12-13T13:13:44.908692",
     "status": "completed"
    },
    "tags": []
   },
   "outputs": [
    {
     "data": {
      "text/html": [
       "<div>\n",
       "<style scoped>\n",
       "    .dataframe tbody tr th:only-of-type {\n",
       "        vertical-align: middle;\n",
       "    }\n",
       "\n",
       "    .dataframe tbody tr th {\n",
       "        vertical-align: top;\n",
       "    }\n",
       "\n",
       "    .dataframe thead th {\n",
       "        text-align: right;\n",
       "    }\n",
       "</style>\n",
       "<table border=\"1\" class=\"dataframe\">\n",
       "  <thead>\n",
       "    <tr style=\"text-align: right;\">\n",
       "      <th></th>\n",
       "      <th>sepal_length</th>\n",
       "      <th>sepal_width</th>\n",
       "      <th>petal_length</th>\n",
       "      <th>petal_width</th>\n",
       "      <th>species</th>\n",
       "      <th>species_numerical</th>\n",
       "    </tr>\n",
       "  </thead>\n",
       "  <tbody>\n",
       "    <tr>\n",
       "      <th>138</th>\n",
       "      <td>6.0</td>\n",
       "      <td>3.0</td>\n",
       "      <td>4.8</td>\n",
       "      <td>1.8</td>\n",
       "      <td>virginica</td>\n",
       "      <td>2</td>\n",
       "    </tr>\n",
       "    <tr>\n",
       "      <th>104</th>\n",
       "      <td>6.5</td>\n",
       "      <td>3.0</td>\n",
       "      <td>5.8</td>\n",
       "      <td>2.2</td>\n",
       "      <td>virginica</td>\n",
       "      <td>2</td>\n",
       "    </tr>\n",
       "  </tbody>\n",
       "</table>\n",
       "</div>"
      ],
      "text/plain": [
       "     sepal_length  sepal_width  petal_length  petal_width    species  \\\n",
       "138           6.0          3.0           4.8          1.8  virginica   \n",
       "104           6.5          3.0           5.8          2.2  virginica   \n",
       "\n",
       "     species_numerical  \n",
       "138                  2  \n",
       "104                  2  "
      ]
     },
     "execution_count": 24,
     "metadata": {},
     "output_type": "execute_result"
    }
   ],
   "source": [
    "map_target_class = {'setosa': 0, 'versicolor': 1, 'virginica': 2}\n",
    "\n",
    "df_train['species_numerical'] = df_train['species'].map(map_target_class)\n",
    "df_test['species_numerical'] = df_test['species'].map(map_target_class)\n",
    "\n",
    "df_train.head(2)"
   ]
  },
  {
   "cell_type": "code",
   "execution_count": 25,
   "id": "627c0ddf",
   "metadata": {
    "ExecuteTime": {
     "end_time": "2024-01-18T13:32:42.814265Z",
     "start_time": "2024-01-18T13:32:42.262156Z"
    },
    "execution": {
     "iopub.execute_input": "2022-12-13T13:13:45.045919Z",
     "iopub.status.busy": "2022-12-13T13:13:45.045491Z",
     "iopub.status.idle": "2022-12-13T13:13:45.122963Z",
     "shell.execute_reply": "2022-12-13T13:13:45.121848Z"
    },
    "papermill": {
     "duration": 0.119839,
     "end_time": "2022-12-13T13:13:45.125663",
     "exception": false,
     "start_time": "2022-12-13T13:13:45.005824",
     "status": "completed"
    },
    "tags": []
   },
   "outputs": [],
   "source": [
    "from sklearn.linear_model import LogisticRegression\n",
    "from sklearn.metrics import classification_report, confusion_matrix\n",
    "from sklearn.preprocessing import StandardScaler"
   ]
  },
  {
   "cell_type": "code",
   "execution_count": 26,
   "id": "4d9c303a",
   "metadata": {
    "ExecuteTime": {
     "end_time": "2024-01-18T13:32:50.628981Z",
     "start_time": "2024-01-18T13:32:50.612215Z"
    },
    "execution": {
     "iopub.execute_input": "2022-12-13T13:13:45.204494Z",
     "iopub.status.busy": "2022-12-13T13:13:45.204045Z",
     "iopub.status.idle": "2022-12-13T13:13:45.212235Z",
     "shell.execute_reply": "2022-12-13T13:13:45.211006Z"
    },
    "papermill": {
     "duration": 0.049863,
     "end_time": "2022-12-13T13:13:45.214736",
     "exception": false,
     "start_time": "2022-12-13T13:13:45.164873",
     "status": "completed"
    },
    "tags": []
   },
   "outputs": [],
   "source": [
    "X_train = df_train.drop(['species', 'species_numerical'], axis=1)\n",
    "y_train = df_train['species_numerical']\n",
    "X_test  = df_test.drop(['species', 'species_numerical'], axis=1)\n",
    "y_test  = df_test['species_numerical']"
   ]
  },
  {
   "cell_type": "code",
   "execution_count": 27,
   "id": "f9870a5a",
   "metadata": {
    "ExecuteTime": {
     "end_time": "2024-01-18T13:32:57.310980Z",
     "start_time": "2024-01-18T13:32:57.291088Z"
    },
    "execution": {
     "iopub.execute_input": "2022-12-13T13:13:45.292308Z",
     "iopub.status.busy": "2022-12-13T13:13:45.291893Z",
     "iopub.status.idle": "2022-12-13T13:13:45.302362Z",
     "shell.execute_reply": "2022-12-13T13:13:45.301264Z"
    },
    "papermill": {
     "duration": 0.05166,
     "end_time": "2022-12-13T13:13:45.304459",
     "exception": false,
     "start_time": "2022-12-13T13:13:45.252799",
     "status": "completed"
    },
    "tags": []
   },
   "outputs": [],
   "source": [
    "scaler = StandardScaler()\n",
    "X_train = scaler.fit_transform(X_train)\n",
    "X_test  = scaler.transform(X_test)"
   ]
  },
  {
   "cell_type": "code",
   "execution_count": 28,
   "id": "be2543a2",
   "metadata": {
    "ExecuteTime": {
     "end_time": "2024-01-18T13:33:01.406896Z",
     "start_time": "2024-01-18T13:33:01.360341Z"
    },
    "execution": {
     "iopub.execute_input": "2022-12-13T13:13:45.383160Z",
     "iopub.status.busy": "2022-12-13T13:13:45.382721Z",
     "iopub.status.idle": "2022-12-13T13:13:45.402421Z",
     "shell.execute_reply": "2022-12-13T13:13:45.401279Z"
    },
    "papermill": {
     "duration": 0.06229,
     "end_time": "2022-12-13T13:13:45.405040",
     "exception": false,
     "start_time": "2022-12-13T13:13:45.342750",
     "status": "completed"
    },
    "tags": []
   },
   "outputs": [
    {
     "data": {
      "text/html": [
       "<style>#sk-container-id-1 {\n",
       "  /* Definition of color scheme common for light and dark mode */\n",
       "  --sklearn-color-text: #000;\n",
       "  --sklearn-color-text-muted: #666;\n",
       "  --sklearn-color-line: gray;\n",
       "  /* Definition of color scheme for unfitted estimators */\n",
       "  --sklearn-color-unfitted-level-0: #fff5e6;\n",
       "  --sklearn-color-unfitted-level-1: #f6e4d2;\n",
       "  --sklearn-color-unfitted-level-2: #ffe0b3;\n",
       "  --sklearn-color-unfitted-level-3: chocolate;\n",
       "  /* Definition of color scheme for fitted estimators */\n",
       "  --sklearn-color-fitted-level-0: #f0f8ff;\n",
       "  --sklearn-color-fitted-level-1: #d4ebff;\n",
       "  --sklearn-color-fitted-level-2: #b3dbfd;\n",
       "  --sklearn-color-fitted-level-3: cornflowerblue;\n",
       "\n",
       "  /* Specific color for light theme */\n",
       "  --sklearn-color-text-on-default-background: var(--sg-text-color, var(--theme-code-foreground, var(--jp-content-font-color1, black)));\n",
       "  --sklearn-color-background: var(--sg-background-color, var(--theme-background, var(--jp-layout-color0, white)));\n",
       "  --sklearn-color-border-box: var(--sg-text-color, var(--theme-code-foreground, var(--jp-content-font-color1, black)));\n",
       "  --sklearn-color-icon: #696969;\n",
       "\n",
       "  @media (prefers-color-scheme: dark) {\n",
       "    /* Redefinition of color scheme for dark theme */\n",
       "    --sklearn-color-text-on-default-background: var(--sg-text-color, var(--theme-code-foreground, var(--jp-content-font-color1, white)));\n",
       "    --sklearn-color-background: var(--sg-background-color, var(--theme-background, var(--jp-layout-color0, #111)));\n",
       "    --sklearn-color-border-box: var(--sg-text-color, var(--theme-code-foreground, var(--jp-content-font-color1, white)));\n",
       "    --sklearn-color-icon: #878787;\n",
       "  }\n",
       "}\n",
       "\n",
       "#sk-container-id-1 {\n",
       "  color: var(--sklearn-color-text);\n",
       "}\n",
       "\n",
       "#sk-container-id-1 pre {\n",
       "  padding: 0;\n",
       "}\n",
       "\n",
       "#sk-container-id-1 input.sk-hidden--visually {\n",
       "  border: 0;\n",
       "  clip: rect(1px 1px 1px 1px);\n",
       "  clip: rect(1px, 1px, 1px, 1px);\n",
       "  height: 1px;\n",
       "  margin: -1px;\n",
       "  overflow: hidden;\n",
       "  padding: 0;\n",
       "  position: absolute;\n",
       "  width: 1px;\n",
       "}\n",
       "\n",
       "#sk-container-id-1 div.sk-dashed-wrapped {\n",
       "  border: 1px dashed var(--sklearn-color-line);\n",
       "  margin: 0 0.4em 0.5em 0.4em;\n",
       "  box-sizing: border-box;\n",
       "  padding-bottom: 0.4em;\n",
       "  background-color: var(--sklearn-color-background);\n",
       "}\n",
       "\n",
       "#sk-container-id-1 div.sk-container {\n",
       "  /* jupyter's `normalize.less` sets `[hidden] { display: none; }`\n",
       "     but bootstrap.min.css set `[hidden] { display: none !important; }`\n",
       "     so we also need the `!important` here to be able to override the\n",
       "     default hidden behavior on the sphinx rendered scikit-learn.org.\n",
       "     See: https://github.com/scikit-learn/scikit-learn/issues/21755 */\n",
       "  display: inline-block !important;\n",
       "  position: relative;\n",
       "}\n",
       "\n",
       "#sk-container-id-1 div.sk-text-repr-fallback {\n",
       "  display: none;\n",
       "}\n",
       "\n",
       "div.sk-parallel-item,\n",
       "div.sk-serial,\n",
       "div.sk-item {\n",
       "  /* draw centered vertical line to link estimators */\n",
       "  background-image: linear-gradient(var(--sklearn-color-text-on-default-background), var(--sklearn-color-text-on-default-background));\n",
       "  background-size: 2px 100%;\n",
       "  background-repeat: no-repeat;\n",
       "  background-position: center center;\n",
       "}\n",
       "\n",
       "/* Parallel-specific style estimator block */\n",
       "\n",
       "#sk-container-id-1 div.sk-parallel-item::after {\n",
       "  content: \"\";\n",
       "  width: 100%;\n",
       "  border-bottom: 2px solid var(--sklearn-color-text-on-default-background);\n",
       "  flex-grow: 1;\n",
       "}\n",
       "\n",
       "#sk-container-id-1 div.sk-parallel {\n",
       "  display: flex;\n",
       "  align-items: stretch;\n",
       "  justify-content: center;\n",
       "  background-color: var(--sklearn-color-background);\n",
       "  position: relative;\n",
       "}\n",
       "\n",
       "#sk-container-id-1 div.sk-parallel-item {\n",
       "  display: flex;\n",
       "  flex-direction: column;\n",
       "}\n",
       "\n",
       "#sk-container-id-1 div.sk-parallel-item:first-child::after {\n",
       "  align-self: flex-end;\n",
       "  width: 50%;\n",
       "}\n",
       "\n",
       "#sk-container-id-1 div.sk-parallel-item:last-child::after {\n",
       "  align-self: flex-start;\n",
       "  width: 50%;\n",
       "}\n",
       "\n",
       "#sk-container-id-1 div.sk-parallel-item:only-child::after {\n",
       "  width: 0;\n",
       "}\n",
       "\n",
       "/* Serial-specific style estimator block */\n",
       "\n",
       "#sk-container-id-1 div.sk-serial {\n",
       "  display: flex;\n",
       "  flex-direction: column;\n",
       "  align-items: center;\n",
       "  background-color: var(--sklearn-color-background);\n",
       "  padding-right: 1em;\n",
       "  padding-left: 1em;\n",
       "}\n",
       "\n",
       "\n",
       "/* Toggleable style: style used for estimator/Pipeline/ColumnTransformer box that is\n",
       "clickable and can be expanded/collapsed.\n",
       "- Pipeline and ColumnTransformer use this feature and define the default style\n",
       "- Estimators will overwrite some part of the style using the `sk-estimator` class\n",
       "*/\n",
       "\n",
       "/* Pipeline and ColumnTransformer style (default) */\n",
       "\n",
       "#sk-container-id-1 div.sk-toggleable {\n",
       "  /* Default theme specific background. It is overwritten whether we have a\n",
       "  specific estimator or a Pipeline/ColumnTransformer */\n",
       "  background-color: var(--sklearn-color-background);\n",
       "}\n",
       "\n",
       "/* Toggleable label */\n",
       "#sk-container-id-1 label.sk-toggleable__label {\n",
       "  cursor: pointer;\n",
       "  display: flex;\n",
       "  width: 100%;\n",
       "  margin-bottom: 0;\n",
       "  padding: 0.5em;\n",
       "  box-sizing: border-box;\n",
       "  text-align: center;\n",
       "  align-items: start;\n",
       "  justify-content: space-between;\n",
       "  gap: 0.5em;\n",
       "}\n",
       "\n",
       "#sk-container-id-1 label.sk-toggleable__label .caption {\n",
       "  font-size: 0.6rem;\n",
       "  font-weight: lighter;\n",
       "  color: var(--sklearn-color-text-muted);\n",
       "}\n",
       "\n",
       "#sk-container-id-1 label.sk-toggleable__label-arrow:before {\n",
       "  /* Arrow on the left of the label */\n",
       "  content: \"▸\";\n",
       "  float: left;\n",
       "  margin-right: 0.25em;\n",
       "  color: var(--sklearn-color-icon);\n",
       "}\n",
       "\n",
       "#sk-container-id-1 label.sk-toggleable__label-arrow:hover:before {\n",
       "  color: var(--sklearn-color-text);\n",
       "}\n",
       "\n",
       "/* Toggleable content - dropdown */\n",
       "\n",
       "#sk-container-id-1 div.sk-toggleable__content {\n",
       "  display: none;\n",
       "  text-align: left;\n",
       "  /* unfitted */\n",
       "  background-color: var(--sklearn-color-unfitted-level-0);\n",
       "}\n",
       "\n",
       "#sk-container-id-1 div.sk-toggleable__content.fitted {\n",
       "  /* fitted */\n",
       "  background-color: var(--sklearn-color-fitted-level-0);\n",
       "}\n",
       "\n",
       "#sk-container-id-1 div.sk-toggleable__content pre {\n",
       "  margin: 0.2em;\n",
       "  border-radius: 0.25em;\n",
       "  color: var(--sklearn-color-text);\n",
       "  /* unfitted */\n",
       "  background-color: var(--sklearn-color-unfitted-level-0);\n",
       "}\n",
       "\n",
       "#sk-container-id-1 div.sk-toggleable__content.fitted pre {\n",
       "  /* unfitted */\n",
       "  background-color: var(--sklearn-color-fitted-level-0);\n",
       "}\n",
       "\n",
       "#sk-container-id-1 input.sk-toggleable__control:checked~div.sk-toggleable__content {\n",
       "  /* Expand drop-down */\n",
       "  display: block;\n",
       "  width: 100%;\n",
       "  overflow: visible;\n",
       "}\n",
       "\n",
       "#sk-container-id-1 input.sk-toggleable__control:checked~label.sk-toggleable__label-arrow:before {\n",
       "  content: \"▾\";\n",
       "}\n",
       "\n",
       "/* Pipeline/ColumnTransformer-specific style */\n",
       "\n",
       "#sk-container-id-1 div.sk-label input.sk-toggleable__control:checked~label.sk-toggleable__label {\n",
       "  color: var(--sklearn-color-text);\n",
       "  background-color: var(--sklearn-color-unfitted-level-2);\n",
       "}\n",
       "\n",
       "#sk-container-id-1 div.sk-label.fitted input.sk-toggleable__control:checked~label.sk-toggleable__label {\n",
       "  background-color: var(--sklearn-color-fitted-level-2);\n",
       "}\n",
       "\n",
       "/* Estimator-specific style */\n",
       "\n",
       "/* Colorize estimator box */\n",
       "#sk-container-id-1 div.sk-estimator input.sk-toggleable__control:checked~label.sk-toggleable__label {\n",
       "  /* unfitted */\n",
       "  background-color: var(--sklearn-color-unfitted-level-2);\n",
       "}\n",
       "\n",
       "#sk-container-id-1 div.sk-estimator.fitted input.sk-toggleable__control:checked~label.sk-toggleable__label {\n",
       "  /* fitted */\n",
       "  background-color: var(--sklearn-color-fitted-level-2);\n",
       "}\n",
       "\n",
       "#sk-container-id-1 div.sk-label label.sk-toggleable__label,\n",
       "#sk-container-id-1 div.sk-label label {\n",
       "  /* The background is the default theme color */\n",
       "  color: var(--sklearn-color-text-on-default-background);\n",
       "}\n",
       "\n",
       "/* On hover, darken the color of the background */\n",
       "#sk-container-id-1 div.sk-label:hover label.sk-toggleable__label {\n",
       "  color: var(--sklearn-color-text);\n",
       "  background-color: var(--sklearn-color-unfitted-level-2);\n",
       "}\n",
       "\n",
       "/* Label box, darken color on hover, fitted */\n",
       "#sk-container-id-1 div.sk-label.fitted:hover label.sk-toggleable__label.fitted {\n",
       "  color: var(--sklearn-color-text);\n",
       "  background-color: var(--sklearn-color-fitted-level-2);\n",
       "}\n",
       "\n",
       "/* Estimator label */\n",
       "\n",
       "#sk-container-id-1 div.sk-label label {\n",
       "  font-family: monospace;\n",
       "  font-weight: bold;\n",
       "  display: inline-block;\n",
       "  line-height: 1.2em;\n",
       "}\n",
       "\n",
       "#sk-container-id-1 div.sk-label-container {\n",
       "  text-align: center;\n",
       "}\n",
       "\n",
       "/* Estimator-specific */\n",
       "#sk-container-id-1 div.sk-estimator {\n",
       "  font-family: monospace;\n",
       "  border: 1px dotted var(--sklearn-color-border-box);\n",
       "  border-radius: 0.25em;\n",
       "  box-sizing: border-box;\n",
       "  margin-bottom: 0.5em;\n",
       "  /* unfitted */\n",
       "  background-color: var(--sklearn-color-unfitted-level-0);\n",
       "}\n",
       "\n",
       "#sk-container-id-1 div.sk-estimator.fitted {\n",
       "  /* fitted */\n",
       "  background-color: var(--sklearn-color-fitted-level-0);\n",
       "}\n",
       "\n",
       "/* on hover */\n",
       "#sk-container-id-1 div.sk-estimator:hover {\n",
       "  /* unfitted */\n",
       "  background-color: var(--sklearn-color-unfitted-level-2);\n",
       "}\n",
       "\n",
       "#sk-container-id-1 div.sk-estimator.fitted:hover {\n",
       "  /* fitted */\n",
       "  background-color: var(--sklearn-color-fitted-level-2);\n",
       "}\n",
       "\n",
       "/* Specification for estimator info (e.g. \"i\" and \"?\") */\n",
       "\n",
       "/* Common style for \"i\" and \"?\" */\n",
       "\n",
       ".sk-estimator-doc-link,\n",
       "a:link.sk-estimator-doc-link,\n",
       "a:visited.sk-estimator-doc-link {\n",
       "  float: right;\n",
       "  font-size: smaller;\n",
       "  line-height: 1em;\n",
       "  font-family: monospace;\n",
       "  background-color: var(--sklearn-color-background);\n",
       "  border-radius: 1em;\n",
       "  height: 1em;\n",
       "  width: 1em;\n",
       "  text-decoration: none !important;\n",
       "  margin-left: 0.5em;\n",
       "  text-align: center;\n",
       "  /* unfitted */\n",
       "  border: var(--sklearn-color-unfitted-level-1) 1pt solid;\n",
       "  color: var(--sklearn-color-unfitted-level-1);\n",
       "}\n",
       "\n",
       ".sk-estimator-doc-link.fitted,\n",
       "a:link.sk-estimator-doc-link.fitted,\n",
       "a:visited.sk-estimator-doc-link.fitted {\n",
       "  /* fitted */\n",
       "  border: var(--sklearn-color-fitted-level-1) 1pt solid;\n",
       "  color: var(--sklearn-color-fitted-level-1);\n",
       "}\n",
       "\n",
       "/* On hover */\n",
       "div.sk-estimator:hover .sk-estimator-doc-link:hover,\n",
       ".sk-estimator-doc-link:hover,\n",
       "div.sk-label-container:hover .sk-estimator-doc-link:hover,\n",
       ".sk-estimator-doc-link:hover {\n",
       "  /* unfitted */\n",
       "  background-color: var(--sklearn-color-unfitted-level-3);\n",
       "  color: var(--sklearn-color-background);\n",
       "  text-decoration: none;\n",
       "}\n",
       "\n",
       "div.sk-estimator.fitted:hover .sk-estimator-doc-link.fitted:hover,\n",
       ".sk-estimator-doc-link.fitted:hover,\n",
       "div.sk-label-container:hover .sk-estimator-doc-link.fitted:hover,\n",
       ".sk-estimator-doc-link.fitted:hover {\n",
       "  /* fitted */\n",
       "  background-color: var(--sklearn-color-fitted-level-3);\n",
       "  color: var(--sklearn-color-background);\n",
       "  text-decoration: none;\n",
       "}\n",
       "\n",
       "/* Span, style for the box shown on hovering the info icon */\n",
       ".sk-estimator-doc-link span {\n",
       "  display: none;\n",
       "  z-index: 9999;\n",
       "  position: relative;\n",
       "  font-weight: normal;\n",
       "  right: .2ex;\n",
       "  padding: .5ex;\n",
       "  margin: .5ex;\n",
       "  width: min-content;\n",
       "  min-width: 20ex;\n",
       "  max-width: 50ex;\n",
       "  color: var(--sklearn-color-text);\n",
       "  box-shadow: 2pt 2pt 4pt #999;\n",
       "  /* unfitted */\n",
       "  background: var(--sklearn-color-unfitted-level-0);\n",
       "  border: .5pt solid var(--sklearn-color-unfitted-level-3);\n",
       "}\n",
       "\n",
       ".sk-estimator-doc-link.fitted span {\n",
       "  /* fitted */\n",
       "  background: var(--sklearn-color-fitted-level-0);\n",
       "  border: var(--sklearn-color-fitted-level-3);\n",
       "}\n",
       "\n",
       ".sk-estimator-doc-link:hover span {\n",
       "  display: block;\n",
       "}\n",
       "\n",
       "/* \"?\"-specific style due to the `<a>` HTML tag */\n",
       "\n",
       "#sk-container-id-1 a.estimator_doc_link {\n",
       "  float: right;\n",
       "  font-size: 1rem;\n",
       "  line-height: 1em;\n",
       "  font-family: monospace;\n",
       "  background-color: var(--sklearn-color-background);\n",
       "  border-radius: 1rem;\n",
       "  height: 1rem;\n",
       "  width: 1rem;\n",
       "  text-decoration: none;\n",
       "  /* unfitted */\n",
       "  color: var(--sklearn-color-unfitted-level-1);\n",
       "  border: var(--sklearn-color-unfitted-level-1) 1pt solid;\n",
       "}\n",
       "\n",
       "#sk-container-id-1 a.estimator_doc_link.fitted {\n",
       "  /* fitted */\n",
       "  border: var(--sklearn-color-fitted-level-1) 1pt solid;\n",
       "  color: var(--sklearn-color-fitted-level-1);\n",
       "}\n",
       "\n",
       "/* On hover */\n",
       "#sk-container-id-1 a.estimator_doc_link:hover {\n",
       "  /* unfitted */\n",
       "  background-color: var(--sklearn-color-unfitted-level-3);\n",
       "  color: var(--sklearn-color-background);\n",
       "  text-decoration: none;\n",
       "}\n",
       "\n",
       "#sk-container-id-1 a.estimator_doc_link.fitted:hover {\n",
       "  /* fitted */\n",
       "  background-color: var(--sklearn-color-fitted-level-3);\n",
       "}\n",
       "\n",
       ".estimator-table summary {\n",
       "    padding: .5rem;\n",
       "    font-family: monospace;\n",
       "    cursor: pointer;\n",
       "}\n",
       "\n",
       ".estimator-table details[open] {\n",
       "    padding-left: 0.1rem;\n",
       "    padding-right: 0.1rem;\n",
       "    padding-bottom: 0.3rem;\n",
       "}\n",
       "\n",
       ".estimator-table .parameters-table {\n",
       "    margin-left: auto !important;\n",
       "    margin-right: auto !important;\n",
       "}\n",
       "\n",
       ".estimator-table .parameters-table tr:nth-child(odd) {\n",
       "    background-color: #fff;\n",
       "}\n",
       "\n",
       ".estimator-table .parameters-table tr:nth-child(even) {\n",
       "    background-color: #f6f6f6;\n",
       "}\n",
       "\n",
       ".estimator-table .parameters-table tr:hover {\n",
       "    background-color: #e0e0e0;\n",
       "}\n",
       "\n",
       ".estimator-table table td {\n",
       "    border: 1px solid rgba(106, 105, 104, 0.232);\n",
       "}\n",
       "\n",
       ".user-set td {\n",
       "    color:rgb(255, 94, 0);\n",
       "    text-align: left;\n",
       "}\n",
       "\n",
       ".user-set td.value pre {\n",
       "    color:rgb(255, 94, 0) !important;\n",
       "    background-color: transparent !important;\n",
       "}\n",
       "\n",
       ".default td {\n",
       "    color: black;\n",
       "    text-align: left;\n",
       "}\n",
       "\n",
       ".user-set td i,\n",
       ".default td i {\n",
       "    color: black;\n",
       "}\n",
       "\n",
       ".copy-paste-icon {\n",
       "    background-image: url(data:image/svg+xml;base64,PHN2ZyB4bWxucz0iaHR0cDovL3d3dy53My5vcmcvMjAwMC9zdmciIHZpZXdCb3g9IjAgMCA0NDggNTEyIj48IS0tIUZvbnQgQXdlc29tZSBGcmVlIDYuNy4yIGJ5IEBmb250YXdlc29tZSAtIGh0dHBzOi8vZm9udGF3ZXNvbWUuY29tIExpY2Vuc2UgLSBodHRwczovL2ZvbnRhd2Vzb21lLmNvbS9saWNlbnNlL2ZyZWUgQ29weXJpZ2h0IDIwMjUgRm9udGljb25zLCBJbmMuLS0+PHBhdGggZD0iTTIwOCAwTDMzMi4xIDBjMTIuNyAwIDI0LjkgNS4xIDMzLjkgMTQuMWw2Ny45IDY3LjljOSA5IDE0LjEgMjEuMiAxNC4xIDMzLjlMNDQ4IDMzNmMwIDI2LjUtMjEuNSA0OC00OCA0OGwtMTkyIDBjLTI2LjUgMC00OC0yMS41LTQ4LTQ4bDAtMjg4YzAtMjYuNSAyMS41LTQ4IDQ4LTQ4ek00OCAxMjhsODAgMCAwIDY0LTY0IDAgMCAyNTYgMTkyIDAgMC0zMiA2NCAwIDAgNDhjMCAyNi41LTIxLjUgNDgtNDggNDhMNDggNTEyYy0yNi41IDAtNDgtMjEuNS00OC00OEwwIDE3NmMwLTI2LjUgMjEuNS00OCA0OC00OHoiLz48L3N2Zz4=);\n",
       "    background-repeat: no-repeat;\n",
       "    background-size: 14px 14px;\n",
       "    background-position: 0;\n",
       "    display: inline-block;\n",
       "    width: 14px;\n",
       "    height: 14px;\n",
       "    cursor: pointer;\n",
       "}\n",
       "</style><body><div id=\"sk-container-id-1\" class=\"sk-top-container\"><div class=\"sk-text-repr-fallback\"><pre>LogisticRegression(max_iter=1000, random_state=101)</pre><b>In a Jupyter environment, please rerun this cell to show the HTML representation or trust the notebook. <br />On GitHub, the HTML representation is unable to render, please try loading this page with nbviewer.org.</b></div><div class=\"sk-container\" hidden><div class=\"sk-item\"><div class=\"sk-estimator fitted sk-toggleable\"><input class=\"sk-toggleable__control sk-hidden--visually\" id=\"sk-estimator-id-1\" type=\"checkbox\" checked><label for=\"sk-estimator-id-1\" class=\"sk-toggleable__label fitted sk-toggleable__label-arrow\"><div><div>LogisticRegression</div></div><div><a class=\"sk-estimator-doc-link fitted\" rel=\"noreferrer\" target=\"_blank\" href=\"https://scikit-learn.org/1.7/modules/generated/sklearn.linear_model.LogisticRegression.html\">?<span>Documentation for LogisticRegression</span></a><span class=\"sk-estimator-doc-link fitted\">i<span>Fitted</span></span></div></label><div class=\"sk-toggleable__content fitted\" data-param-prefix=\"\">\n",
       "        <div class=\"estimator-table\">\n",
       "            <details>\n",
       "                <summary>Parameters</summary>\n",
       "                <table class=\"parameters-table\">\n",
       "                  <tbody>\n",
       "                    \n",
       "        <tr class=\"default\">\n",
       "            <td><i class=\"copy-paste-icon\"\n",
       "                 onclick=\"copyToClipboard('penalty',\n",
       "                          this.parentElement.nextElementSibling)\"\n",
       "            ></i></td>\n",
       "            <td class=\"param\">penalty&nbsp;</td>\n",
       "            <td class=\"value\">&#x27;l2&#x27;</td>\n",
       "        </tr>\n",
       "    \n",
       "\n",
       "        <tr class=\"default\">\n",
       "            <td><i class=\"copy-paste-icon\"\n",
       "                 onclick=\"copyToClipboard('dual',\n",
       "                          this.parentElement.nextElementSibling)\"\n",
       "            ></i></td>\n",
       "            <td class=\"param\">dual&nbsp;</td>\n",
       "            <td class=\"value\">False</td>\n",
       "        </tr>\n",
       "    \n",
       "\n",
       "        <tr class=\"default\">\n",
       "            <td><i class=\"copy-paste-icon\"\n",
       "                 onclick=\"copyToClipboard('tol',\n",
       "                          this.parentElement.nextElementSibling)\"\n",
       "            ></i></td>\n",
       "            <td class=\"param\">tol&nbsp;</td>\n",
       "            <td class=\"value\">0.0001</td>\n",
       "        </tr>\n",
       "    \n",
       "\n",
       "        <tr class=\"default\">\n",
       "            <td><i class=\"copy-paste-icon\"\n",
       "                 onclick=\"copyToClipboard('C',\n",
       "                          this.parentElement.nextElementSibling)\"\n",
       "            ></i></td>\n",
       "            <td class=\"param\">C&nbsp;</td>\n",
       "            <td class=\"value\">1.0</td>\n",
       "        </tr>\n",
       "    \n",
       "\n",
       "        <tr class=\"default\">\n",
       "            <td><i class=\"copy-paste-icon\"\n",
       "                 onclick=\"copyToClipboard('fit_intercept',\n",
       "                          this.parentElement.nextElementSibling)\"\n",
       "            ></i></td>\n",
       "            <td class=\"param\">fit_intercept&nbsp;</td>\n",
       "            <td class=\"value\">True</td>\n",
       "        </tr>\n",
       "    \n",
       "\n",
       "        <tr class=\"default\">\n",
       "            <td><i class=\"copy-paste-icon\"\n",
       "                 onclick=\"copyToClipboard('intercept_scaling',\n",
       "                          this.parentElement.nextElementSibling)\"\n",
       "            ></i></td>\n",
       "            <td class=\"param\">intercept_scaling&nbsp;</td>\n",
       "            <td class=\"value\">1</td>\n",
       "        </tr>\n",
       "    \n",
       "\n",
       "        <tr class=\"default\">\n",
       "            <td><i class=\"copy-paste-icon\"\n",
       "                 onclick=\"copyToClipboard('class_weight',\n",
       "                          this.parentElement.nextElementSibling)\"\n",
       "            ></i></td>\n",
       "            <td class=\"param\">class_weight&nbsp;</td>\n",
       "            <td class=\"value\">None</td>\n",
       "        </tr>\n",
       "    \n",
       "\n",
       "        <tr class=\"user-set\">\n",
       "            <td><i class=\"copy-paste-icon\"\n",
       "                 onclick=\"copyToClipboard('random_state',\n",
       "                          this.parentElement.nextElementSibling)\"\n",
       "            ></i></td>\n",
       "            <td class=\"param\">random_state&nbsp;</td>\n",
       "            <td class=\"value\">101</td>\n",
       "        </tr>\n",
       "    \n",
       "\n",
       "        <tr class=\"default\">\n",
       "            <td><i class=\"copy-paste-icon\"\n",
       "                 onclick=\"copyToClipboard('solver',\n",
       "                          this.parentElement.nextElementSibling)\"\n",
       "            ></i></td>\n",
       "            <td class=\"param\">solver&nbsp;</td>\n",
       "            <td class=\"value\">&#x27;lbfgs&#x27;</td>\n",
       "        </tr>\n",
       "    \n",
       "\n",
       "        <tr class=\"user-set\">\n",
       "            <td><i class=\"copy-paste-icon\"\n",
       "                 onclick=\"copyToClipboard('max_iter',\n",
       "                          this.parentElement.nextElementSibling)\"\n",
       "            ></i></td>\n",
       "            <td class=\"param\">max_iter&nbsp;</td>\n",
       "            <td class=\"value\">1000</td>\n",
       "        </tr>\n",
       "    \n",
       "\n",
       "        <tr class=\"default\">\n",
       "            <td><i class=\"copy-paste-icon\"\n",
       "                 onclick=\"copyToClipboard('multi_class',\n",
       "                          this.parentElement.nextElementSibling)\"\n",
       "            ></i></td>\n",
       "            <td class=\"param\">multi_class&nbsp;</td>\n",
       "            <td class=\"value\">&#x27;deprecated&#x27;</td>\n",
       "        </tr>\n",
       "    \n",
       "\n",
       "        <tr class=\"default\">\n",
       "            <td><i class=\"copy-paste-icon\"\n",
       "                 onclick=\"copyToClipboard('verbose',\n",
       "                          this.parentElement.nextElementSibling)\"\n",
       "            ></i></td>\n",
       "            <td class=\"param\">verbose&nbsp;</td>\n",
       "            <td class=\"value\">0</td>\n",
       "        </tr>\n",
       "    \n",
       "\n",
       "        <tr class=\"default\">\n",
       "            <td><i class=\"copy-paste-icon\"\n",
       "                 onclick=\"copyToClipboard('warm_start',\n",
       "                          this.parentElement.nextElementSibling)\"\n",
       "            ></i></td>\n",
       "            <td class=\"param\">warm_start&nbsp;</td>\n",
       "            <td class=\"value\">False</td>\n",
       "        </tr>\n",
       "    \n",
       "\n",
       "        <tr class=\"default\">\n",
       "            <td><i class=\"copy-paste-icon\"\n",
       "                 onclick=\"copyToClipboard('n_jobs',\n",
       "                          this.parentElement.nextElementSibling)\"\n",
       "            ></i></td>\n",
       "            <td class=\"param\">n_jobs&nbsp;</td>\n",
       "            <td class=\"value\">None</td>\n",
       "        </tr>\n",
       "    \n",
       "\n",
       "        <tr class=\"default\">\n",
       "            <td><i class=\"copy-paste-icon\"\n",
       "                 onclick=\"copyToClipboard('l1_ratio',\n",
       "                          this.parentElement.nextElementSibling)\"\n",
       "            ></i></td>\n",
       "            <td class=\"param\">l1_ratio&nbsp;</td>\n",
       "            <td class=\"value\">None</td>\n",
       "        </tr>\n",
       "    \n",
       "                  </tbody>\n",
       "                </table>\n",
       "            </details>\n",
       "        </div>\n",
       "    </div></div></div></div></div><script>function copyToClipboard(text, element) {\n",
       "    // Get the parameter prefix from the closest toggleable content\n",
       "    const toggleableContent = element.closest('.sk-toggleable__content');\n",
       "    const paramPrefix = toggleableContent ? toggleableContent.dataset.paramPrefix : '';\n",
       "    const fullParamName = paramPrefix ? `${paramPrefix}${text}` : text;\n",
       "\n",
       "    const originalStyle = element.style;\n",
       "    const computedStyle = window.getComputedStyle(element);\n",
       "    const originalWidth = computedStyle.width;\n",
       "    const originalHTML = element.innerHTML.replace('Copied!', '');\n",
       "\n",
       "    navigator.clipboard.writeText(fullParamName)\n",
       "        .then(() => {\n",
       "            element.style.width = originalWidth;\n",
       "            element.style.color = 'green';\n",
       "            element.innerHTML = \"Copied!\";\n",
       "\n",
       "            setTimeout(() => {\n",
       "                element.innerHTML = originalHTML;\n",
       "                element.style = originalStyle;\n",
       "            }, 2000);\n",
       "        })\n",
       "        .catch(err => {\n",
       "            console.error('Failed to copy:', err);\n",
       "            element.style.color = 'red';\n",
       "            element.innerHTML = \"Failed!\";\n",
       "            setTimeout(() => {\n",
       "                element.innerHTML = originalHTML;\n",
       "                element.style = originalStyle;\n",
       "            }, 2000);\n",
       "        });\n",
       "    return false;\n",
       "}\n",
       "\n",
       "document.querySelectorAll('.fa-regular.fa-copy').forEach(function(element) {\n",
       "    const toggleableContent = element.closest('.sk-toggleable__content');\n",
       "    const paramPrefix = toggleableContent ? toggleableContent.dataset.paramPrefix : '';\n",
       "    const paramName = element.parentElement.nextElementSibling.textContent.trim();\n",
       "    const fullParamName = paramPrefix ? `${paramPrefix}${paramName}` : paramName;\n",
       "\n",
       "    element.setAttribute('title', fullParamName);\n",
       "});\n",
       "</script></body>"
      ],
      "text/plain": [
       "LogisticRegression(max_iter=1000, random_state=101)"
      ]
     },
     "execution_count": 28,
     "metadata": {},
     "output_type": "execute_result"
    }
   ],
   "source": [
    "lr = LogisticRegression(random_state=101, max_iter=1000)\n",
    "lr.fit(X_train, y_train)"
   ]
  },
  {
   "cell_type": "code",
   "execution_count": 29,
   "id": "fb84d749",
   "metadata": {
    "ExecuteTime": {
     "end_time": "2024-01-18T13:33:36.538750Z",
     "start_time": "2024-01-18T13:33:36.459211Z"
    },
    "execution": {
     "iopub.execute_input": "2022-12-13T13:13:45.483482Z",
     "iopub.status.busy": "2022-12-13T13:13:45.483049Z",
     "iopub.status.idle": "2022-12-13T13:13:45.495918Z",
     "shell.execute_reply": "2022-12-13T13:13:45.494560Z"
    },
    "papermill": {
     "duration": 0.055039,
     "end_time": "2022-12-13T13:13:45.498489",
     "exception": false,
     "start_time": "2022-12-13T13:13:45.443450",
     "status": "completed"
    },
    "tags": []
   },
   "outputs": [
    {
     "name": "stdout",
     "output_type": "stream",
     "text": [
      "[[40  0  0]\n",
      " [ 0 38  2]\n",
      " [ 0  1 39]]\n",
      "              precision    recall  f1-score   support\n",
      "\n",
      "           0       1.00      1.00      1.00        40\n",
      "           1       0.97      0.95      0.96        40\n",
      "           2       0.95      0.97      0.96        40\n",
      "\n",
      "    accuracy                           0.97       120\n",
      "   macro avg       0.98      0.97      0.97       120\n",
      "weighted avg       0.98      0.97      0.97       120\n",
      "\n"
     ]
    }
   ],
   "source": [
    "preds_train = lr.predict(X_train)\n",
    "print(confusion_matrix(y_train, preds_train))\n",
    "print(classification_report(y_train, preds_train))"
   ]
  },
  {
   "cell_type": "markdown",
   "id": "d0f5d705",
   "metadata": {
    "papermill": {
     "duration": 0.038033,
     "end_time": "2022-12-13T13:13:45.575791",
     "exception": false,
     "start_time": "2022-12-13T13:13:45.537758",
     "status": "completed"
    },
    "tags": []
   },
   "source": [
    "Vemos que la precisión del resultado es **muy elevada**. Esto es razonable porque ya habíamos visto que es posible obtener una frontera de separación bastante buena simplemente con mirar el problema, por lo que era bastante probable que nuestro algoritmo (a pesar de que aún no sabemos cómo funciona) fuera capaz de devolver un resultado muy bueno.\n",
    "\n",
    "La pregunta que debemos hacernos es... **¿Hemos terminado?**\n",
    "\n",
    "Podríamos ver ese resultado y pensar que si, hemos conseguido una precisión muy alta en nuestro modelo, ya está listo para poner en marcha! La verdad es que no, porque sólo hemos validado con el conjunto con el que hemos entrenado el modelo. (Habría que analizar los riesgos del overfitting) Se debe entender que no se ha medido todavía cómo es el desempeño de nuestro modelo con nuevos datos."
   ]
  },
  {
   "cell_type": "markdown",
   "id": "75c1153fff351862",
   "metadata": {
    "collapsed": false
   },
   "source": [
    "Veamos cómo podemos hacer eso debajo..."
   ]
  },
  {
   "cell_type": "code",
   "execution_count": 30,
   "id": "a9962744",
   "metadata": {
    "execution": {
     "iopub.execute_input": "2022-12-13T13:13:45.654729Z",
     "iopub.status.busy": "2022-12-13T13:13:45.653976Z",
     "iopub.status.idle": "2022-12-13T13:13:45.664800Z",
     "shell.execute_reply": "2022-12-13T13:13:45.663564Z"
    },
    "papermill": {
     "duration": 0.053476,
     "end_time": "2022-12-13T13:13:45.667659",
     "exception": false,
     "start_time": "2022-12-13T13:13:45.614183",
     "status": "completed"
    },
    "tags": []
   },
   "outputs": [
    {
     "name": "stdout",
     "output_type": "stream",
     "text": [
      "[[10  0  0]\n",
      " [ 0  9  1]\n",
      " [ 0  0 10]]\n",
      "              precision    recall  f1-score   support\n",
      "\n",
      "           0       1.00      1.00      1.00        10\n",
      "           1       1.00      0.90      0.95        10\n",
      "           2       0.91      1.00      0.95        10\n",
      "\n",
      "    accuracy                           0.97        30\n",
      "   macro avg       0.97      0.97      0.97        30\n",
      "weighted avg       0.97      0.97      0.97        30\n",
      "\n"
     ]
    }
   ],
   "source": [
    "preds = lr.predict(X_test)\n",
    "print(confusion_matrix(y_test, preds))\n",
    "print(classification_report(y_test, preds))"
   ]
  },
  {
   "cell_type": "markdown",
   "id": "219ee60e",
   "metadata": {
    "papermill": {
     "duration": 0.038039,
     "end_time": "2022-12-13T13:13:45.744197",
     "exception": false,
     "start_time": "2022-12-13T13:13:45.706158",
     "status": "completed"
    },
    "tags": []
   },
   "source": [
    "Oficialmente vemos que nuestro modelo es igual de bueno con datos que jamás ha visto. Por lo que podemos decir que el modelo parece generalizar bien en nuestro dataset. Es importante aclarar que nuestra muestra total es bastante reducida, así que igualmente si esto fuera la vida real seguramente deberíamos probar en otros conjuntos o intentar conseguir más datos para poder dar una apreciación de mayor seguridad."
   ]
  },
  {
   "cell_type": "markdown",
   "id": "bbaedb46",
   "metadata": {
    "papermill": {
     "duration": 0.037896,
     "end_time": "2022-12-13T13:13:45.821022",
     "exception": false,
     "start_time": "2022-12-13T13:13:45.783126",
     "status": "completed"
    },
    "tags": []
   },
   "source": [
    "# Uso de otros recursos\n",
    "\n",
    "En este proceso vimos algunos recursos de los más típicos para hacer Análisis Exploratorio de Datos, pero hemos visto en la introducción otros recursos que no pudimos mostrar para este dataset. Debajo se detallan algunos de estos procesos para que podamos ver algunas formas de resolverlos."
   ]
  },
  {
   "cell_type": "markdown",
   "id": "0f3b0739",
   "metadata": {
    "papermill": {
     "duration": 0.038468,
     "end_time": "2022-12-13T13:13:45.898242",
     "exception": false,
     "start_time": "2022-12-13T13:13:45.859774",
     "status": "completed"
    },
    "tags": []
   },
   "source": [
    "## Cómo tratar los valores nulos\n",
    "\n",
    "El manejo de valores nulos suele ser objeto de muchos tutoriales en internet, pero es importante aclarar un par de detalles sobre este proceso. Tenemos dos grandes maneras de lidiar con valores nulos:\n",
    "- **Eliminando registros:** En este caso tomamos como que la información en los nulos no es relevante para el problema o no podemos ofrecer información útil al modelo si ese valor es nulo, por lo que lo eliminamos. Podemos hacerlo a nivel de registro (eliminando filas que tengan nulos) o a nivel de columna si vemos que una columna tiene una cantidad desproporcionada de valores nulos. Este método tiene una gran desventaja y es que perdemos una fila entera de registros o una columna entera (estamos perdiendo información). Pero tiene una gran ventaja y es que no nos estamos inventando los valores de los registros.\n",
    "\n",
    "- **Imputando registros:** En este caso haremos lo contrario, suponemos que no queremos perder la información contenida dentro de los registros que contienen valores nulos y decidimos **imputar** un valor al valor nulo, utilizando algún criterio de los que veremos a continuación.\n",
    "    - **Imputando por algún valor de tendencia central:** El más común es la media o la mediana. Básicamente podemos imputarle el valor medio de la columna a todos los valores nulos de esa columna. Incluso podríamos agrupar por categorías y afinar aún más el valor medio por categoría para imputar. Si quieren ver un ejemplo práctico de esto, pueden verlo [aqui](https://www.kaggle.com/code/micheldc55/tutorial-data-science-matplotlib-y-seaborn).\n",
    "    - **Imputando con una categoría \"unknown\":** Muchas veces, cuando tenemos nulos en variables categóricas, una buena opción es imputarle a los nulos de la categoría una \"nueva categoría\", que podría ser \"desconocido\", \"unkown\", etc. La ventaja de esto es que no nos estamos inventando valores, pero la desventaja es que estamos aumentando la dimensionalidad del problema, porque estamos agregando un nuevo valor para el que el modelo deberá aprender su comportamiento.\n",
    "    - **Imputando un valor conocido:** Esto no es muy frecuente en problemas de Kaggle porque no tenemos conocimiento real del problema, pero en la práctica es posible que podamos solucionar el problema si entendemos por qué se genera ese nulo. Imaginemos que cuando los usuarios ingresan 0 en una variable, por algún problema interno el sistema no procesa este valor y devuelve un valor nulo. Si nosotros supiéramos esto podríamos corregirlo y además tener el valor real que debería ir en esa posición.\n",
    "    - **Imputando con algún modelo de ML:** Esto suena un poco a resolver Machine Learning con Machine Learning y lo es un poco. En este caso supongamos que tenemos dos columnas en las que detectamos nulos. Lo que haremos será generarnos un modelo que intente predecir el valor de ese nulo en función de los valores de los demás registros que no tienen un nulo en esa posición. **Cuidado!** En este proceso no debemos utilizar la variable objetivo, ya que podríamos incurrir en Data Leakage si después utilizamos los valores predichos para el nulo para predecir la variable. Sklearn tiene un modelo dentro del módulo **impute** para esto, llamado **IterativeImputer**. También nos proveen una clase para cuando queremos rellenar nulos con un valor como la mediana o una constante, llamdo SimpleImputer, pero éste último prefiero hacerlo con el método de pandas .fillna().\n",
    "    \n",
    "```python\n",
    "from sklearn.impute import IterativeImputer\n",
    "from sklearn.impute import SimpleImputer\n",
    "\n",
    "imputer = IterativeImputer()\n",
    "imputed_df = imputer.fit_tranform(df)\n",
    "```\n",
    "\n",
    "Y aunque estoy de acuerdo en que es un proceso de suma importancia, también me parece muy importante aclarar que siempre que imputemos valores nulos estamos **inventado valores**. Obviamente estamos inventando valores tomando una decisión informada con datos, pero generalmente, salvo que quien creó el dataset nos lo diga directamente, nunca sabremos si esos valores nulos están bien imputados o no. Por lo tanto, es un proceso que hay que hacer con **mucho cuidado**."
   ]
  },
  {
   "cell_type": "markdown",
   "id": "0d55ae90",
   "metadata": {
    "papermill": {
     "duration": 0.037696,
     "end_time": "2022-12-13T13:13:45.974151",
     "exception": false,
     "start_time": "2022-12-13T13:13:45.936455",
     "status": "completed"
    },
    "tags": []
   },
   "source": [
    "### Fabricando un ejemplo\n",
    "\n",
    "Debajo fabricaremos un ejemplo para poder imputar los nulos. Quitaremos 15 valores al azar de 2 columnas y mostraremos cómo podríamos implementar las distintas soluciones que hemos planteado. También tomaremos el ejemplo como oportunidad para discutir las ventajas y desventajas de cada método en cada caso. Veremos:\n",
    "\n",
    "- Cómo eliminar los datos de toda una columna\n",
    "- Cómo eliminar las filas con datos faltantes\n",
    "- Cómo imputar por alguna medida de tendencia central\n",
    "- Cómo imputar con IterativeImputer"
   ]
  },
  {
   "cell_type": "code",
   "execution_count": 31,
   "id": "62d9a3fc",
   "metadata": {
    "execution": {
     "iopub.execute_input": "2022-12-13T13:13:46.052471Z",
     "iopub.status.busy": "2022-12-13T13:13:46.052033Z",
     "iopub.status.idle": "2022-12-13T13:13:46.078140Z",
     "shell.execute_reply": "2022-12-13T13:13:46.076948Z"
    },
    "papermill": {
     "duration": 0.068353,
     "end_time": "2022-12-13T13:13:46.080543",
     "exception": false,
     "start_time": "2022-12-13T13:13:46.012190",
     "status": "completed"
    },
    "tags": []
   },
   "outputs": [
    {
     "data": {
      "text/html": [
       "<div>\n",
       "<style scoped>\n",
       "    .dataframe tbody tr th:only-of-type {\n",
       "        vertical-align: middle;\n",
       "    }\n",
       "\n",
       "    .dataframe tbody tr th {\n",
       "        vertical-align: top;\n",
       "    }\n",
       "\n",
       "    .dataframe thead th {\n",
       "        text-align: right;\n",
       "    }\n",
       "</style>\n",
       "<table border=\"1\" class=\"dataframe\">\n",
       "  <thead>\n",
       "    <tr style=\"text-align: right;\">\n",
       "      <th></th>\n",
       "      <th>sepal_length</th>\n",
       "      <th>sepal_width</th>\n",
       "      <th>petal_length</th>\n",
       "      <th>petal_width</th>\n",
       "      <th>species</th>\n",
       "      <th>species_numerical</th>\n",
       "    </tr>\n",
       "  </thead>\n",
       "  <tbody>\n",
       "    <tr>\n",
       "      <th>63</th>\n",
       "      <td>6.1</td>\n",
       "      <td>2.9</td>\n",
       "      <td>NaN</td>\n",
       "      <td>1.4</td>\n",
       "      <td>versicolor</td>\n",
       "      <td>1</td>\n",
       "    </tr>\n",
       "    <tr>\n",
       "      <th>87</th>\n",
       "      <td>6.3</td>\n",
       "      <td>2.3</td>\n",
       "      <td>NaN</td>\n",
       "      <td>1.3</td>\n",
       "      <td>versicolor</td>\n",
       "      <td>1</td>\n",
       "    </tr>\n",
       "    <tr>\n",
       "      <th>74</th>\n",
       "      <td>6.4</td>\n",
       "      <td>2.9</td>\n",
       "      <td>NaN</td>\n",
       "      <td>1.3</td>\n",
       "      <td>versicolor</td>\n",
       "      <td>1</td>\n",
       "    </tr>\n",
       "    <tr>\n",
       "      <th>115</th>\n",
       "      <td>6.4</td>\n",
       "      <td>3.2</td>\n",
       "      <td>NaN</td>\n",
       "      <td>2.3</td>\n",
       "      <td>virginica</td>\n",
       "      <td>2</td>\n",
       "    </tr>\n",
       "    <tr>\n",
       "      <th>117</th>\n",
       "      <td>7.7</td>\n",
       "      <td>3.8</td>\n",
       "      <td>NaN</td>\n",
       "      <td>2.2</td>\n",
       "      <td>virginica</td>\n",
       "      <td>2</td>\n",
       "    </tr>\n",
       "    <tr>\n",
       "      <th>79</th>\n",
       "      <td>5.7</td>\n",
       "      <td>NaN</td>\n",
       "      <td>3.5</td>\n",
       "      <td>1.0</td>\n",
       "      <td>versicolor</td>\n",
       "      <td>1</td>\n",
       "    </tr>\n",
       "    <tr>\n",
       "      <th>21</th>\n",
       "      <td>5.1</td>\n",
       "      <td>NaN</td>\n",
       "      <td>1.5</td>\n",
       "      <td>0.4</td>\n",
       "      <td>setosa</td>\n",
       "      <td>0</td>\n",
       "    </tr>\n",
       "    <tr>\n",
       "      <th>45</th>\n",
       "      <td>4.8</td>\n",
       "      <td>3.0</td>\n",
       "      <td>NaN</td>\n",
       "      <td>0.3</td>\n",
       "      <td>setosa</td>\n",
       "      <td>0</td>\n",
       "    </tr>\n",
       "    <tr>\n",
       "      <th>20</th>\n",
       "      <td>5.4</td>\n",
       "      <td>3.4</td>\n",
       "      <td>NaN</td>\n",
       "      <td>0.2</td>\n",
       "      <td>setosa</td>\n",
       "      <td>0</td>\n",
       "    </tr>\n",
       "    <tr>\n",
       "      <th>40</th>\n",
       "      <td>5.0</td>\n",
       "      <td>3.5</td>\n",
       "      <td>NaN</td>\n",
       "      <td>0.3</td>\n",
       "      <td>setosa</td>\n",
       "      <td>0</td>\n",
       "    </tr>\n",
       "    <tr>\n",
       "      <th>108</th>\n",
       "      <td>6.7</td>\n",
       "      <td>2.5</td>\n",
       "      <td>NaN</td>\n",
       "      <td>1.8</td>\n",
       "      <td>virginica</td>\n",
       "      <td>2</td>\n",
       "    </tr>\n",
       "    <tr>\n",
       "      <th>142</th>\n",
       "      <td>5.8</td>\n",
       "      <td>2.7</td>\n",
       "      <td>NaN</td>\n",
       "      <td>1.9</td>\n",
       "      <td>virginica</td>\n",
       "      <td>2</td>\n",
       "    </tr>\n",
       "    <tr>\n",
       "      <th>67</th>\n",
       "      <td>5.8</td>\n",
       "      <td>2.7</td>\n",
       "      <td>NaN</td>\n",
       "      <td>1.0</td>\n",
       "      <td>versicolor</td>\n",
       "      <td>1</td>\n",
       "    </tr>\n",
       "    <tr>\n",
       "      <th>82</th>\n",
       "      <td>5.8</td>\n",
       "      <td>NaN</td>\n",
       "      <td>3.9</td>\n",
       "      <td>1.2</td>\n",
       "      <td>versicolor</td>\n",
       "      <td>1</td>\n",
       "    </tr>\n",
       "    <tr>\n",
       "      <th>120</th>\n",
       "      <td>6.9</td>\n",
       "      <td>3.2</td>\n",
       "      <td>NaN</td>\n",
       "      <td>2.3</td>\n",
       "      <td>virginica</td>\n",
       "      <td>2</td>\n",
       "    </tr>\n",
       "  </tbody>\n",
       "</table>\n",
       "</div>"
      ],
      "text/plain": [
       "     sepal_length  sepal_width  petal_length  petal_width     species  \\\n",
       "63            6.1          2.9           NaN          1.4  versicolor   \n",
       "87            6.3          2.3           NaN          1.3  versicolor   \n",
       "74            6.4          2.9           NaN          1.3  versicolor   \n",
       "115           6.4          3.2           NaN          2.3   virginica   \n",
       "117           7.7          3.8           NaN          2.2   virginica   \n",
       "79            5.7          NaN           3.5          1.0  versicolor   \n",
       "21            5.1          NaN           1.5          0.4      setosa   \n",
       "45            4.8          3.0           NaN          0.3      setosa   \n",
       "20            5.4          3.4           NaN          0.2      setosa   \n",
       "40            5.0          3.5           NaN          0.3      setosa   \n",
       "108           6.7          2.5           NaN          1.8   virginica   \n",
       "142           5.8          2.7           NaN          1.9   virginica   \n",
       "67            5.8          2.7           NaN          1.0  versicolor   \n",
       "82            5.8          NaN           3.9          1.2  versicolor   \n",
       "120           6.9          3.2           NaN          2.3   virginica   \n",
       "\n",
       "     species_numerical  \n",
       "63                   1  \n",
       "87                   1  \n",
       "74                   1  \n",
       "115                  2  \n",
       "117                  2  \n",
       "79                   1  \n",
       "21                   0  \n",
       "45                   0  \n",
       "20                   0  \n",
       "40                   0  \n",
       "108                  2  \n",
       "142                  2  \n",
       "67                   1  \n",
       "82                   1  \n",
       "120                  2  "
      ]
     },
     "execution_count": 31,
     "metadata": {},
     "output_type": "execute_result"
    }
   ],
   "source": [
    "import random\n",
    "indexes = random.sample(range(120), 15)\n",
    "\n",
    "for index in indexes:\n",
    "    if index > 80:\n",
    "        df_train.iloc[index, 1] = np.nan\n",
    "    else:\n",
    "        df_train.iloc[index, 2] = np.nan\n",
    "        \n",
    "df_train.iloc[indexes]"
   ]
  },
  {
   "cell_type": "markdown",
   "id": "cabc1e40",
   "metadata": {
    "papermill": {
     "duration": 0.041287,
     "end_time": "2022-12-13T13:13:46.164662",
     "exception": false,
     "start_time": "2022-12-13T13:13:46.123375",
     "status": "completed"
    },
    "tags": []
   },
   "source": [
    "Debajo mostraremos cómo se implementa cada una de las soluciones:\n",
    "\n",
    "#### Quitar las columnas que tienen nulos:\n",
    "\n",
    "Como sabemos que las columnas sepal_width y petal_length son las que tienen, podemos simplemente eliminarlas del DataFrame usando el método .drop(). Notar el axis=1, ya que esto es un error común. En la práctica podemos ver qué columnas tienen valores nulos utilizando el método .info() del DataFrame. \n",
    "\n",
    "Éste método no suele ser recomendable cuando hay pocos datos faltantes. Incluso en el caso que tiene más nulos, solamente son 11, por lo que no nos compensa eliminar una columna entera por eso.\n",
    "```python\n",
    "df_train.info()\n",
    "df_train.drop(['sepal_width', 'petal_length'], axis=1)\n",
    "```\n",
    "#### Quitar los registros que tienen nulos:\n",
    "\n",
    "Una opción más razonable podría ser eliminar las filas que en alguno de sus elementos tienen valores nulos. Esto suele ser más razonable porque no necesitamos perder una columna entera, que suele contener más información que una fila. Si la proporción de registros a perder es baja, esto puede ser una buena opción, porque no estamos perdiendo un porcentaje grande del dataset. El problema es que este dataset tiene 150 registros, por lo que no queremos perder ninguno. En este caso, no sería recomendable eliminarlos.\n",
    "```python\n",
    "# En este caso no necesitamos el axis=1\n",
    "df_train.dropna(subset=['sepal_width', 'petal_length'])\n",
    "```\n",
    "\n",
    "#### Imputar por la media de la columna:\n",
    "\n",
    "Ahora si comenzamos con los casos que si pueden ser más riesgosos para el aprendizaje del modelo. Básicamente ahora podemos también imputar los valores de la columna con la media de la columna (o la mediana, o la moda o cualquier estadístico de tendencia central). En este caso, nos estamos inventando información y además ya hemos visto que los valores son muy dependientes a las \"especies\". **Pregunta al lector:** ¿Por que entonces no rellenamos con la media de la columna, pero agrupada por especie? Pueden dejar su opinión en los comentarios.\n",
    "\n",
    "```python\n",
    "media_sepal = df_train['sepal_width'].mean()\n",
    "media_petal = df_train['petal_length'].mean()\n",
    "\n",
    "df_train.loc[df_train['sepal_width'].isna(), 'sepal_width'] = media_sepal\n",
    "df_train.loc[df_train['petal_length'].isna(), 'petal_length'] = media_petal\n",
    "```\n",
    "\n",
    "#### Imputar con IterativeImputer:\n",
    "\n",
    "Muchas veces, salvo que tengamos conocimiento muy profundo de producto, no podremos imputar estos nulos con la media o mediana, salvo que en el EDA veamos una relación muy clara de dependencia entre categorías y podamos agrupar por ellas. En casos de desesperación, podemos pedirle a sklearn que impute los valores nulos. Si les interesa saber cómo funciona esta herramienta de sklearn, pueden leerlo en detalle [aqui](https://towardsdatascience.com/a-better-way-to-handle-missing-values-in-your-dataset-using-iterativeimputer-9e6e84857d98#05b9).\n",
    "\n",
    "En pocas palabras, lo que hace este proceso es comenzar seleccionando las columnas en base a un orden establecido, que es un input de la clase (por defecto ascendente, de la columan que tiene menos nulos a la que tiene más). Luego, se sustituya en la primera columna los nulos por la media de la columna. Luego el proceso iterativo entrena un modelo de ML (que podemos elegir) con todos los demás registros e imputa la predicción del modelo, y lo hace para cada uno de los features. Esto sigue hasta que se cumpla el número de iteraciones o se verifique una cierta condición, que se explica en el artículo. Para usar este modelo solo debemos:\n",
    "\n",
    "```python\n",
    "from sklearn.impute import IterativeImputer\n",
    "\n",
    "imputer = IterativeImputer()\n",
    "imputer.fit_transform(df_train)\n",
    "```\n"
   ]
  },
  {
   "cell_type": "markdown",
   "id": "bdea4b57",
   "metadata": {
    "papermill": {
     "duration": 0.041275,
     "end_time": "2022-12-13T13:13:46.247828",
     "exception": false,
     "start_time": "2022-12-13T13:13:46.206553",
     "status": "completed"
    },
    "tags": []
   },
   "source": [
    "## Caso especial de reducción de dimensionalidad: PCA\n",
    "\n",
    "### Qué es la reducción de la dimensionalidad?\n",
    "\n",
    "Muchas veces pensamos que cuanta más imformación le demos al modelo, mejor funcionará, pero este pensamiento suele ser problemático. Imaginemos que tenemos datos como los que se ven en el diagrama debajo. Cuantas variables estamos graficando en este caso? Veremos que en este ejemplo claramente sobran 2 variables, y esto es porque nuestro problema parece tener dependencia lineal con la variable sobre la que está definido el plano. Básicamente podemos convertir esta problema en un problema de 2 dimensiones sin perder \n",
    "\n",
    "<img src=\"attachment:0f52b0cf-0798-4f12-bc4f-ba946eb63fd0.png\" width=\"500px\" height=\"500px\">\n",
    "\n",
    "Generalmente, veremos que intentaremos reducir la dimensionalidad del problema principalmente para solucionar dos problemas, uno de separabilidad de variables y/o visualización, y otro de computación. Cuando reducimos la dimensionalidad del problema podemos llegar a reducirlo a 2 o 3 variables y por lo tanto podremos **visualizar** el problema. Esto es clave, porque muchas veces veremos que un problema de varias dimensiones se puede reducir a 2 o 3 y conservar gran parte de la separación de las clases del problema. Esto nos permitirá visualimente entender nuestro problema entero, como una representación de 2 o 3 variables, en lugar de 10 (por ejemplo). \n",
    "\n",
    "El otro problema es de poder de cómputo, tanto del entrenamiento del modelo como de su puesta en producción. Si tenemos un modelo que tiene 20 variables para predecir una, el modelo se está entrenando recibiendo instancias de 20 elementos y llevando a cabo las operaciones que correspondan según el modelo que sea. Esto implica que el modelo deberá entrenarse en N x m dimensiones, donde N es la cantidad de registros y m la cantidad de variables (en este caso 10). Si utilizamos técnicas de reducción de dimensionalidad y llevamos el problema a uno de N x m', donde m' es la cantidad de variables reducida (generalmente 2 o a lo sumo 3), hemos reducido la cantidad de instancias que el modelo debe calcular en m'/m. Esto hace que nuestro problema sea más eficiente en términos de coste computacional (necesita menos poder de procesamiento para entrenarse).\n",
    "\n",
    "En este proceso se identifican y eliminan las variables irrelevantes (o poco relevantes), reduciendo el ruido del dataset original. El mejor modelo que podemos alcanzar no es el que tiene en cuenta más variables, sino aquel que incluye la mayor cantidad de información de calidad."
   ]
  },
  {
   "cell_type": "markdown",
   "id": "e303de00",
   "metadata": {
    "papermill": {
     "duration": 0.040193,
     "end_time": "2022-12-13T13:13:46.328985",
     "exception": false,
     "start_time": "2022-12-13T13:13:46.288792",
     "status": "completed"
    },
    "tags": []
   },
   "source": [
    "### Técnicas de reducción de dimensionalidad:\n",
    "\n",
    "Selección de variables: filtrar las variables de baja varianza, pruebas estadísticas univariadas (pruebas de dependencia), eliminación de características de forma recursiva, random forests, ratio de valores faltantes, filtrar aquellas variables de alta correlación, etc.\n",
    "\n",
    "#### Técnicas matemáticas de reducción de dimensionalidad:\n",
    "\n",
    "A pesar de poder reducir la dimensionalidad quitando o agregando columnas, muchas veces nuestras variables aportan poca información pero nos interesa contemplarlas. Para esto también existen técnicas que nos permiten tomar nuestro espacio de variables y convertirlo a un subespacio de componentes que intentan mantener alguna propiedad del espacio inicial. Esto puede ser la varianza, la distancia punto a punto, etc. Si les interesa [aqui](https://hmong.es/wiki/Nonlinear_dimensionality_reduction) se resumen la mayoría de los modelos (y en español).\n",
    "\n",
    "- Lineal: análisis factorial, análisis de componentes principales (PCA), análisis de discriminante lineal.\n",
    "\n",
    "- No lineal: escala multidimensional, t-SNE, mapeo de características isométricas (ISOMAP), aproximación y proyección de colector uniforme (UMAP)\n",
    "\n",
    "Veamos cómo sería la aplicación de un método lineal, como el PCA para este caso. Tenemos 4 variables, por lo que no podemos visualizar directamente las 4 variables para identificar posibles patrones entre todas ellas. Intentaremos utilizar la técnica de Análisis de Componentes Principales para obtener una proyección en 2 componentes que intentan capturar la mayor parte de la varianza de las 4 variables iniciales.\n",
    "\n",
    "El PCA utiliza los valores propios de la matriz que pasamos como input, y crea su descomposición en vectores propios. Cuando seleccionamos el número de variables que queremos tener en cuenta (n_components=2 en este caso) estamos diciéndole al modelo que queremos conservar los dos primeros vectores propios y proyectar nuestros datos (de 4 dimensiones) en estas dos direcciones. Esto"
   ]
  },
  {
   "cell_type": "code",
   "execution_count": 31,
   "id": "6ae81617",
   "metadata": {
    "execution": {
     "iopub.execute_input": "2022-12-13T13:13:46.415706Z",
     "iopub.status.busy": "2022-12-13T13:13:46.415234Z",
     "iopub.status.idle": "2022-12-13T13:13:46.443824Z",
     "shell.execute_reply": "2022-12-13T13:13:46.442682Z"
    },
    "papermill": {
     "duration": 0.075587,
     "end_time": "2022-12-13T13:13:46.446693",
     "exception": false,
     "start_time": "2022-12-13T13:13:46.371106",
     "status": "completed"
    },
    "tags": []
   },
   "outputs": [],
   "source": [
    "from sklearn.decomposition import PCA"
   ]
  },
  {
   "cell_type": "code",
   "execution_count": 32,
   "id": "debcfe38",
   "metadata": {
    "execution": {
     "iopub.execute_input": "2022-12-13T13:13:46.528492Z",
     "iopub.status.busy": "2022-12-13T13:13:46.528044Z",
     "iopub.status.idle": "2022-12-13T13:13:46.544045Z",
     "shell.execute_reply": "2022-12-13T13:13:46.542503Z"
    },
    "papermill": {
     "duration": 0.060207,
     "end_time": "2022-12-13T13:13:46.546762",
     "exception": false,
     "start_time": "2022-12-13T13:13:46.486555",
     "status": "completed"
    },
    "tags": []
   },
   "outputs": [
    {
     "name": "stdout",
     "output_type": "stream",
     "text": [
      "[0.72646491 0.23006439]\n",
      "0.9565292921584864\n"
     ]
    }
   ],
   "source": [
    "pca = PCA(n_components=2)\n",
    "X_pca = pca.fit_transform(X_train)\n",
    "\n",
    "print(pca.explained_variance_ratio_)\n",
    "print(sum(pca.explained_variance_ratio_))"
   ]
  },
  {
   "cell_type": "markdown",
   "id": "a4bcc192",
   "metadata": {
    "papermill": {
     "duration": 0.038883,
     "end_time": "2022-12-13T13:13:46.625695",
     "exception": false,
     "start_time": "2022-12-13T13:13:46.586812",
     "status": "completed"
    },
    "tags": []
   },
   "source": [
    "Vemos que el 96% de la varianza del problema puede ser explicado por estas dos nuevas variables que son combinación lineal de las 4 variables del problema."
   ]
  },
  {
   "cell_type": "code",
   "execution_count": 33,
   "id": "0754aeb3",
   "metadata": {
    "execution": {
     "iopub.execute_input": "2022-12-13T13:13:46.704950Z",
     "iopub.status.busy": "2022-12-13T13:13:46.704152Z",
     "iopub.status.idle": "2022-12-13T13:13:46.951816Z",
     "shell.execute_reply": "2022-12-13T13:13:46.950858Z"
    },
    "papermill": {
     "duration": 0.290125,
     "end_time": "2022-12-13T13:13:46.954313",
     "exception": false,
     "start_time": "2022-12-13T13:13:46.664188",
     "status": "completed"
    },
    "tags": []
   },
   "outputs": [
    {
     "data": {
      "text/plain": [
       "<AxesSubplot:xlabel='PC1', ylabel='PC2'>"
      ]
     },
     "execution_count": 33,
     "metadata": {},
     "output_type": "execute_result"
    },
    {
     "data": {
      "image/png": "[encoded data removed]",
      "text/plain": [
       "<Figure size 576x504 with 1 Axes>"
      ]
     },
     "metadata": {
      "needs_background": "light"
     },
     "output_type": "display_data"
    }
   ],
   "source": [
    "pca_df = pd.DataFrame(X_pca, columns=['PC1', 'PC2'])\n",
    "pca_df['target'] = y_train\n",
    "\n",
    "plt.figure(figsize=(8, 7))\n",
    "sns.scatterplot(data=pca_df, x='PC1', y='PC2', c=y_train, palette='tab10')"
   ]
  },
  {
   "cell_type": "markdown",
   "id": "b898c4c2",
   "metadata": {
    "papermill": {
     "duration": 0.043821,
     "end_time": "2022-12-13T13:13:47.038584",
     "exception": false,
     "start_time": "2022-12-13T13:13:46.994763",
     "status": "completed"
    },
    "tags": []
   },
   "source": [
    "Vemos una clara separación entre los 3 clusters incluso habiendo reducido el problema a dos variables. Se puede aproximar incluso más utilizando otras técnicas, pero con estas nuevas variables ya podríamos hacer un modelo y compararlo con el anterior! Debajo vemos la comparativa y los resultados son muy buenos. Pensar que estamos perdiendo la mitad de los datos y aún así estamos conservando un score muy alto!"
   ]
  },
  {
   "cell_type": "code",
   "execution_count": 34,
   "id": "1ea198c1",
   "metadata": {
    "execution": {
     "iopub.execute_input": "2022-12-13T13:13:47.126599Z",
     "iopub.status.busy": "2022-12-13T13:13:47.125635Z",
     "iopub.status.idle": "2022-12-13T13:13:47.143560Z",
     "shell.execute_reply": "2022-12-13T13:13:47.142148Z"
    },
    "papermill": {
     "duration": 0.064342,
     "end_time": "2022-12-13T13:13:47.145854",
     "exception": false,
     "start_time": "2022-12-13T13:13:47.081512",
     "status": "completed"
    },
    "tags": []
   },
   "outputs": [
    {
     "name": "stdout",
     "output_type": "stream",
     "text": [
      "              precision    recall  f1-score   support\n",
      "\n",
      "           0       1.00      1.00      1.00        40\n",
      "           1       0.87      0.85      0.86        40\n",
      "           2       0.85      0.88      0.86        40\n",
      "\n",
      "    accuracy                           0.91       120\n",
      "   macro avg       0.91      0.91      0.91       120\n",
      "weighted avg       0.91      0.91      0.91       120\n"
     ]
    }
   ],
   "source": [
    "lr = LogisticRegression(random_state=101, max_iter=1000)\n",
    "lr.fit(X_pca, y_train)\n",
    "train_preds = lr.predict(X_pca)\n",
    "print(classification_report(y_train, train_preds))"
   ]
  },
  {
   "cell_type": "code",
   "execution_count": 35,
   "id": "e492c977",
   "metadata": {
    "execution": {
     "iopub.execute_input": "2022-12-13T13:13:47.227486Z",
     "iopub.status.busy": "2022-12-13T13:13:47.226570Z",
     "iopub.status.idle": "2022-12-13T13:13:47.237965Z",
     "shell.execute_reply": "2022-12-13T13:13:47.236892Z"
    },
    "papermill": {
     "duration": 0.055279,
     "end_time": "2022-12-13T13:13:47.240859",
     "exception": false,
     "start_time": "2022-12-13T13:13:47.185580",
     "status": "completed"
    },
    "tags": []
   },
   "outputs": [
    {
     "name": "stdout",
     "output_type": "stream",
     "text": [
      "              precision    recall  f1-score   support\n",
      "\n",
      "           0       1.00      1.00      1.00        10\n",
      "           1       1.00      0.80      0.89        10\n",
      "           2       0.83      1.00      0.91        10\n",
      "\n",
      "    accuracy                           0.93        30\n",
      "   macro avg       0.94      0.93      0.93        30\n",
      "weighted avg       0.94      0.93      0.93        30\n"
     ]
    }
   ],
   "source": [
    "X_test_pca = pca.transform(X_test)\n",
    "\n",
    "test_predictions = lr.predict(X_test_pca)\n",
    "print(classification_report(y_test, test_predictions))"
   ]
  },
  {
   "cell_type": "markdown",
   "id": "ee244cb9",
   "metadata": {
    "papermill": {
     "duration": 0.03934,
     "end_time": "2022-12-13T13:13:47.322839",
     "exception": false,
     "start_time": "2022-12-13T13:13:47.283499",
     "status": "completed"
    },
    "tags": []
   },
   "source": [
    "#### Veamos qué sucede con la varianza explicada a medida que aumenta la cantidad de variables que utilizamos..."
   ]
  },
  {
   "cell_type": "code",
   "execution_count": 36,
   "id": "29c16aad",
   "metadata": {
    "execution": {
     "iopub.execute_input": "2022-12-13T13:13:47.406816Z",
     "iopub.status.busy": "2022-12-13T13:13:47.406400Z",
     "iopub.status.idle": "2022-12-13T13:13:47.632026Z",
     "shell.execute_reply": "2022-12-13T13:13:47.631174Z"
    },
    "papermill": {
     "duration": 0.270379,
     "end_time": "2022-12-13T13:13:47.634249",
     "exception": false,
     "start_time": "2022-12-13T13:13:47.363870",
     "status": "completed"
    },
    "tags": []
   },
   "outputs": [
    {
     "data": {
      "text/plain": [
       "[<matplotlib.lines.Line2D at 0x7f958771a150>]"
      ]
     },
     "execution_count": 36,
     "metadata": {},
     "output_type": "execute_result"
    },
    {
     "data": {
      "image/png": "[encoded data removed]",
      "text/plain": [
       "<Figure size 504x432 with 1 Axes>"
      ]
     },
     "metadata": {
      "needs_background": "light"
     },
     "output_type": "display_data"
    }
   ],
   "source": [
    "expl_var = [0]\n",
    "\n",
    "for n_components in [1, 2, 3]:\n",
    "    var_pca = PCA(n_components=n_components)\n",
    "    X_pca_n = var_pca.fit_transform(X_train)\n",
    "    expl_var.append(sum(var_pca.explained_variance_ratio_))\n",
    "    \n",
    "plt.figure(figsize=(7, 6))\n",
    "plt.plot([0, 1, 2, 3], expl_var, 'bo-')\n",
    "plt.plot([0, 3], [1, 1], 'r--')"
   ]
  },
  {
   "cell_type": "markdown",
   "id": "fef226d6",
   "metadata": {
    "papermill": {
     "duration": 0.039433,
     "end_time": "2022-12-13T13:13:47.716291",
     "exception": false,
     "start_time": "2022-12-13T13:13:47.676858",
     "status": "completed"
    },
    "tags": []
   },
   "source": [
    "# Ejercicio\n",
    "\n",
    "Utilizando el dataset de [PUBG (videojuego online de disparos)](https://www.kaggle.com/competitions/pubg-finish-placement-prediction/data), realizar un EDA (en otro notebook). Seguir los siguientes pasos:\n",
    "- Elegir 7 variables de interés y filtrar el dataframe\n",
    "- Utilizar el método describe e info para generar una idea general de los datos\n",
    "- Hay valores nulos? Si hay, qué haría con ellos?\n",
    "- Hay valores duplicados? Si hay, tienen sentido o sería más razonable eliminarlos?\n",
    "- Visualizar las 7 variables en distribución o conteos, alguna cosa llama la atención?\n",
    "- Realizar el análisis bivariable para las variables numéricas.\n",
    "- Elegir 3 variables y visualizarlas en un único gráfico\n",
    "- Estudiar la correlación entre variables. Defender si es razonable quitar alguna variable"
   ]
  },
  {
   "cell_type": "code",
   "execution_count": null,
   "id": "4a2ab539",
   "metadata": {
    "papermill": {
     "duration": 0.039729,
     "end_time": "2022-12-13T13:13:47.795510",
     "exception": false,
     "start_time": "2022-12-13T13:13:47.755781",
     "status": "completed"
    },
    "tags": []
   },
   "outputs": [],
   "source": []
  }
 ],
 "metadata": {
  "kernelspec": {
   "display_name": "env",
   "language": "python",
   "name": "python3"
  },
  "language_info": {
   "codemirror_mode": {
    "name": "ipython",
    "version": 3
   },
   "file_extension": ".py",
   "mimetype": "text/x-python",
   "name": "python",
   "nbconvert_exporter": "python",
   "pygments_lexer": "ipython3",
   "version": "3.11.9"
  },
  "papermill": {
   "default_parameters": {},
   "duration": 27.558196,
   "end_time": "2022-12-13T13:13:48.758144",
   "environment_variables": {},
   "exception": null,
   "input_path": "__notebook__.ipynb",
   "output_path": "__notebook__.ipynb",
   "parameters": {},
   "start_time": "2022-12-13T13:13:21.199948",
   "version": "2.3.4"
  }
 },
 "nbformat": 4,
 "nbformat_minor": 5
}
