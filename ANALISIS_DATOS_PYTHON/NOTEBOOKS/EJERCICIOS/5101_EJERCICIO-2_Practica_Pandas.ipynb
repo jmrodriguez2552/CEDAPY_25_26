{
  "cells": [
    {
      "cell_type": "markdown",
      "metadata": {
        "id": "AxosQRTePyWy"
      },
      "source": [
        "# PRACTICA CON LIBRERÍA PANDAS\n"
      ]
    },
    {
      "cell_type": "markdown",
      "metadata": {
        "id": "3eufl5haPyW0"
      },
      "source": [
        "**Ejercicio SF Salaries**   \n",
        "\n",
        "Utilizaremos el `SF Salaries Dataset` Kaggle. Simplemente sigue y completa las tareas que se detallan a continuación en negrita. Las tareas serán cada vez más difíciles a medida que avance.\n",
        "\n",
        "La idea principal es aplicar pandas para organizar informacion, manipularla, buscar información en el dataset\n"
      ]
    },
    {
      "cell_type": "markdown",
      "metadata": {
        "id": "ADdqbK2_PyW1"
      },
      "source": [
        "**Importar pandas como pd. y visualizar la version que se esta usando**"
      ]
    },
    {
      "cell_type": "code",
      "execution_count": null,
      "metadata": {
        "id": "7Afhtv26PyW2"
      },
      "outputs": [],
      "source": []
    },
    {
      "cell_type": "markdown",
      "metadata": {
        "id": "30iBD34oPyW4"
      },
      "source": [
        "**Cargar el archivo \"Salaries.csv\" en un dataframe denominado \"salarios\"**"
      ]
    },
    {
      "cell_type": "code",
      "execution_count": null,
      "metadata": {
        "id": "Zyn8AxvIPyW4"
      },
      "outputs": [],
      "source": [
        "\n"
      ]
    },
    {
      "cell_type": "markdown",
      "metadata": {
        "id": "dlTVxt0XPyW5"
      },
      "source": [
        "**Usar el método `.info()` para saber cuantas Columnas de atributos hay y que tipo de datos tiene cada una.**"
      ]
    },
    {
      "cell_type": "code",
      "execution_count": null,
      "metadata": {
        "id": "_OeUSKD-PyW6"
      },
      "outputs": [],
      "source": []
    },
    {
      "cell_type": "markdown",
      "metadata": {
        "id": "IlKwb62zPyW6"
      },
      "source": [
        "- Segun la información del dataframe su tamaño es de *memory usage: 14.7+ MB*\n",
        "\n",
        "- las columnas **Notes** y **Status** solamente tienen valores *NaN*. Verificar que dice **0 non-null**, es decir, 0 valores son diferentes a *NaN* y, por tanto, todos los valores son *NaN* en esas columnas\n",
        "\n",
        "**Eliminar las columnas *Notes* y *Status*. Se debe usar el parámetro para realizarlo de forma permanente (inplace), y luego se debe visualizar el número de filas y columnas tiene despues de eliminar las columnas**"
      ]
    },
    {
      "cell_type": "code",
      "execution_count": null,
      "metadata": {
        "id": "H1GAFU0ZPyW7"
      },
      "outputs": [],
      "source": []
    },
    {
      "cell_type": "markdown",
      "metadata": {
        "id": "pOVnQMaYPyW7"
      },
      "source": [
        "**¿Cuál es la nueva información del dataframe?**"
      ]
    },
    {
      "cell_type": "code",
      "execution_count": null,
      "metadata": {
        "id": "1F2z06aXPyW7"
      },
      "outputs": [],
      "source": []
    },
    {
      "cell_type": "markdown",
      "metadata": {
        "id": "ohi3gtXuPyW7"
      },
      "source": [
        "- Se puede verificar que al borrar las columnas que no tenian solo *NaN* se disminuye el tamaño del dataframe a: *memory usage: 12.5+ MB*"
      ]
    },
    {
      "cell_type": "markdown",
      "metadata": {
        "id": "RJziQl6kPyW8"
      },
      "source": [
        "**Visualizar los primeros 5 registros del DataFrame.**"
      ]
    },
    {
      "cell_type": "code",
      "execution_count": null,
      "metadata": {
        "id": "37CyhzhlPyW8"
      },
      "outputs": [],
      "source": []
    },
    {
      "cell_type": "markdown",
      "metadata": {
        "id": "Kei54-4OPyW8"
      },
      "source": [
        "**Visualizar los ultimos 5 registros del DataFrame.**"
      ]
    },
    {
      "cell_type": "code",
      "execution_count": null,
      "metadata": {
        "id": "UdMq1BELPyW8"
      },
      "outputs": [],
      "source": []
    },
    {
      "cell_type": "markdown",
      "metadata": {
        "id": "jjx1fcdhPyW8"
      },
      "source": [
        "**¿Cuántas filas y columnas tiene el dataframe?**"
      ]
    },
    {
      "cell_type": "code",
      "execution_count": null,
      "metadata": {
        "id": "04RG6lyEPyW8"
      },
      "outputs": [],
      "source": []
    },
    {
      "cell_type": "markdown",
      "metadata": {
        "id": "cyZ0mIC4PyW9"
      },
      "source": [
        "**Visualizar los 10 registros que están a partir del indice 3000**"
      ]
    },
    {
      "cell_type": "code",
      "execution_count": null,
      "metadata": {
        "id": "dw_WPnXCPyW9"
      },
      "outputs": [],
      "source": []
    },
    {
      "cell_type": "markdown",
      "metadata": {
        "id": "r_R3TbfXPyW9"
      },
      "source": [
        "\n",
        "La columna *Benefits* tiene valores `NaN`, ¿Cuantos NaN tiene la columna *Benefits*? (TIP: Seleccionar la columna y veficar cuantos NaN tiene con `.isna()`. Luego súmalos `.sum()`)"
      ]
    },
    {
      "cell_type": "code",
      "execution_count": null,
      "metadata": {
        "id": "7O0LGys9PyW-",
        "outputId": "a2ceb2ad-55c3-440f-ee45-99e983575fb0"
      },
      "outputs": [],
      "source": []
    },
    {
      "cell_type": "markdown",
      "metadata": {
        "id": "Ly-WXDZnPyW-"
      },
      "source": [
        "Al parecer los valores faltantes en la columna Benefits es por que no se le pagan beneficios entonces:\n",
        "\n",
        "**Reemplazar los valores *NaN* de la columna *Benefits* por el valor de cero (Usa el parámetro inplace) y mostrar los primeros 10 elementos de la lista**"
      ]
    },
    {
      "cell_type": "code",
      "execution_count": null,
      "metadata": {
        "id": "im_7NLbAPyW-"
      },
      "outputs": [],
      "source": []
    },
    {
      "cell_type": "markdown",
      "metadata": {
        "id": "VUt0Q7K4PyW-"
      },
      "source": [
        "**¿Cuál es la nueva información del dataframe?**"
      ]
    },
    {
      "cell_type": "code",
      "execution_count": null,
      "metadata": {
        "id": "O7MVbmbPPyW_"
      },
      "outputs": [],
      "source": []
    },
    {
      "cell_type": "markdown",
      "metadata": {
        "id": "6Myj1laTPyXI"
      },
      "source": [
        "**¿Cuántos valores únicos hay en las columnas categóricas?**"
      ]
    },
    {
      "cell_type": "code",
      "execution_count": null,
      "metadata": {
        "id": "alDsFNIePyXI"
      },
      "outputs": [],
      "source": []
    },
    {
      "cell_type": "markdown",
      "metadata": {
        "id": "Ri9AzBwNPyXJ"
      },
      "source": [
        "- la columna **Agency** solamente tiene un valor unico, entonces no aporta informacion, por lo tanto se puede eliminar\n",
        "\n",
        "**Elimina la columna *Agency* del dataframe**"
      ]
    },
    {
      "cell_type": "code",
      "execution_count": null,
      "metadata": {
        "id": "vIiFCdTTPyXJ"
      },
      "outputs": [],
      "source": []
    },
    {
      "cell_type": "markdown",
      "metadata": {
        "id": "v90D2AnrPyXJ"
      },
      "source": [
        "**¿Cuál es el promedio de BasePay ?**"
      ]
    },
    {
      "cell_type": "code",
      "execution_count": null,
      "metadata": {
        "id": "MwePLA2bPyXJ"
      },
      "outputs": [],
      "source": []
    },
    {
      "cell_type": "markdown",
      "metadata": {
        "id": "oqmP7XdkPyXK"
      },
      "source": [
        "**¿Cuál es la cantidad más alta de OvertimePay en el dataset ?**"
      ]
    },
    {
      "cell_type": "code",
      "execution_count": null,
      "metadata": {
        "id": "9bc7SFyrPyXK"
      },
      "outputs": [],
      "source": []
    },
    {
      "cell_type": "markdown",
      "metadata": {
        "id": "kzog2LJtPyXK"
      },
      "source": [
        "**Realiza una descripción estadística de las columnas numéricas**"
      ]
    },
    {
      "cell_type": "code",
      "execution_count": null,
      "metadata": {
        "id": "FVyPDtbEPyXK"
      },
      "outputs": [],
      "source": []
    },
    {
      "cell_type": "markdown",
      "metadata": {
        "id": "3SamijiCPyXL"
      },
      "source": [
        "**En este dataset las variables `Id` y `Year` representan variables categóricas. Convierte estas columnas a su formato correcto**"
      ]
    },
    {
      "cell_type": "code",
      "execution_count": null,
      "metadata": {
        "id": "n_YRi4EpPyXL"
      },
      "outputs": [],
      "source": []
    },
    {
      "cell_type": "markdown",
      "metadata": {
        "id": "Dtbnnbd9PyXL"
      },
      "source": [
        "**La variable `Year` es categórica ordinal. Detectar cuales son los valores únicos que tiene la columna**"
      ]
    },
    {
      "cell_type": "code",
      "execution_count": null,
      "metadata": {
        "id": "j7vbo3-qPyXL"
      },
      "outputs": [],
      "source": []
    },
    {
      "cell_type": "markdown",
      "metadata": {
        "id": "Rdu4l9SGPyXL"
      },
      "source": [
        "**A partir de la información anterior, convierte la columna `Year` en variable categórica ordinal y visualiza la columna**"
      ]
    },
    {
      "cell_type": "code",
      "execution_count": null,
      "metadata": {
        "id": "A8Ro3BALPyXL"
      },
      "outputs": [],
      "source": []
    },
    {
      "cell_type": "markdown",
      "metadata": {
        "id": "lmU1CJPKPyXM"
      },
      "source": [
        "**Realiza nuevamente una descripción estadística de las columnas numéricas**"
      ]
    },
    {
      "cell_type": "code",
      "execution_count": null,
      "metadata": {
        "id": "aMtdwN8WPyXM"
      },
      "outputs": [],
      "source": []
    },
    {
      "cell_type": "markdown",
      "metadata": {
        "id": "VqI0otRVPyXM"
      },
      "source": [
        "**¿Cuál es el título de trabajo de JOSEPH DRISCOLL? (Nota: Utiliza mayúsculas, de lo contrario, puedes obtener una respuesta que no sea correcta.)**"
      ]
    },
    {
      "cell_type": "code",
      "execution_count": null,
      "metadata": {
        "id": "_euTtw4RPyXM"
      },
      "outputs": [],
      "source": []
    },
    {
      "cell_type": "markdown",
      "metadata": {
        "id": "qUKSM8qjPyXM"
      },
      "source": [
        "**¿Cuánto gana JOSEPH DRISCOLL (incluyendo beneficios)?**"
      ]
    },
    {
      "cell_type": "code",
      "execution_count": null,
      "metadata": {
        "id": "4mH_mVSWPyXM"
      },
      "outputs": [],
      "source": []
    },
    {
      "cell_type": "markdown",
      "metadata": {
        "id": "ytAgQuoXPyXN",
        "notebookRunGroups": {
          "groupValue": "2"
        }
      },
      "source": [
        "**¿Cuál es el nombre de la persona con mejor pago (incluyendo beneficios)?**"
      ]
    },
    {
      "cell_type": "code",
      "execution_count": null,
      "metadata": {
        "id": "wI6cNBwKPyXN"
      },
      "outputs": [],
      "source": []
    },
    {
      "cell_type": "markdown",
      "metadata": {
        "id": "hl6TySRbPyXN"
      },
      "source": [
        "**¿Cuál es el nombre de la persona peor paga (incluyendo beneficios)? ¿Notas algo extraño sobre cuánto le pagan?**"
      ]
    },
    {
      "cell_type": "code",
      "execution_count": null,
      "metadata": {
        "id": "QIbMGhCXPyXN"
      },
      "outputs": [],
      "source": []
    },
    {
      "cell_type": "markdown",
      "metadata": {
        "id": "m9UWZnbNPyXN"
      },
      "source": [
        "**¿Cuántos registros tienen un valor de TotalPayBeneficts menor que cero?**"
      ]
    },
    {
      "cell_type": "code",
      "execution_count": null,
      "metadata": {
        "id": "YzX23SnpPyXO"
      },
      "outputs": [],
      "source": []
    },
    {
      "cell_type": "markdown",
      "metadata": {
        "id": "iz7iT7gxPyXO"
      },
      "source": [
        "**¿Cuál es el promedio (mean) BasePay de todos los empleados por año? (Los años van entre (2011-2014))?** (Tip: Usar groupby)"
      ]
    },
    {
      "cell_type": "code",
      "execution_count": null,
      "metadata": {
        "id": "aoHL39WXPyXO"
      },
      "outputs": [],
      "source": []
    },
    {
      "cell_type": "markdown",
      "metadata": {
        "id": "UkIEEXiePyXO"
      },
      "source": [
        "**¿Cuántos títulos de trabajos (JobTitle) únicos existen?**"
      ]
    },
    {
      "cell_type": "code",
      "execution_count": null,
      "metadata": {
        "id": "vhm3pFyNPyXO"
      },
      "outputs": [],
      "source": []
    },
    {
      "cell_type": "markdown",
      "metadata": {
        "id": "Uwk4RrtVPyXP"
      },
      "source": [
        "**¿Cuáles son los 5 trabajos más comunes?**"
      ]
    },
    {
      "cell_type": "code",
      "execution_count": null,
      "metadata": {
        "id": "WlpIQhkjPyXP"
      },
      "outputs": [],
      "source": []
    },
    {
      "cell_type": "markdown",
      "metadata": {
        "id": "S_FlHN9wPyXP"
      },
      "source": [
        "**¿Cuántos puestos de trabajo Unicos existieron en 2013? (Ejemplo, los títulos de trabajo con solo una ocurrencia en 2013?)**"
      ]
    },
    {
      "cell_type": "code",
      "execution_count": null,
      "metadata": {
        "id": "u3fieWKuPyXP"
      },
      "outputs": [],
      "source": []
    },
    {
      "cell_type": "markdown",
      "metadata": {
        "id": "tOdGFpWiPyXP"
      },
      "source": [
        "**¿Cuántas personas tienen la palabra Chief en el título de su trabajo?** Apoyese en los métodos para manipular strings y en el método `.apply()`"
      ]
    },
    {
      "cell_type": "code",
      "execution_count": null,
      "metadata": {
        "id": "gMlj-VaWPyXP"
      },
      "outputs": [],
      "source": []
    },
    {
      "cell_type": "markdown",
      "metadata": {
        "id": "AoGDlk6iPyXQ"
      },
      "source": [
        "**Bono: ¿Existe una correlación entre la longitud del nombre del Título del trabajo y el Salario?**\n",
        "\n",
        "crea una nueva columna donde se guarde la longitud del titulo del trabajo. tip: usar el método `.apply()`"
      ]
    },
    {
      "cell_type": "code",
      "execution_count": null,
      "metadata": {
        "id": "5ijjm_JQPyXQ"
      },
      "outputs": [],
      "source": []
    },
    {
      "cell_type": "markdown",
      "metadata": {
        "id": "ZWdYCBRBPyXQ"
      },
      "source": [
        "Utilice el método `.corr()` de Pandas para calcular la correlacion"
      ]
    },
    {
      "cell_type": "code",
      "execution_count": null,
      "metadata": {
        "id": "khRWivS3PyXQ"
      },
      "outputs": [],
      "source": []
    }
  ],
  "metadata": {
    "colab": {
      "provenance": []
    },
    "hide_input": false,
    "kernelspec": {
      "display_name": "Python 3",
      "language": "python",
      "name": "python3"
    },
    "language_info": {
      "codemirror_mode": {
        "name": "ipython",
        "version": 3
      },
      "file_extension": ".py",
      "mimetype": "text/x-python",
      "name": "python",
      "nbconvert_exporter": "python",
      "pygments_lexer": "ipython3",
      "version": "3.10.13"
    },
    "toc": {
      "base_numbering": 1,
      "nav_menu": {},
      "number_sections": true,
      "sideBar": true,
      "skip_h1_title": false,
      "title_cell": "Contenido",
      "title_sidebar": "Contenido",
      "toc_cell": false,
      "toc_position": {},
      "toc_section_display": true,
      "toc_window_display": false
    },
    "varInspector": {
      "cols": {
        "lenName": 16,
        "lenType": 16,
        "lenVar": 40
      },
      "kernels_config": {
        "python": {
          "delete_cmd_postfix": "",
          "delete_cmd_prefix": "del ",
          "library": "var_list.py",
          "varRefreshCmd": "print(var_dic_list())"
        },
        "r": {
          "delete_cmd_postfix": ") ",
          "delete_cmd_prefix": "rm(",
          "library": "var_list.r",
          "varRefreshCmd": "cat(var_dic_list()) "
        }
      },
      "types_to_exclude": [
        "module",
        "function",
        "builtin_function_or_method",
        "instance",
        "_Feature"
      ],
      "window_display": false
    }
  },
  "nbformat": 4,
  "nbformat_minor": 0
}
