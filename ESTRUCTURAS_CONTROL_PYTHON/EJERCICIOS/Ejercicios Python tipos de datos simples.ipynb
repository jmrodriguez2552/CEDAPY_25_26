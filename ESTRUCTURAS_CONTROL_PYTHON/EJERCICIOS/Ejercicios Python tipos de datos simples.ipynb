{
 "cells": [
  {
   "cell_type": "markdown",
   "metadata": {
    "id": "jalEMP88D-FU"
   },
   "source": [
    "# Ejercicio 1\n",
    "Escribir un programa que muestre por pantalla la cadena ¡Hola Mundo!."
   ]
  },
  {
   "cell_type": "code",
   "execution_count": 1,
   "metadata": {
    "id": "iOqZ3JB4D5aN"
   },
   "outputs": [
    {
     "name": "stdout",
     "output_type": "stream",
     "text": [
      "Hola mundo\n"
     ]
    }
   ],
   "source": [
    "#respuesta:\n",
    "print('Hola mundo')\n",
    "\n",
    "\n"
   ]
  },
  {
   "cell_type": "markdown",
   "metadata": {
    "id": "2G-ndAplEH47"
   },
   "source": [
    "# Ejercicio 2\n",
    "Escribir un programa que almacene la cadena ¡Hola Mundo! en una variable y luego muestre por pantalla el contenido de la variable."
   ]
  },
  {
   "cell_type": "code",
   "execution_count": 2,
   "metadata": {
    "id": "IU6XKJGjEOzD"
   },
   "outputs": [
    {
     "name": "stdout",
     "output_type": "stream",
     "text": [
      "Hola mundo\n"
     ]
    }
   ],
   "source": [
    "#respuesta:\n",
    "\n",
    "saludo = 'Hola mundo'\n",
    "print(saludo)\n",
    "\n"
   ]
  },
  {
   "cell_type": "markdown",
   "metadata": {
    "id": "AiGFpz4qESDp"
   },
   "source": [
    "# Ejercicio 3\n",
    "Escribir un programa que pregunte el nombre del usuario en la consola y después de que el usuario lo introduzca muestre por pantalla la cadena ¡Hola \\<nombre>!, donde \\<nombre> es el nombre que el usuario haya introducido."
   ]
  },
  {
   "cell_type": "code",
   "execution_count": 3,
   "metadata": {
    "id": "HjfpAl0nEb-_"
   },
   "outputs": [
    {
     "name": "stdout",
     "output_type": "stream",
     "text": [
      "Hola Jose!\n"
     ]
    }
   ],
   "source": [
    "#respuestas:\n",
    "name = input('Introduce tu nombre')\n",
    "print(f'Hola {name}!')\n",
    "\n",
    "\n"
   ]
  },
  {
   "cell_type": "markdown",
   "metadata": {
    "id": "YgRUX2BTEhiS"
   },
   "source": [
    "# Ejercicio 4:\n",
    "Escribir un programa que muestre por pantalla el resultado de la siguiente operación aritmética: $\\left(\\frac{3+2}{2\\cdot 5}\\right)^2$\n",
    "\n"
   ]
  },
  {
   "cell_type": "code",
   "execution_count": 9,
   "metadata": {
    "id": "3Uki5kGqH_eC"
   },
   "outputs": [
    {
     "name": "stdout",
     "output_type": "stream",
     "text": [
      "0.25\n"
     ]
    }
   ],
   "source": [
    "#respuesta:\n",
    "\n",
    "operacion = ((3+2)/(2*5))**2\n",
    "print(operacion)\n",
    "\n"
   ]
  },
  {
   "cell_type": "markdown",
   "metadata": {
    "id": "3GUDAMF9JPw_"
   },
   "source": [
    "# Ejercicio 5:\n",
    "Escribir un programa que pregunte al usuario por el número de horas trabajadas y el coste por hora. Después debe mostrar por pantalla la paga que le corresponde."
   ]
  },
  {
   "cell_type": "code",
   "execution_count": 10,
   "metadata": {},
   "outputs": [
    {
     "name": "stdout",
     "output_type": "stream",
     "text": [
      "La paga que te corresponde a la semana es de: 400\n"
     ]
    }
   ],
   "source": [
    "work_hours = int(input('Introduce el número de horas trabajadas a la semana'))\n",
    "cost_hour = int(input('Introduce el coste por hora'))\n",
    "pay_week = work_hours * cost_hour\n",
    "print(f'La paga que te corresponde a la semana es de: {pay_week}')"
   ]
  },
  {
   "cell_type": "markdown",
   "metadata": {
    "id": "xO5D-LJ6JVXG"
   },
   "source": [
    "# Ejercicio 6:\n",
    "Escribir un programa que lea un entero positivo, n, introducido por el usuario y después muestre en pantalla la suma de todos los enteros desde 1 hasta n. La suma de los primeros enteros positivos puede ser calculada de la siguiente forma: $\\text{suma} = \\frac{n(n+1)}{2}$\n"
   ]
  },
  {
   "cell_type": "code",
   "execution_count": 12,
   "metadata": {
    "id": "f2nHYPd8JhdB"
   },
   "outputs": [
    {
     "name": "stdout",
     "output_type": "stream",
     "text": [
      "La suma de los números enteros positivos desde 1 hasta 5 es de:15\n"
     ]
    }
   ],
   "source": [
    "#respuesta:\n",
    "\n",
    "num_entero = int(input('Introduce un entero positivo'))\n",
    "suma = 0\n",
    "for x in range(1, num_entero+1):\n",
    "    suma += x\n",
    "\n",
    "print(f'La suma de los números enteros positivos desde 1 hasta {num_entero} es de:{suma}')\n",
    "\n"
   ]
  },
  {
   "cell_type": "markdown",
   "metadata": {
    "id": "dxFtV22UKB3v"
   },
   "source": [
    "# Ejercicio 7:\n",
    "Escribir un programa que pida al usuario su peso (en kg) y estatura (en metros), calcule el índice de masa corporal y lo almacene en una variable, y muestre por pantalla la frase \"Tu índice de masa corporal es \\<imc>\" donde \\<imc> es el índice de masa corporal calculado redondeado con dos decimales."
   ]
  },
  {
   "cell_type": "code",
   "execution_count": 14,
   "metadata": {
    "id": "fBW2Uje9KS45"
   },
   "outputs": [
    {
     "name": "stdout",
     "output_type": "stream",
     "text": [
      "Tu índice de masa corporal es: 24.98\n"
     ]
    }
   ],
   "source": [
    "#respuesta:\n",
    "peso = float(input('Introduce tu peso en kg'))\n",
    "estatura = float(input('Introduce tu estatura en metros'))\n",
    "imc = peso/(estatura)**2\n",
    "print(f'Tu índice de masa corporal es: {imc.__round__(2)}')\n",
    "\n",
    "\n"
   ]
  },
  {
   "cell_type": "markdown",
   "metadata": {
    "id": "BgbyMPg9LXvY"
   },
   "source": [
    "# Ejercicio 8:\n",
    "Escribir un programa que pida al usuario dos números enteros y muestre por pantalla \"La \\<n> entre \\<m> da un cociente \\<c> y un resto \\<r>\" donde \\<n> y \\<m> son los números introducidos por el usuario, y \\<c> y \\<r> son el cociente y el resto de la división entera respectivamente."
   ]
  },
  {
   "cell_type": "code",
   "execution_count": 15,
   "metadata": {
    "id": "ZKHJUlbqLnyI"
   },
   "outputs": [
    {
     "name": "stdout",
     "output_type": "stream",
     "text": [
      "La división de 5 entre 2 da un cociente de 2.5 y un resto de 1\n"
     ]
    }
   ],
   "source": [
    "#respuesta:\n",
    "num1 = int(input('Introduce un entero'))\n",
    "num2 = int(input('Introduce otro entero'))\n",
    "cociente = num1/num2\n",
    "resto = num1 % num2\n",
    "print(f'La división de {num1} entre {num2} da un cociente de {cociente} y un resto de {resto}')\n",
    "\n",
    "\n"
   ]
  },
  {
   "cell_type": "markdown",
   "metadata": {
    "id": "io-kGnCaLwP5"
   },
   "source": [
    "# Ejercicio 9:\n",
    "Escribir un programa que pregunte al usuario una cantidad a invertir, el interés anual y el número de años, y muestre por pantalla el capital obtenido en la inversión."
   ]
  },
  {
   "cell_type": "code",
   "execution_count": 20,
   "metadata": {
    "id": "avcOBTNqL1A-"
   },
   "outputs": [
    {
     "name": "stdout",
     "output_type": "stream",
     "text": [
      "El capital obtenido por tu invesión es de : 6315.0 euros\n"
     ]
    }
   ],
   "source": [
    "#respuesta:\n",
    "\n",
    "cantidad = float(input('Introduce la cantidad a invertir'))\n",
    "tin = float(input('Introduce el tipo de ínteres'))\n",
    "years = int(input('Intoduce los añosde la inversión'))\n",
    "capital = ((cantidad*(tin/100))*years)+cantidad\n",
    "print(f'El capital obtenido por tu invesión es de : {capital.__round__(2)} euros')\n"
   ]
  },
  {
   "cell_type": "markdown",
   "metadata": {
    "id": "LGyXLn-HL3eU"
   },
   "source": [
    "# Ejercicio 10:\n",
    "Una juguetería tiene mucho éxito en dos de sus productos: payasos y muñecas. Suele hacer venta por correo y la empresa de logística les cobra por peso de cada paquete así que deben calcular el peso de los payasos y muñecas que saldrán en cada paquete a demanda. Cada payaso pesa 112 g y cada muñeca 75 g. Escribir un programa que lea el número de payasos y muñecas vendidos en el último pedido y calcule el peso total del paquete que será enviado."
   ]
  },
  {
   "cell_type": "code",
   "execution_count": 21,
   "metadata": {
    "id": "IV3U_R7kMBW9"
   },
   "outputs": [
    {
     "name": "stdout",
     "output_type": "stream",
     "text": [
      "El Peso total del último pedido asciende a: 2280\n"
     ]
    }
   ],
   "source": [
    "#respuesta:\n",
    "peso_payaso = 112\n",
    "peso_muneca = 75\n",
    "cantidad_payasos = int(input('Intoduce los payasos del último pedido'))\n",
    "cantidad_munecas = int(input('Intoduce las muñecas del último pedido'))\n",
    "peso_paquete = (peso_payaso * cantidad_payasos)+(peso_muneca * cantidad_munecas)\n",
    "\n",
    "print(f'El Peso total del último pedido asciende a: {peso_paquete}')\n",
    "\n",
    "\n"
   ]
  },
  {
   "cell_type": "markdown",
   "metadata": {
    "id": "5v3Q4CC1MDa2"
   },
   "source": [
    "# Ejercicio 11:\n",
    "Imagina que acabas de abrir una nueva cuenta de ahorros que te ofrece el 4% de interés al año. Estos ahorros debido a intereses, que no se cobran hasta finales de año, se te añaden al balance final de tu cuenta de ahorros. Escribir un programa que comience leyendo la cantidad de dinero depositada en la cuenta de ahorros, introducida por el usuario. Después el programa debe calcular y mostrar por pantalla la cantidad de ahorros tras el primer, segundo y tercer años. Redondear cada cantidad a dos decimales."
   ]
  },
  {
   "cell_type": "code",
   "execution_count": 23,
   "metadata": {
    "id": "RirCLxFXMMJw"
   },
   "outputs": [
    {
     "name": "stdout",
     "output_type": "stream",
     "text": [
      "Los ahorros del primer año son: 6240.0 euros\n",
      "Los ahorros del segundo año son: 6489.6 euros\n",
      "Los ahorros del tercer año son: 6749.184 euros\n"
     ]
    }
   ],
   "source": [
    "#respuesta:\n",
    "tin = 4\n",
    "ahorros = float(input('Introduce la cantidad de la cuenta de ahorros'))\n",
    "first_year = ahorros*(tin/100)\n",
    "ahorros += first_year\n",
    "print(f'Los ahorros del primer año son: {ahorros} euros')\n",
    "second_year = ahorros*(tin/100)\n",
    "ahorros += second_year\n",
    "print(f'Los ahorros del segundo año son: {ahorros} euros')\n",
    "third_year = ahorros*(tin/100)\n",
    "ahorros += third_year\n",
    "print(f'Los ahorros del tercer año son: {ahorros} euros')\n"
   ]
  },
  {
   "cell_type": "markdown",
   "metadata": {
    "id": "joIwZuXoMTLP"
   },
   "source": [
    "# Ejercicio 12:\n",
    "Una panadería vende barras de pan a 3.49€ cada una. El pan que no es el día tiene un descuento del 60%. Escribir un programa que comience leyendo el número de barras vendidas que no son del día. Después el programa debe mostrar el precio habitual de una barra de pan, el descuento que se le hace por no ser fresca y el coste final total."
   ]
  },
  {
   "cell_type": "code",
   "execution_count": 26,
   "metadata": {
    "id": "4QHr1OlRMWGw"
   },
   "outputs": [
    {
     "name": "stdout",
     "output_type": "stream",
     "text": [
      "El precio de la barra es de : 3.49\n",
      "Si no es del día, se le aplica un descuento del 60% siendo su precio de: 2.094\n",
      "\n",
      "El coste total por 15 barras con descuento asciende a: 31.41\n"
     ]
    }
   ],
   "source": [
    "#respuesta:\n",
    "price_barra = 3.49\n",
    "price_with_discount = price_barra * 0.60\n",
    "amount_bread = int(input('Introduce las barras de pan vendidas con descuento'))\n",
    "total_cost = amount_bread * price_with_discount\n",
    "print(f'El precio de la barra es de : {price_barra}\\nSi no es del día, se le aplica un descuento del 60% siendo su precio de: {price_with_discount}\\n')\n",
    "print(f'El coste total por {amount_bread} barras con descuento asciende a: {total_cost.__round__(2)}')\n",
    "\n"
   ]
  }
 ],
 "metadata": {
  "colab": {
   "name": "Ejercicios Python tipos de datos simples.ipynb",
   "provenance": []
  },
  "kernelspec": {
   "display_name": "env",
   "language": "python",
   "name": "python3"
  },
  "language_info": {
   "codemirror_mode": {
    "name": "ipython",
    "version": 3
   },
   "file_extension": ".py",
   "mimetype": "text/x-python",
   "name": "python",
   "nbconvert_exporter": "python",
   "pygments_lexer": "ipython3",
   "version": "3.11.9"
  }
 },
 "nbformat": 4,
 "nbformat_minor": 0
}
