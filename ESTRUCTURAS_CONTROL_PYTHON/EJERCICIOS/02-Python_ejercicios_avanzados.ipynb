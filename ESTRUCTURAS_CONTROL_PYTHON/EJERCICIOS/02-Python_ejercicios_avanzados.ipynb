{
 "cells": [
  {
   "cell_type": "markdown",
   "metadata": {
    "id": "ZmX0AObVDj-Z"
   },
   "source": [
    "En esta hoja de ejercicios, vamos a intentar resolver problemas más complejos con Python. El objetivo es trabajar vuestra capacidad de abstracción para resolver problemas más complejos, de forma que tengáis que pensar y plantear vuestras propias soluciones."
   ]
  },
  {
   "cell_type": "markdown",
   "metadata": {
    "id": "5pD_FLb2FGjN"
   },
   "source": [
    "---\n",
    "# Orden y limpieza\n"
   ]
  },
  {
   "cell_type": "markdown",
   "metadata": {
    "id": "snKu25P_yiiO"
   },
   "source": [
    "Define una función \"clean_order\" que:\n",
    "\n",
    "*   Acepte una lista de números enteros\n",
    "*   Verifique que todo son números enteros (en caso de no ser así que elimine de la lista los elementos que no lo sean)\n",
    "*   Devuelva la lista ordenada de menor a mayor\n",
    "\n",
    "Llama a la función con la lista \"co_data\" e imprime su resultado por pantalla:"
   ]
  },
  {
   "cell_type": "code",
   "execution_count": 1,
   "metadata": {
    "id": "HwUOlkJxHFGR"
   },
   "outputs": [
    {
     "name": "stdout",
     "output_type": "stream",
     "text": [
      "[-31, -4, 0, 3, 12, 47, 100]\n"
     ]
    }
   ],
   "source": [
    "co_data = [\"first\", 12, 47, 0, -4, 23.02, [2, 3, 4, 8, -3], \"last\", 3, 100, -31]\n",
    "\n",
    "def clean_order (lista:list):\n",
    "    new_list = []\n",
    "    for datos in lista:\n",
    "        if type(datos) is int:\n",
    "            new_list.append(datos)\n",
    "          \n",
    "    new_list.sort()\n",
    "    print(new_list)\n",
    "\n",
    "clean_order(co_data)"
   ]
  },
  {
   "cell_type": "markdown",
   "metadata": {
    "id": "wW4J2rPXP4lI"
   },
   "source": [
    "---\n",
    "# Palíndromo\n",
    "Un palíndromo es una palabra que se lee igual de derecha a izquierda que de izquierda a derecha, por ejemplo \"reconocer\". Haz una función que devuelva verdadero si el parámetro de entrada es una palabra que cumpla con esta definición:"
   ]
  },
  {
   "cell_type": "code",
   "execution_count": 4,
   "metadata": {
    "id": "NHCHAk2cQWsy"
   },
   "outputs": [
    {
     "name": "stdout",
     "output_type": "stream",
     "text": [
      "True\n"
     ]
    }
   ],
   "source": [
    "def es_palindromo(cad:str):\n",
    "    cad_reverse = \"\"\n",
    "    palindromo = False\n",
    "    for texto in reversed(cad):\n",
    "        cad_reverse += texto\n",
    "    \n",
    "    if cad_reverse.lower() == cad.lower():\n",
    "        palindromo = True\n",
    "    \n",
    "    return palindromo\n",
    "\n",
    "print(es_palindromo(\"Reconocer\"))"
   ]
  },
  {
   "cell_type": "markdown",
   "metadata": {
    "id": "Yw32WXKGHgVc"
   },
   "source": [
    "---\n",
    "# Autobusero"
   ]
  },
  {
   "cell_type": "markdown",
   "metadata": {
    "id": "ongRBo8Fyn2U"
   },
   "source": [
    "Define una función \"bus_stops\" que:\n",
    "\n",
    "*   Acepte una lista de diccionarios con una serie de coordenadas (\"x\" e \"y\") con números enteros\n",
    "*   Verifique que todo son números enteros (en caso de no ser así que elimine las coordenadas que no lo cumplan)\n",
    "*   Calcule el orden que optimice la distancia mínima a recorrer si tenemos que pasar por todos los puntos.\n",
    "*   Muestre por pantalla la distancia mínima obtenida y devuelva un diccionario con el orden correcto de los puntos.\n",
    "\n",
    "Llama a la función con el diccionario \"bs_data\" e imprime su resultado por pantalla:"
   ]
  },
  {
   "cell_type": "code",
   "execution_count": 5,
   "metadata": {
    "id": "7-AVFc50KXi3"
   },
   "outputs": [
    {
     "name": "stdout",
     "output_type": "stream",
     "text": [
      "[{'x': 1, 'y': 1}, {'x': 3, 'y': 9}, {'x': 9, 'y': 4}, {'x': 1, 'y': 1}, {'x': 1, 'y': 5}, {'x': 5, 'y': 2}, {'x': 4, 'y': 10}, {'x': 8, 'y': 8}]\n"
     ]
    }
   ],
   "source": [
    "bs_data = [{\"x\": 1, \"y\": 1},\n",
    "        {\"x\": \"some\", \"y\": 12},\n",
    "        {\"x\": 3, \"y\": 9},\n",
    "        {\"x\": 9, \"y\": 4},\n",
    "        {\"x\": 1, \"y\": 1},\n",
    "        {\"x\": 1, \"y\": 5},\n",
    "        {\"x\": 5, \"y\": 2},\n",
    "        {\"x\": 4, \"y\": 10},\n",
    "        {\"x\": 8, \"y\": 8},\n",
    "        {\"x\": -3, \"y\": 2.3}]\n",
    "\n",
    "def bus_stoop(list_values:list):\n",
    "    list_values_ok = []\n",
    "    for datos in list_values:\n",
    "        if isinstance(datos,dict) and isinstance(datos[\"x\"],int) and isinstance(datos[\"y\"] ,int):\n",
    "                list_values_ok.append(datos)\n",
    "    \n",
    "    print(list_values_ok)\n",
    "\n",
    "bus_stoop(bs_data)"
   ]
  },
  {
   "cell_type": "markdown",
   "metadata": {
    "id": "bZ0s0Oe3PfPK"
   },
   "source": [
    "---\n",
    "# Mochila"
   ]
  },
  {
   "cell_type": "markdown",
   "metadata": {
    "id": "WqHPBvfuylVI"
   },
   "source": [
    "Define una función \"backpack\" que:\n",
    "\n",
    "*   Acepte dos parámetros de entrada: un número entero que especificará el peso que es capaz de soportar la mochila y una lista de pares de elementos (definidos en diccionarios) que contenga el peso y el valor de cada objeto\n",
    "*   Verifique que todos los parámetros son números enteros (los que no sean así serán eliminados)\n",
    "*   Calcule la mejor combinación de objetos que permita la máxima ganancia limitandose al peso que soporta la mochila\n",
    "*   Muestre por pantalla el valor obtenido\n",
    "*   Devuelva una lista con los elementos escogidos\n",
    "\n",
    "Llama a la función con los parámetros \"backpack_weight_limit\" y \"objects\" e imprime su resultado por pantalla:"
   ]
  },
  {
   "cell_type": "code",
   "execution_count": 6,
   "metadata": {
    "id": "wRMdmv0YR3zq"
   },
   "outputs": [
    {
     "name": "stdout",
     "output_type": "stream",
     "text": [
      "[{'weight': 1, 'value': 1}, {'weight': 6, 'value': 4}, {'weight': 4, 'value': 7}, {'weight': 5, 'value': 6}, {'weight': 1, 'value': 3}, {'weight': 6, 'value': 8}, {'weight': 3, 'value': 6}, {'weight': 10, 'value': 11}, {'weight': 4, 'value': 4}, {'weight': 7, 'value': 3}]\n"
     ]
    }
   ],
   "source": [
    "backpack_weight_limit = 15\n",
    "objects = [{\"weight\": 1, \"value\": 1},\n",
    "           {\"weight\": 6, \"value\": 4},\n",
    "           {\"weight\": 4, \"value\": 7},\n",
    "           {\"weight\": 5, \"value\": 6},\n",
    "           {\"weight\": 1, \"value\": 3},\n",
    "           {\"weight\": 6, \"value\": 8},\n",
    "           {\"weight\": 3, \"value\": 6},\n",
    "           {\"weight\": 10, \"value\": 11},\n",
    "           {\"weight\": 4, \"value\": 4},\n",
    "           {\"weight\": 7, \"value\": 3}]\n",
    "\n",
    "def backpack(peso:int, objetos:list):\n",
    "    list_objetos = []\n",
    "    for values in objetos:\n",
    "        if isinstance(values, dict) and isinstance(values[\"weight\"], int) and isinstance(values[\"value\"], int):\n",
    "            list_objetos.append(values)\n",
    "    \n",
    "    print(list_objetos)\n",
    "\n",
    "backpack(backpack_weight_limit, objects)"
   ]
  },
  {
   "cell_type": "markdown",
   "metadata": {
    "id": "Wxa6x-OOGbph"
   },
   "source": [
    "---\n",
    "# Jarras de agua"
   ]
  },
  {
   "cell_type": "markdown",
   "metadata": {
    "id": "ulhWGz1QyqHg"
   },
   "source": [
    "Define una función \"water_pitcher\" que:\n",
    "*   Acepte dos parámetros: el primero la cantidad objetivo de agua a separar, el segundo una lista de números enteros que serán las distintas jarras de agua de que disponemos (por ejemplo, una de 3 litros y otra de 5 --> [3, 5])\n",
    "*   Verifica que en ningún caso, la cantidad objetivo de agua es superior al tamaño de la mayor jarra.\n",
    "*   Calcule cómo separar la cantidad de agua objetivo de manera exacta utilizando las jarras disponibles (se pueden llenar las jarras tantas veces como se quiera)\n",
    "*   Muestre por pantalla el orden correcto para hallar la solución o indica si es imposible\n",
    "\n",
    "Llamar a la función con el agua objetivo \"required_water\" y la lista de jarras \"water_pitchers\":"
   ]
  },
  {
   "cell_type": "code",
   "execution_count": 7,
   "metadata": {
    "id": "qLnFX7qmxZxH"
   },
   "outputs": [
    {
     "name": "stdout",
     "output_type": "stream",
     "text": [
      "En cada jarra se han almacenado  2.0  litros y la jarra menor se ha rellenado 1 veces.\n"
     ]
    }
   ],
   "source": [
    "required_water = 4\n",
    "water_pitchers = [3, 5]\n",
    "\n",
    "def water_pitcher(litros, jarras:list):\n",
    "    mayor_jarra = jarras[0]\n",
    "    veces = 1\n",
    "    for cantidad in jarras:\n",
    "        if cantidad > mayor_jarra:\n",
    "            mayor_jarra = cantidad\n",
    "           \n",
    "    if litros > mayor_jarra:\n",
    "        raise Exception(\"Error la cantidad objetivo no puede ser mayor que el tamaño de la mayor jarra\")\n",
    "        \n",
    "    litros_en_Jarra = litros/(len(jarras))\n",
    "    \n",
    "    for cantidad in jarras:\n",
    "        while(cantidad<litros_en_Jarra):\n",
    "            cantidad +=1\n",
    "            veces +=1\n",
    "    \n",
    "    print(\"En cada jarra se han almacenado \", litros_en_Jarra ,\" litros y la jarra menor se ha rellenado\", veces, \"veces.\")\n",
    "    \n",
    "try:\n",
    "    water_pitcher(required_water, water_pitchers)\n",
    "except Exception as e:\n",
    "    print(e)"
   ]
  },
  {
   "cell_type": "markdown",
   "metadata": {
    "id": "hXfnIEb0ZH07"
   },
   "source": [
    "---\n",
    "# Tres en raya"
   ]
  },
  {
   "cell_type": "markdown",
   "metadata": {
    "id": "MmsNCcgvys-Z"
   },
   "source": [
    "Define una función \"tic_tac_toe\" que:\n",
    "\n",
    "1.   No acepte ningún parámetro\n",
    "2.   Muestre por pantalla el estado actual del tablero del tres en raya (vacío al principio)\n",
    "3.   Pida al usuario una posición donde colocar su ficha\n",
    "4.   Verifique que esa posición existe y está vacía\n",
    "5.   Muestre el tablero con la ficha introducida y verifique la condición de victoria\n",
    "6.   En caso de ganar que termine ahí. En caso contrario va al paso siguiente\n",
    "7.   Decida la mejor jugada posible siendo la máquina el adversario del usuario\n",
    "8.   Muestre el movimiento a realizar\n",
    "9.   Muestre el tablero con el movimiento realizado\n",
    "10.  Compruebe la condición de victoria\n",
    "11.  Si ha ganado la máquina termina ahí. En caso contrario volver al paso 3\n",
    "\n",
    "Llamar a la función:"
   ]
  },
  {
   "cell_type": "code",
   "execution_count": 8,
   "metadata": {
    "id": "HiDAEG-fiaK9"
   },
   "outputs": [
    {
     "name": "stdout",
     "output_type": "stream",
     "text": [
      "[[], [], [], [], [], [], [], [], []]\n",
      "[[], [], ['x'], [], [], [], [], [], []]\n"
     ]
    }
   ],
   "source": [
    "def tic_tac_toe():\n",
    "    tablero = [[],[],[],\n",
    "               [],[],[],\n",
    "               [],[],[]]\n",
    "    print(tablero)\n",
    "    posicion=int(input(\"Introduce la posición donde colocar la ficha\"))\n",
    "    \n",
    "    tablero[posicion].append(\"x\")\n",
    "    \n",
    "    print(tablero)\n",
    "\n",
    "\n",
    "\n",
    "tic_tac_toe()"
   ]
  }
 ],
 "metadata": {
  "colab": {
   "authorship_tag": "ABX9TyNrmNErkyGypCATbd6rz2/W",
   "name": "02-Python_ejercicios_avanzados.ipynb",
   "provenance": [
    {
     "file_id": "1wgaarSQ6D1wdpR7X_sRHpz4iMOHz8r9l",
     "timestamp": 1633448186468
    }
   ]
  },
  "kernelspec": {
   "display_name": "env",
   "language": "python",
   "name": "python3"
  },
  "language_info": {
   "codemirror_mode": {
    "name": "ipython",
    "version": 3
   },
   "file_extension": ".py",
   "mimetype": "text/x-python",
   "name": "python",
   "nbconvert_exporter": "python",
   "pygments_lexer": "ipython3",
   "version": "3.11.9"
  }
 },
 "nbformat": 4,
 "nbformat_minor": 0
}
