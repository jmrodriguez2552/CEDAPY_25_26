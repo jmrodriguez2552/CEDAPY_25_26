{
 "cells": [
  {
   "cell_type": "markdown",
   "metadata": {
    "id": "rJARCvoR1PJd"
   },
   "source": [
    "En esta primera tanda de ejercicios trabajaremos los conocimientos básicos de python para afianzarlos y que trabajéis con el lenguaje con cierta soltura."
   ]
  },
  {
   "cell_type": "markdown",
   "metadata": {
    "id": "lJ19ASh02ew7"
   },
   "source": [
    "---\n",
    "# Variables"
   ]
  },
  {
   "cell_type": "markdown",
   "metadata": {
    "id": "xr_1b_qo2lPj"
   },
   "source": [
    "### Ejercicio 1\n"
   ]
  },
  {
   "cell_type": "markdown",
   "metadata": {
    "id": "YZAna3pe4ul1"
   },
   "source": [
    "Define una variable llamada \"x\". Asignale el valor 5 y muestrala por pantalla:"
   ]
  },
  {
   "cell_type": "code",
   "execution_count": 1,
   "metadata": {
    "id": "tgQ9FM7J2lzg"
   },
   "outputs": [
    {
     "name": "stdout",
     "output_type": "stream",
     "text": [
      "5\n"
     ]
    }
   ],
   "source": [
    "x = 5\n",
    "print(x)"
   ]
  },
  {
   "cell_type": "markdown",
   "metadata": {
    "id": "OCpHLklW4vyT"
   },
   "source": [
    "### Ejercicio 2"
   ]
  },
  {
   "cell_type": "markdown",
   "metadata": {
    "id": "Bm5WURXM4OfZ"
   },
   "source": [
    "Define una variable llamada \"name\". Pide al usuario que introduzca su nombre y asígnalo a la variable. Por último, muestra el contenido de la variable por pantalla:"
   ]
  },
  {
   "cell_type": "code",
   "execution_count": 2,
   "metadata": {
    "id": "AAnimlzu4as8"
   },
   "outputs": [
    {
     "name": "stdout",
     "output_type": "stream",
     "text": [
      "Bienvenido Jose\n"
     ]
    }
   ],
   "source": [
    "name = input(\"Enter your name: \")\n",
    "print(f\"Bienvenido {name}\")"
   ]
  },
  {
   "cell_type": "markdown",
   "metadata": {
    "id": "gQyc0-FU4yob"
   },
   "source": [
    "### Ejercicio 3"
   ]
  },
  {
   "cell_type": "markdown",
   "metadata": {
    "id": "aCsvw7PM4bag"
   },
   "source": [
    "Define una variable llamada \"data\". Asignale el valor 10 y muestra el tipo de la variable por pantalla:"
   ]
  },
  {
   "cell_type": "code",
   "execution_count": null,
   "metadata": {
    "id": "XH862Qm_4qvB"
   },
   "outputs": [
    {
     "name": "stdout",
     "output_type": "stream",
     "text": [
      "<class 'int'>\n"
     ]
    }
   ],
   "source": [
    "data = 10\n",
    "print(type(data))\n",
    "\n"
   ]
  },
  {
   "cell_type": "markdown",
   "metadata": {
    "id": "82At72Uh4rPi"
   },
   "source": [
    "### Ejercicio 4"
   ]
  },
  {
   "cell_type": "markdown",
   "metadata": {
    "id": "X3kOo-fX41qx"
   },
   "source": [
    "Define una variable llamada \"data\". Asignale el valor 10 y luego cambia su tipo a \"string\" manteniendo su contenido (transforma el 10 numérico a texto). Muestra el tipo de la variable tras la modificación:"
   ]
  },
  {
   "cell_type": "code",
   "execution_count": 1,
   "metadata": {
    "id": "GiRRTgO05GmC"
   },
   "outputs": [
    {
     "name": "stdout",
     "output_type": "stream",
     "text": [
      "<class 'int'>\n"
     ]
    }
   ],
   "source": [
    "data = 10\n",
    "print(type(data))"
   ]
  },
  {
   "cell_type": "markdown",
   "metadata": {
    "id": "ftRBEuma5HGX"
   },
   "source": [
    "### Ejercicio 5"
   ]
  },
  {
   "cell_type": "markdown",
   "metadata": {
    "id": "JROYP9sk5JIF"
   },
   "source": [
    "Partiendo de que estamos en el año 2021, pide al usuario su año de nacimiento y calcula su edad (solo con el año). Muestra su edad por pantalla:"
   ]
  },
  {
   "cell_type": "code",
   "execution_count": 2,
   "metadata": {
    "id": "t3J9onfr5TCd"
   },
   "outputs": [
    {
     "name": "stdout",
     "output_type": "stream",
     "text": [
      "Tu edad actual es: 41\n"
     ]
    }
   ],
   "source": [
    "year = 2021\n",
    "year_brith = int(input(\"Introduce tu año de nacimiento\"))\n",
    "edad = year - year_brith\n",
    "print(f\"Tu edad actual es: {edad}\")"
   ]
  },
  {
   "cell_type": "markdown",
   "metadata": {
    "id": "2hS7unzA5Tge"
   },
   "source": [
    "### Ejercicio 6"
   ]
  },
  {
   "cell_type": "markdown",
   "metadata": {
    "id": "V0Vvv7Mp5Uu6"
   },
   "source": [
    "Pide al usuario dos números y muestra por pantalla el resultado de la suma de los mismos:"
   ]
  },
  {
   "cell_type": "code",
   "execution_count": 3,
   "metadata": {
    "id": "ObEaeHcp5cqw"
   },
   "outputs": [
    {
     "name": "stdout",
     "output_type": "stream",
     "text": [
      "La suma de los números es: 55\n"
     ]
    }
   ],
   "source": [
    "num1 = int(input(\"Introduce un número\"))\n",
    "num2 = int(input(\"Introduce otro número\"))\n",
    "suma = num1 + num2\n",
    "print(f\"La suma de los números es: {suma}\")"
   ]
  },
  {
   "cell_type": "markdown",
   "metadata": {
    "id": "H8TxHadG5c4I"
   },
   "source": [
    "### Ejercicio 7"
   ]
  },
  {
   "cell_type": "markdown",
   "metadata": {
    "id": "4x0CmyJt5eSF"
   },
   "source": [
    "Pide al usuario dos números, calcula la media de los mismos y muestrala por pantalla:"
   ]
  },
  {
   "cell_type": "code",
   "execution_count": 5,
   "metadata": {
    "id": "J0oT42KZ5jjU"
   },
   "outputs": [
    {
     "name": "stdout",
     "output_type": "stream",
     "text": [
      "La media de los números es: 37.5\n"
     ]
    }
   ],
   "source": [
    "num1 = int(input(\"Introduce un número\"))\n",
    "num2 = int(input(\"Introduce otro número\"))\n",
    "media = (num1+num2)/2\n",
    "print(f\"La media de los números es: {media}\")"
   ]
  },
  {
   "cell_type": "markdown",
   "metadata": {
    "id": "vDx3w1mI5jwc"
   },
   "source": [
    "### Ejercicio 8"
   ]
  },
  {
   "cell_type": "markdown",
   "metadata": {
    "id": "IisTHG4a5l3G"
   },
   "source": [
    "Pide al usuario su nombre por un lado y luego su apellido. Concatenalos en una sola variable y muestra el resultado por pantalla:"
   ]
  },
  {
   "cell_type": "code",
   "execution_count": 7,
   "metadata": {
    "id": "1z_retHA5scO"
   },
   "outputs": [
    {
     "name": "stdout",
     "output_type": "stream",
     "text": [
      "Mi nombre completo es: Jose Manuel Rodríguez Madrid\n"
     ]
    }
   ],
   "source": [
    "name = input(\"Introduce tu nombre\")\n",
    "surname = input(\"Introduce tus apellidos\")\n",
    "full_name = name + \" \" + surname\n",
    "print(f\"Mi nombre completo es: {full_name}\")"
   ]
  },
  {
   "cell_type": "markdown",
   "metadata": {
    "id": "js5e9wHm2mKk"
   },
   "source": [
    "---\n",
    "# Colecciones de datos"
   ]
  },
  {
   "cell_type": "markdown",
   "metadata": {
    "id": "WiVrgDh22qEU"
   },
   "source": [
    "## Listas"
   ]
  },
  {
   "cell_type": "markdown",
   "metadata": {
    "id": "Y_wONBLS2u6s"
   },
   "source": [
    "### Ejercicio 9"
   ]
  },
  {
   "cell_type": "markdown",
   "metadata": {
    "id": "4a28Gykv6F3-"
   },
   "source": [
    "Define una lista de 5 elementos con los nombres de distintos colores. Muestrala por pantalla:"
   ]
  },
  {
   "cell_type": "code",
   "execution_count": 8,
   "metadata": {
    "id": "YQNTPyrS2qRK"
   },
   "outputs": [
    {
     "name": "stdout",
     "output_type": "stream",
     "text": [
      "['amarillo', 'rojo', 'verde', 'azul', 'negro']\n"
     ]
    }
   ],
   "source": [
    "colors_list = [\"amarillo\", \"rojo\", \"verde\", \"azul\", \"negro\"]\n",
    "print(colors_list)"
   ]
  },
  {
   "cell_type": "markdown",
   "metadata": {
    "id": "wJkMrisc6Ruz"
   },
   "source": [
    "### Ejercicio 10"
   ]
  },
  {
   "cell_type": "markdown",
   "metadata": {
    "id": "N7bXlWMF6S74"
   },
   "source": [
    "Pide al usuario 3 numeros y añadelos a una lista. Muestra el contenido de la lista por pantalla:"
   ]
  },
  {
   "cell_type": "code",
   "execution_count": 2,
   "metadata": {
    "id": "8QdB_C4u6g7o"
   },
   "outputs": [
    {
     "name": "stdout",
     "output_type": "stream",
     "text": [
      "[15, 50, 60]\n"
     ]
    }
   ],
   "source": [
    "number_list = []\n",
    "count = 0\n",
    "while(count < 3):\n",
    "    number = int(input(\"Introduce un número\"))\n",
    "    number_list.append(number)\n",
    "    count += 1\n",
    "\n",
    "\n",
    "print(number_list)"
   ]
  },
  {
   "cell_type": "markdown",
   "metadata": {
    "id": "NFHaQWd66hMZ"
   },
   "source": [
    "### Ejercicio 11"
   ]
  },
  {
   "cell_type": "markdown",
   "metadata": {
    "id": "6OV3MuJu6iXe"
   },
   "source": [
    "Crea una lista de 10 numeros cualesquiera y muestrala por pantalla. Pide al usuario que introduzca uno de ellos y eliminalo de la lista (supongamos que el usuario siempre introducirá un número válido). Muestra la lista resultante por pantalla:"
   ]
  },
  {
   "cell_type": "code",
   "execution_count": 4,
   "metadata": {
    "id": "m_5lQLx96wLg"
   },
   "outputs": [
    {
     "name": "stdout",
     "output_type": "stream",
     "text": [
      "[21, 30, 86, 26, 97, 41, 46, 69, 6, 11]\n",
      "[21, 30, 86, 26, 97, 41, 46, 6, 11]\n"
     ]
    }
   ],
   "source": [
    "import random as rd\n",
    "random_numbers = []\n",
    "for num in range(10):\n",
    "    num = rd.randint(1,100)\n",
    "    random_numbers.append(num)\n",
    "\n",
    "print(random_numbers)\n",
    "number = int(input(\"Introduce un número valido\"))\n",
    "random_numbers.remove(number)\n",
    "print(random_numbers)"
   ]
  },
  {
   "cell_type": "markdown",
   "metadata": {
    "id": "Bun0ONkM7BZG"
   },
   "source": [
    "### Ejercicio 12"
   ]
  },
  {
   "cell_type": "markdown",
   "metadata": {
    "id": "rGbk7qWB7C6r"
   },
   "source": [
    "Crea una lista con las estaciones del año. Pide al usuario que mencione la posición de una de ellas y elimínala de la lista. Muestra la lista resultante por pantalla:"
   ]
  },
  {
   "cell_type": "code",
   "execution_count": 10,
   "metadata": {
    "id": "tRwJ5fpq7LyS"
   },
   "outputs": [
    {
     "name": "stdout",
     "output_type": "stream",
     "text": [
      "['otoño', 'verano', 'primavera']\n"
     ]
    }
   ],
   "source": [
    "station_list = [\"otoño\", \"invierno\",\"verano\",\"primavera\"]\n",
    "try:\n",
    "    indice = int(input(\"introduce un índice\"))\n",
    "    station_list.pop(indice)\n",
    "    print(station_list)\n",
    "except Exception:\n",
    "    print(\"Índice no valido\")"
   ]
  },
  {
   "cell_type": "markdown",
   "metadata": {
    "id": "oXzjEBvy7MFr"
   },
   "source": [
    "### Ejercicio 13"
   ]
  },
  {
   "cell_type": "markdown",
   "metadata": {
    "id": "CzZuVYz57QzQ"
   },
   "source": [
    "Crea una lista de al menos 5 elementos. Pide al usuario que introduzca cualquier valor por teclado y añádelo como un nuevo elemento al final. Muestra la lista resultante por pantalla:"
   ]
  },
  {
   "cell_type": "code",
   "execution_count": 11,
   "metadata": {
    "id": "QtP1ro3_7bFN"
   },
   "outputs": [
    {
     "name": "stdout",
     "output_type": "stream",
     "text": [
      "['Pala', 'Fuente', 'calzado', 'Dinero', 'Cubo', 'Vacaciones']\n"
     ]
    }
   ],
   "source": [
    "elements = [\"Pala\", \"Fuente\", \"calzado\", \"Dinero\", \"Cubo\"]\n",
    "value = input(\"Itroduce un valor\")\n",
    "elements.append(value)\n",
    "print(elements)"
   ]
  },
  {
   "cell_type": "markdown",
   "metadata": {
    "id": "5SZaf2Xq2vz1"
   },
   "source": [
    "## Tuplas"
   ]
  },
  {
   "cell_type": "markdown",
   "metadata": {
    "id": "bZ5dGuBy231y"
   },
   "source": [
    "### Ejercicio 14"
   ]
  },
  {
   "cell_type": "markdown",
   "metadata": {
    "id": "Zrdp-f277gMr"
   },
   "source": [
    "Crea una tupla con los siguientes valores: \"Hola\", 34, 18.43, \"Azul\". Muestra su contenido por pantalla:"
   ]
  },
  {
   "cell_type": "code",
   "execution_count": 12,
   "metadata": {
    "id": "2WQVZAjy2zxP"
   },
   "outputs": [
    {
     "name": "stdout",
     "output_type": "stream",
     "text": [
      "('Hola', 34, 18.43, 'Azul')\n"
     ]
    }
   ],
   "source": [
    "my_tupla = (\"Hola\", 34, 18.43, \"Azul\")\n",
    "print(my_tupla)"
   ]
  },
  {
   "cell_type": "markdown",
   "metadata": {
    "id": "PECgbd-Q7vX6"
   },
   "source": [
    "### Ejercicio 15"
   ]
  },
  {
   "cell_type": "markdown",
   "metadata": {
    "id": "u1hLFjP17xDu"
   },
   "source": [
    "Crea una tupla con al menos 3 valores. Elimina uno cualquiera de ellos y muestra la tupla resultante por pantalla:"
   ]
  },
  {
   "cell_type": "code",
   "execution_count": 13,
   "metadata": {
    "id": "PRn6w09i75PZ"
   },
   "outputs": [
    {
     "name": "stdout",
     "output_type": "stream",
     "text": [
      "('Genial', 100, 51.43)\n"
     ]
    }
   ],
   "source": [
    "my_other_tupla = (\"Genial\", 100, 51.43, \"Rojo\")\n",
    "my_other_tupla = (\"Genial\", 100, 51.43) # No se puede borrar un valor de una tupla al ser inmutables, se tiene que crear otra tupla con los valores que quieras conservar\n",
    "print(my_other_tupla)"
   ]
  },
  {
   "cell_type": "markdown",
   "metadata": {
    "id": "psRuGUUQ20Lh"
   },
   "source": [
    "## Sets"
   ]
  },
  {
   "cell_type": "markdown",
   "metadata": {
    "id": "nW9pamHi221J"
   },
   "source": [
    "### Ejercicio 16"
   ]
  },
  {
   "cell_type": "markdown",
   "metadata": {
    "id": "YQXw-tsA79sS"
   },
   "source": [
    "Crea un set con los siguientes datos: \"azul\", \"rojo\", 32, 45.42, \"veinte\". Muestralo por pantalla:"
   ]
  },
  {
   "cell_type": "code",
   "execution_count": 14,
   "metadata": {
    "id": "7nP9B1gm23KR"
   },
   "outputs": [
    {
     "name": "stdout",
     "output_type": "stream",
     "text": [
      "{'azul', 32, 'rojo', 'veinte', 45.42}\n"
     ]
    }
   ],
   "source": [
    "my_set = {\"azul\", \"rojo\", 32, 45.42, \"veinte\"}\n",
    "print(my_set)"
   ]
  },
  {
   "cell_type": "markdown",
   "metadata": {
    "id": "mHKpXmMX8xaF"
   },
   "source": [
    "### Ejercicio 17"
   ]
  },
  {
   "cell_type": "markdown",
   "metadata": {
    "id": "5njs137u8y1m"
   },
   "source": [
    "Crea un set con al menos 5 datos de tu elección. Pide al usuario otro dato cualquiera y añádelo al set:"
   ]
  },
  {
   "cell_type": "code",
   "execution_count": 15,
   "metadata": {
    "id": "cuQDlYv09GZA"
   },
   "outputs": [
    {
     "name": "stdout",
     "output_type": "stream",
     "text": [
      "{'Jose', 'España', 'noviembre', 27, 1980}\n"
     ]
    }
   ],
   "source": [
    "my_other_set = {\"Jose\", 1980, \"noviembre\", 27}\n",
    "dato = input(\"Introduce un país\")\n",
    "my_other_set.add(dato)\n",
    "print(my_other_set)"
   ]
  },
  {
   "cell_type": "markdown",
   "metadata": {
    "id": "qaJJajlj9HRC"
   },
   "source": [
    "### Ejercicio 18"
   ]
  },
  {
   "cell_type": "markdown",
   "metadata": {
    "id": "jNwNlwgs9IUj"
   },
   "source": [
    "Crea un set con al menos 3 elementos y muestralo por pantalla. Pide al usuario que introduzca uno de los tres elementos por teclado. Añadelo al set y muestra su contenido por pantalla:"
   ]
  },
  {
   "cell_type": "code",
   "execution_count": 17,
   "metadata": {
    "id": "PWoKda8D9TZD"
   },
   "outputs": [
    {
     "name": "stdout",
     "output_type": "stream",
     "text": [
      "{27, 1980, 'Jose', 'noviembre'}\n"
     ]
    },
    {
     "data": {
      "text/plain": [
       "set"
      ]
     },
     "execution_count": 17,
     "metadata": {},
     "output_type": "execute_result"
    }
   ],
   "source": [
    "my_new_set = {\"Jose\", 1980, \"noviembre\", 27}\n",
    "dato = int(input(\"Introduce tu año de nacimiento\"))\n",
    "my_new_set.add(dato)\n",
    "print(my_new_set)\n",
    "type(my_new_set)"
   ]
  },
  {
   "cell_type": "markdown",
   "metadata": {
    "id": "DyFhK_3n2409"
   },
   "source": [
    "## Diccionarios"
   ]
  },
  {
   "cell_type": "markdown",
   "metadata": {
    "id": "7VbNEyNs26Dv"
   },
   "source": [
    "### Ejercicio 19"
   ]
  },
  {
   "cell_type": "markdown",
   "metadata": {
    "id": "hHTPN30Q9iRv"
   },
   "source": [
    "Crea un diccionario con los siguientes elementos:\n",
    "*   Nombre: Mikel\n",
    "*   Edad: 42\n",
    "*   Oficio: Profesor\n",
    "\n",
    "Muestra el contenido del diccionario por pantalla:"
   ]
  },
  {
   "cell_type": "code",
   "execution_count": 18,
   "metadata": {
    "id": "pkytlMfM26V2"
   },
   "outputs": [
    {
     "name": "stdout",
     "output_type": "stream",
     "text": [
      "{'Nombre': 'Mikel', 'Edad': 42, 'Oficio': 'Profesor'}\n"
     ]
    }
   ],
   "source": [
    "my_dict = {\"Nombre\":\"Mikel\",\n",
    "           \"Edad\": 42,\n",
    "           \"Oficio\":\"Profesor\"}\n",
    "print(my_dict)"
   ]
  },
  {
   "cell_type": "markdown",
   "metadata": {
    "id": "5L4khJzl93Ec"
   },
   "source": [
    "### Ejercicio 20"
   ]
  },
  {
   "cell_type": "markdown",
   "metadata": {
    "id": "qLWVwPh894NE"
   },
   "source": [
    "Añade la siguiente información al diccionario creado anteriormente:\n",
    "*   Coche: Ferrari\n",
    "\n",
    "Muestra el contenido del diccionario por pantalla:"
   ]
  },
  {
   "cell_type": "code",
   "execution_count": 19,
   "metadata": {
    "id": "VjnnfS9F-ck4"
   },
   "outputs": [
    {
     "name": "stdout",
     "output_type": "stream",
     "text": [
      "{'Nombre': 'Mikel', 'Edad': 42, 'Oficio': 'Profesor', 'Coche': 'Ferrari'}\n"
     ]
    }
   ],
   "source": [
    "my_dict[\"Coche\"] = \"Ferrari\"\n",
    "print(my_dict)"
   ]
  },
  {
   "cell_type": "markdown",
   "metadata": {
    "id": "EjXCVVG4-dCM"
   },
   "source": [
    "Elimina la información referente a la edad del diccionario creado anteriormente y muestra su contenido por pantalla:"
   ]
  },
  {
   "cell_type": "code",
   "execution_count": 20,
   "metadata": {
    "id": "ZWsbHTdA-ySU"
   },
   "outputs": [
    {
     "name": "stdout",
     "output_type": "stream",
     "text": [
      "{'Nombre': 'Mikel', 'Oficio': 'Profesor', 'Coche': 'Ferrari'}\n"
     ]
    }
   ],
   "source": [
    "del my_dict[\"Edad\"]\n",
    "print(my_dict)"
   ]
  },
  {
   "cell_type": "markdown",
   "metadata": {
    "id": "KoSKD-_i-y5s"
   },
   "source": [
    "### Ejercicio 21"
   ]
  },
  {
   "cell_type": "markdown",
   "metadata": {
    "id": "kbWwVQrq-0QX"
   },
   "source": [
    "Modifica el coche introducido anteriormente por un \"Dacia\" y muestralo por pantalla:"
   ]
  },
  {
   "cell_type": "code",
   "execution_count": 21,
   "metadata": {
    "id": "-wwdaGTa_GaU"
   },
   "outputs": [
    {
     "name": "stdout",
     "output_type": "stream",
     "text": [
      "{'Nombre': 'Mikel', 'Oficio': 'Profesor', 'Coche': 'Dacia'}\n"
     ]
    }
   ],
   "source": [
    "my_dict[\"Coche\"] = \"Dacia\"\n",
    "print(my_dict)"
   ]
  },
  {
   "cell_type": "markdown",
   "metadata": {
    "id": "CSKhiKP9_HDz"
   },
   "source": [
    "### Ejercicio 22"
   ]
  },
  {
   "cell_type": "markdown",
   "metadata": {
    "id": "RNMRPfz2_IMH"
   },
   "source": [
    "Muestra por pantalla por un lado las claves del diccionario creado y por otro los valores del mismo:"
   ]
  },
  {
   "cell_type": "code",
   "execution_count": 22,
   "metadata": {
    "id": "yBxDKOue_QnH"
   },
   "outputs": [
    {
     "name": "stdout",
     "output_type": "stream",
     "text": [
      "dict_keys(['Nombre', 'Oficio', 'Coche'])\n"
     ]
    },
    {
     "data": {
      "text/plain": [
       "dict_values(['Mikel', 'Profesor', 'Dacia'])"
      ]
     },
     "execution_count": 22,
     "metadata": {},
     "output_type": "execute_result"
    }
   ],
   "source": [
    "print(my_dict.keys())\n",
    "my_dict.values()"
   ]
  },
  {
   "cell_type": "markdown",
   "metadata": {
    "id": "ttJWYXKp26ya"
   },
   "source": [
    "---\n",
    "# Estructuras de control"
   ]
  },
  {
   "cell_type": "markdown",
   "metadata": {
    "id": "pT8SEt2G2_fM"
   },
   "source": [
    "## If .. else"
   ]
  },
  {
   "cell_type": "markdown",
   "metadata": {
    "id": "y5qmNJ5B3B7q"
   },
   "source": [
    "### Ejercicio 23"
   ]
  },
  {
   "cell_type": "markdown",
   "metadata": {
    "id": "3r5qMEJQEOQK"
   },
   "source": [
    "Pide al usuario un número de entrada. En caso de ser mayor que 10 muestra el mensaje \"Es mayor que 10!\":"
   ]
  },
  {
   "cell_type": "code",
   "execution_count": 23,
   "metadata": {
    "id": "JpAuxDGC3CQA"
   },
   "outputs": [
    {
     "name": "stdout",
     "output_type": "stream",
     "text": [
      "Es mayor que 10\n"
     ]
    }
   ],
   "source": [
    "num = int(input(\"Introduce un número\"))\n",
    "if num > 10:\n",
    "    print(\"Es mayor que 10\")\n",
    "elif num < 10:\n",
    "    print(\"Es menor que 10\")\n",
    "else:\n",
    "    print(\"El número es igual a 10\")"
   ]
  },
  {
   "cell_type": "markdown",
   "metadata": {
    "id": "SPmS9QHaJnGA"
   },
   "source": [
    "### Ejercicio 24"
   ]
  },
  {
   "cell_type": "markdown",
   "metadata": {
    "id": "vFJXByGrHldZ"
   },
   "source": [
    "Pide al usuario un texto de entrada. Comprueba su longitud e indica si es mayor o menor de 20 caracteres. En caso de contar con 20 caracteres muestra el mensaje \"PERFECT!\":"
   ]
  },
  {
   "cell_type": "code",
   "execution_count": 24,
   "metadata": {
    "id": "P1eucwQGH66K"
   },
   "outputs": [
    {
     "name": "stdout",
     "output_type": "stream",
     "text": [
      "La cadena es menor de 20 caracteres\n"
     ]
    }
   ],
   "source": [
    "cadena = input(\"Introduce una cadena de texto\")\n",
    "if len(cadena) == 20 :\n",
    "    print(\"PERFECT\")\n",
    "elif len(cadena) > 20 :\n",
    "    print(\"La cadena es mayor de 20 caracteres\")\n",
    "else:\n",
    "    print(\"La cadena es menor de 20 caracteres\")"
   ]
  },
  {
   "cell_type": "markdown",
   "metadata": {
    "id": "oZPAxDC5JqFn"
   },
   "source": [
    "### Ejercicio 25"
   ]
  },
  {
   "cell_type": "markdown",
   "metadata": {
    "id": "0_mT-nPpH7Yb"
   },
   "source": [
    "Pide al usuario un número de entrada. Primero comprueba que sea un número, en caso de ser un texto muestra el mensaje \"Esto no es un número\". Si es un número, comprueba si es mayor o menor que 10 e indícalo por pantalla:"
   ]
  },
  {
   "cell_type": "code",
   "execution_count": 30,
   "metadata": {
    "id": "1nThVqaEIGqg"
   },
   "outputs": [
    {
     "name": "stdout",
     "output_type": "stream",
     "text": [
      "El número es mayor que 10\n"
     ]
    }
   ],
   "source": [
    "try:\n",
    "\n",
    "    numero = int(input(\"Introduce un número entero\"))\n",
    "    if numero > 10 :\n",
    "        print(\"El número es mayor que 10\")\n",
    "    elif numero < 10 :\n",
    "        print(\"El número es menor que 10\")\n",
    "    else:\n",
    "        print(\"El número es igual a 10\")\n",
    "except Exception:\n",
    "     print(\"Esto no es un número entero\")"
   ]
  },
  {
   "cell_type": "markdown",
   "metadata": {
    "id": "R0cE_A5tJrZK"
   },
   "source": [
    "### Ejercicio 26"
   ]
  },
  {
   "cell_type": "markdown",
   "metadata": {
    "id": "Omg2m_QvIOZ_"
   },
   "source": [
    "Pide al usuario un número e indica en cual de los siguientes intérvalos cae:\n",
    "*   x < 0\n",
    "*   0 <= x <= 10\n",
    "*   10 < x"
   ]
  },
  {
   "cell_type": "code",
   "execution_count": 31,
   "metadata": {
    "id": "4mOybtnwIfUz"
   },
   "outputs": [
    {
     "name": "stdout",
     "output_type": "stream",
     "text": [
      "Tercer intervalo\n"
     ]
    }
   ],
   "source": [
    "x = int(input(\"Introduce un número\"))\n",
    "if x < 0 :\n",
    "    print(\"Primer intervalo\")\n",
    "elif x >= 0 and x <=10 :\n",
    "    print(\"Segundo intervalo\")\n",
    "else:\n",
    "    print(\"Tercer intervalo\")"
   ]
  },
  {
   "cell_type": "markdown",
   "metadata": {
    "id": "NZXiMWie3EMY"
   },
   "source": [
    "## while"
   ]
  },
  {
   "cell_type": "markdown",
   "metadata": {
    "id": "0cpVqBkDJtID"
   },
   "source": [
    "### Ejercicio 27"
   ]
  },
  {
   "cell_type": "markdown",
   "metadata": {
    "id": "KIuuex8F3HSW"
   },
   "source": [
    "Pide al usuario que introduzca números y muestralos por pantalla hasta que introduzca un 0:"
   ]
  },
  {
   "cell_type": "code",
   "execution_count": 32,
   "metadata": {
    "id": "o5hbakNGIwga"
   },
   "outputs": [
    {
     "name": "stdout",
     "output_type": "stream",
     "text": [
      "5\n",
      "15\n",
      "25\n",
      "62\n",
      "0\n",
      "Fin has introducido 0\n"
     ]
    }
   ],
   "source": [
    "numbers = 1\n",
    "while(numbers !=0):\n",
    "    numbers = int(input(\"Introduce un número\"))\n",
    "    print(numbers)\n",
    "\n",
    "print(\"Fin has introducido 0\")"
   ]
  },
  {
   "cell_type": "markdown",
   "metadata": {
    "id": "3eyOan8nJuav"
   },
   "source": [
    "### Ejercicio 28"
   ]
  },
  {
   "cell_type": "markdown",
   "metadata": {
    "id": "Z40hI6GbIxMz"
   },
   "source": [
    "Pide al usuario que introduzca números hasta que la suma de todos ellos supere el número 100:"
   ]
  },
  {
   "cell_type": "code",
   "execution_count": 35,
   "metadata": {
    "id": "GsWv8_jP3Hpd"
   },
   "outputs": [
    {
     "name": "stdout",
     "output_type": "stream",
     "text": [
      "La suma total asciende ha:  105\n"
     ]
    }
   ],
   "source": [
    "suma = 0\n",
    "\n",
    "while(suma <= 100):\n",
    "    number = int(input(\"Introduce un número\"))\n",
    "    suma +=number\n",
    "    \n",
    "\n",
    "print(\"La suma total asciende ha: \", suma)"
   ]
  },
  {
   "cell_type": "markdown",
   "metadata": {
    "id": "ZtVw6LIeJwHq"
   },
   "source": [
    "### Ejercicio 29"
   ]
  },
  {
   "cell_type": "markdown",
   "metadata": {
    "id": "OzhmWAWUI30L"
   },
   "source": [
    "Pide al usuario que introduzca números hasta que introduzca un 0. En caso de que la suma de los números introducidos supere el valor 100 sal del bucle de manera forzada:"
   ]
  },
  {
   "cell_type": "code",
   "execution_count": 37,
   "metadata": {
    "id": "Rxb8AFU4JEEe"
   },
   "outputs": [
    {
     "name": "stdout",
     "output_type": "stream",
     "text": [
      "La suma total asciende ha:  125\n"
     ]
    }
   ],
   "source": [
    "suma = 0\n",
    "number = 1\n",
    "while(number != 0):\n",
    "    number = int(input(\"Introduce un número\"))\n",
    "    suma +=number\n",
    "    \n",
    "    if suma > 100 :\n",
    "        break\n",
    "\n",
    "print(\"La suma total asciende ha: \", suma)"
   ]
  },
  {
   "cell_type": "markdown",
   "metadata": {
    "id": "kbde3j5XJxnG"
   },
   "source": [
    "### Ejercicio 30"
   ]
  },
  {
   "cell_type": "markdown",
   "metadata": {
    "id": "0y1cLTp8JEj0"
   },
   "source": [
    "Pide al usuario que introduzca números cada vez mayores en cada iteración. Si introduce un número igual o menor que el anterior termina el bucle. Además, el usuario siempre tendrá la opción de forzar el final del bucle mediante el valor 0. En caso de haber terminado el bucle correctamente (sin ser forzado), muestra el mensaje \"END\":"
   ]
  },
  {
   "cell_type": "code",
   "execution_count": null,
   "metadata": {
    "id": "zZamBG0LJgPU"
   },
   "outputs": [
    {
     "name": "stdout",
     "output_type": "stream",
     "text": [
      "END\n"
     ]
    }
   ],
   "source": [
    "\n",
    "previous_number = 1\n",
    "number = int(input(\"Introduce un número\"))\n",
    "while(number != previous_number and number > previous_number or number == 0):\n",
    "    if number == 0 :\n",
    "        print(\"Bucle forzado\")\n",
    "        break\n",
    "    previous_number = number\n",
    "    number = int(input(\"Introduce un número\"))\n",
    "    \n",
    "if number != 0:\n",
    "    print(\"END\")"
   ]
  },
  {
   "cell_type": "markdown",
   "metadata": {
    "id": "NXBztsTS3H-n"
   },
   "source": [
    "## for"
   ]
  },
  {
   "cell_type": "markdown",
   "metadata": {
    "id": "pWRwCYQEJztb"
   },
   "source": [
    "### Ejercicio 31"
   ]
  },
  {
   "cell_type": "markdown",
   "metadata": {
    "id": "ryt_v4h_3K9C"
   },
   "source": [
    "Muestra por pantalla todos los números del 1 al 10:"
   ]
  },
  {
   "cell_type": "code",
   "execution_count": 48,
   "metadata": {
    "id": "eZDxNRHR3LSe"
   },
   "outputs": [
    {
     "name": "stdout",
     "output_type": "stream",
     "text": [
      "1\n",
      "2\n",
      "3\n",
      "4\n",
      "5\n",
      "6\n",
      "7\n",
      "8\n",
      "9\n",
      "10\n"
     ]
    }
   ],
   "source": [
    "for num in range(1,11):\n",
    "    print(num)"
   ]
  },
  {
   "cell_type": "markdown",
   "metadata": {
    "id": "QlHTctAeJ8yB"
   },
   "source": [
    "### Ejercicio 32"
   ]
  },
  {
   "cell_type": "markdown",
   "metadata": {
    "id": "wQ9SFaOnJ9_g"
   },
   "source": [
    "Muestra por pantalla la siguiente estructura numérica:\n",
    "\n",
    "*   12345\n",
    "*   12345\n",
    "*   12345\n",
    "*   12345\n",
    "*   12345"
   ]
  },
  {
   "cell_type": "code",
   "execution_count": 49,
   "metadata": {
    "id": "VKyghblCKEfJ"
   },
   "outputs": [
    {
     "name": "stdout",
     "output_type": "stream",
     "text": [
      "12345\n",
      "12345\n",
      "12345\n",
      "12345\n",
      "12345\n"
     ]
    }
   ],
   "source": [
    "num = 12345\n",
    "for x in range(0,5):\n",
    "    print(num)"
   ]
  },
  {
   "cell_type": "markdown",
   "metadata": {
    "id": "aNbjP694KExa"
   },
   "source": [
    "### Ejercicio 33"
   ]
  },
  {
   "cell_type": "markdown",
   "metadata": {
    "id": "eiiufAt0KFkz"
   },
   "source": [
    "Muestra por pantalla la siguiente estructura numérica:\n",
    "*   1\n",
    "*   12\n",
    "*   123\n",
    "*   1234\n",
    "*   12345"
   ]
  },
  {
   "cell_type": "code",
   "execution_count": 52,
   "metadata": {
    "id": "oaqe7pC6KKyN"
   },
   "outputs": [
    {
     "name": "stdout",
     "output_type": "stream",
     "text": [
      "1\n",
      "12\n",
      "123\n",
      "1234\n",
      "12345\n"
     ]
    }
   ],
   "source": [
    "num = 1\n",
    "datos = str(num)\n",
    "for x in range(0,5):\n",
    "    print(datos)\n",
    "    num+=1\n",
    "    datos = datos + str(num)"
   ]
  },
  {
   "cell_type": "markdown",
   "metadata": {
    "id": "ADeKfeevKLNn"
   },
   "source": [
    "### Ejercicio 34"
   ]
  },
  {
   "cell_type": "markdown",
   "metadata": {
    "id": "UrG5xMmjKMDK"
   },
   "source": [
    "Muestra por pantalla la siguiente estructura numérica:\n",
    "*   5\n",
    "*   54\n",
    "*   5432\n",
    "*   54321"
   ]
  },
  {
   "cell_type": "code",
   "execution_count": 53,
   "metadata": {
    "id": "lazIcmCVKTZl"
   },
   "outputs": [
    {
     "name": "stdout",
     "output_type": "stream",
     "text": [
      "5\n",
      "54\n",
      "543\n",
      "5432\n",
      "54321\n"
     ]
    }
   ],
   "source": [
    "num = 5\n",
    "datos = str(num)\n",
    "for x in range(0,5):\n",
    "    print(datos)\n",
    "    num-=1\n",
    "    datos = datos + str(num)"
   ]
  },
  {
   "cell_type": "markdown",
   "metadata": {
    "id": "x6MOHliMKiu9"
   },
   "source": [
    "### Ejercicio 35"
   ]
  },
  {
   "cell_type": "markdown",
   "metadata": {
    "id": "DEXpNY1tKknm"
   },
   "source": [
    "Recorre todos los elementos del diccionario \"cars\" y muestra aquellos que su clave empiece por la letra \"S\" o que el coche empiece por la letra \"M\". El bucle termina de manera forzada si encuentra algún coche que empiece por la letra \"C\":"
   ]
  },
  {
   "cell_type": "code",
   "execution_count": 54,
   "metadata": {
    "id": "21W9HDipK_NF"
   },
   "outputs": [
    {
     "name": "stdout",
     "output_type": "stream",
     "text": [
      "Seat\n",
      "M3\n"
     ]
    }
   ],
   "source": [
    "cars = {\n",
    "    \"Ford\": \"Fiesta\",\n",
    "    \"BMW\": \"M3\",\n",
    "    \"Seat\": \"Ibiza\",\n",
    "    \"Citroen\": \"C3\",\n",
    "    \"Nissan\": \"Micra\"\n",
    "}\n",
    "\n",
    "for car in cars:\n",
    "    if car.startswith(\"S\"):\n",
    "        print(car)\n",
    "\n",
    "for name in cars.values():\n",
    "    if name.startswith(\"M\"):\n",
    "        print(name)\n",
    "    elif name.startswith(\"C\"):\n",
    "        break"
   ]
  },
  {
   "cell_type": "markdown",
   "metadata": {
    "id": "prLAhO0C3aCd"
   },
   "source": [
    "---\n",
    "# Funciones"
   ]
  },
  {
   "cell_type": "markdown",
   "metadata": {
    "id": "1GDIiryw3cXm"
   },
   "source": [
    "### Ejercicio 36"
   ]
  },
  {
   "cell_type": "markdown",
   "metadata": {
    "id": "Lfw6Edw-OKVg"
   },
   "source": [
    "Define una función que acepte un texto de entrada y devuelva la cantidad de vocales que contiene:"
   ]
  },
  {
   "cell_type": "code",
   "execution_count": 56,
   "metadata": {
    "id": "AzScrsN33cll"
   },
   "outputs": [
    {
     "name": "stdout",
     "output_type": "stream",
     "text": [
      "Las vocales del texto son 6\n"
     ]
    }
   ],
   "source": [
    "def count_vocals(cad:str):\n",
    "    vocals = \"AEIOU\"\n",
    "    contador = 0\n",
    "    for cadena in cad.upper():\n",
    "        if cadena in vocals:\n",
    "            contador+=1\n",
    "    return contador\n",
    "\n",
    "texto = count_vocals(\"Hola mis alumnos\")\n",
    "print(f\"Las vocales del texto son {texto}\")"
   ]
  },
  {
   "cell_type": "markdown",
   "metadata": {
    "id": "dipy029zObp6"
   },
   "source": [
    "### Ejercicio 37"
   ]
  },
  {
   "cell_type": "markdown",
   "metadata": {
    "id": "IOjdcJKIOcq0"
   },
   "source": [
    "Define una función que acepte una lista como parámetro y muestre por pantalla la cantidad de vocales contenidas en los textos incluidos en la lista:"
   ]
  },
  {
   "cell_type": "code",
   "execution_count": 57,
   "metadata": {
    "id": "O4T-lkm2PXrl"
   },
   "outputs": [
    {
     "name": "stdout",
     "output_type": "stream",
     "text": [
      "Las vocales del listado son 10\n"
     ]
    }
   ],
   "source": [
    "def vocals_list (lista:list):\n",
    "    vocals = \"AEIOU\"\n",
    "    contador = 0\n",
    "    for my_list in lista:\n",
    "        for texto in my_list.upper():\n",
    "            if texto in vocals:\n",
    "                contador +=1\n",
    "    return contador\n",
    "\n",
    "listado = [\"Hola\", \"Amigos\", \"Bienvenidos\"]\n",
    "vocals = vocals_list(listado)\n",
    "print(f\"Las vocales del listado son {vocals}\")"
   ]
  },
  {
   "cell_type": "markdown",
   "metadata": {
    "id": "jjLNiD5gPw_k"
   },
   "source": [
    "### Ejercicio 38"
   ]
  },
  {
   "cell_type": "markdown",
   "metadata": {
    "id": "HnxroRbqPZ49"
   },
   "source": [
    "Define una función que acepte un diccionario como entrada y muestre todos sus contenidos por pantalla:"
   ]
  },
  {
   "cell_type": "code",
   "execution_count": 58,
   "metadata": {
    "id": "Y2LKzjROPebS"
   },
   "outputs": [
    {
     "name": "stdout",
     "output_type": "stream",
     "text": [
      "{'Name': 'Jose', 'Age': 44, 'City': 'Valladolid'}\n"
     ]
    }
   ],
   "source": [
    "def content_dict (value:dict):\n",
    "    print(value)\n",
    "\n",
    "user = {\"Name\": \"Jose\",\n",
    "        \"Age\" : 44,\n",
    "        \"City\" : \"Valladolid\"}\n",
    "\n",
    "content_dict(user)    "
   ]
  },
  {
   "cell_type": "markdown",
   "metadata": {
    "id": "quNOUOafPzHq"
   },
   "source": [
    "### Ejercicio 39"
   ]
  },
  {
   "cell_type": "markdown",
   "metadata": {
    "id": "tZawmSiFPhvW"
   },
   "source": [
    "Define una función que acepte dos parámetros numéricos pero que cada uno de ellos tenga un valor predefinido en caso de no ser recibido. Dicha función devolverá la suma de los dos parámetros recibidos:"
   ]
  },
  {
   "cell_type": "code",
   "execution_count": 60,
   "metadata": {
    "id": "4cJC1eESPvfF"
   },
   "outputs": [
    {
     "name": "stdout",
     "output_type": "stream",
     "text": [
      "La suma de los valores es 8\n",
      "La suma de los valores es 62\n"
     ]
    }
   ],
   "source": [
    "def sum_two_values(num1=5, num2=3):\n",
    "    return num1 + num2\n",
    "\n",
    "print(f\"La suma de los valores es {sum_two_values()}\")\n",
    "print(f\"La suma de los valores es {sum_two_values(52,10)}\")"
   ]
  },
  {
   "cell_type": "markdown",
   "metadata": {
    "id": "w6V51OuK3gdA"
   },
   "source": [
    "---\n",
    "# Programación Orientada a Objetos"
   ]
  },
  {
   "cell_type": "markdown",
   "metadata": {
    "id": "jjrn-cEdRQPE"
   },
   "source": [
    "### Ejercicio 40"
   ]
  },
  {
   "cell_type": "markdown",
   "metadata": {
    "id": "iuPSKdHm3jLa"
   },
   "source": [
    "Define una clase \"forma\" que cuente con los atributos \"longitud_lados\" (una lista con la medida numérica de sus lados) y \"nombre\". Además, define que en el constructor se tengan que pasar estos valores.\n",
    "Después define una clase \"triangulo_rectángulo\" que extienda de la clase \"forma\" y que defina la función \"area\" que calcule su área:"
   ]
  },
  {
   "cell_type": "code",
   "execution_count": 64,
   "metadata": {
    "id": "usoPSahh3jbB"
   },
   "outputs": [
    {
     "name": "stdout",
     "output_type": "stream",
     "text": [
      "El area del triangulo de nombre Josete es: 125.0\n"
     ]
    }
   ],
   "source": [
    "class Forma:\n",
    "    def __init__(self, longitud_lados:list, nombre:str):\n",
    "        self.longitud_lados = longitud_lados\n",
    "        self.nombre = nombre\n",
    "\n",
    "class Triangulo_Rectangulo(Forma):\n",
    "    \n",
    "    def area(self):\n",
    "        if len(self.longitud_lados) < 2 :\n",
    "            raise ValueError(\"Error se necesitan al menos dos lados para poder calcular\")\n",
    "        cateto1 = self.longitud_lados[0]\n",
    "        cateto2 = self.longitud_lados[1]\n",
    "        return (cateto1*cateto2)/2\n",
    "\n",
    "frist_side = int(input(\"Itroduce la longitud del primer lado\"))\n",
    "second_side = int(input(\"Itroduce la longitud del segundo lado\"))\n",
    "name_triangle = input(\"Introduce el nombre del triangulo\")\n",
    "my_triangle = Triangulo_Rectangulo([frist_side,second_side], name_triangle)\n",
    "print(f\"El area del triangulo de nombre {my_triangle.nombre} es: {my_triangle.area()}\")"
   ]
  }
 ],
 "metadata": {
  "colab": {
   "authorship_tag": "ABX9TyOMsM+p9WyCyMR2o2y43Tci",
   "name": "01-Python_ejercicios_basicos.ipynb",
   "provenance": []
  },
  "kernelspec": {
   "display_name": "env",
   "language": "python",
   "name": "python3"
  },
  "language_info": {
   "codemirror_mode": {
    "name": "ipython",
    "version": 3
   },
   "file_extension": ".py",
   "mimetype": "text/x-python",
   "name": "python",
   "nbconvert_exporter": "python",
   "pygments_lexer": "ipython3",
   "version": "3.11.9"
  }
 },
 "nbformat": 4,
 "nbformat_minor": 0
}
